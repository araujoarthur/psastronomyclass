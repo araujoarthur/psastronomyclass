{
 "cells": [
  {
   "cell_type": "markdown",
   "metadata": {},
   "source": [
    "# Assignment #1 - Astronomia de Sistemas Planetários\n",
    "\n",
    "Arthur Araujo Galdino dos Santos\n",
    "\n",
    "Disponível em: https://github.com/araujoarthur/psastronomyclass/blob/main/A1/V3/A1V4.ipynb\n",
    "\n",
    "Porque a inclinação do plano orbital e a longitude do nodo ascendente são iguais as 0 no dado disponibilizado, as coordenadas tem sinal invertido em relação as fornecidas por sistemas de calculo de dados. Por este motivo há um segundo arquivo que usa omega = 180.378 e i ~ 0.0067 que pode ser encontrado [aqui](https://github.com/araujoarthur/psastronomyclass/blob/main/A1/V3/A1V4EarthModifiedANL-INCL.ipynb)"
   ]
  },
  {
   "cell_type": "markdown",
   "metadata": {},
   "source": [
    "### Tabela de Elementos Orbitais e Posições\n",
    "\n",
    "![Tabela](StandaloneDataTable.png)\n",
    "\n",
    "### Plot Polar:\n",
    "\n",
    "![Plot](COMPUTEDDATAPLOTPOL.png)"
   ]
  },
  {
   "cell_type": "code",
   "execution_count": 36,
   "metadata": {},
   "outputs": [],
   "source": [
    "using DataFrames, PlotlyJS, Statistics\n",
    "const au = 149597870700.0\n",
    ";"
   ]
  },
  {
   "cell_type": "markdown",
   "metadata": {},
   "source": [
    "### Utility Functions"
   ]
  },
  {
   "cell_type": "code",
   "execution_count": 37,
   "metadata": {},
   "outputs": [
    {
     "data": {
      "text/plain": [
       "b"
      ]
     },
     "execution_count": 37,
     "metadata": {},
     "output_type": "execute_result"
    }
   ],
   "source": [
    "\"\"\"\n",
    "arcCorrection(::Float64) : Float64\n",
    "\n",
    "Receives an arc and return it if smaller than or equal to 360°, else returns the ARC % 360 in degrees.\n",
    "\n",
    "[Suboptimal. Won't solve problems like ARC < 0. But works for this assignment.]\n",
    "\"\"\"\n",
    "function arcCorrection(ARC::Float64)\n",
    "    if ARC >= 360.0\n",
    "        return mod(ARC,360.0)\n",
    "    else\n",
    "        return Float64(ARC)\n",
    "    end\n",
    "end\n",
    "\"\"\"\n",
    "tt(::Integer, ::Integer, ::Integer, ::Integer, ::Integer) : Float64\n",
    "\n",
    "Receives a day value, a month value, an year value, an hour value and a minute value and outputs it in days.\n",
    "\"\"\"\n",
    "function tt(d::Integer, m::Integer, y::Integer, h::Integer, mm::Integer) # \\isanst\n",
    "    return 367 * y - floor(7*(y + ((m+9)/12) )/4) + floor(275*m/9) + d - 730530 + h/24 + mm/1440\n",
    "end\n",
    "\n",
    "\"\"\"\n",
    "E(::Float64, ::Float64, [::Float64]) : Float64\n",
    "\n",
    "Receives the mean anomaly, the eccentricity and optionally [for recursive use] the Ẽ value, all in degrees.\n",
    "Outputs an eccentric anomaly value in degrees.\n",
    "\"\"\"\n",
    "function E(M::Float64, EC::Float64, Ẽ::Float64=M)\n",
    "    M_rad = deg2rad(M)\n",
    "    Ẽ_rad = deg2rad(Ẽ)\n",
    "\n",
    "    ΔE_rad = ((M_rad - Ẽ_rad) + EC * sin(Ẽ_rad))/(1 - (EC * cos(Ẽ_rad))) \n",
    "    E_deg = rad2deg(Ẽ_rad + ΔE_rad)\n",
    "\n",
    "    if abs(ΔE_rad) > 5E-6\n",
    "        return E(M, EC, E_deg)\n",
    "    else\n",
    "        return E_deg\n",
    "    end\n",
    "end\n",
    "\n",
    "\"\"\"\n",
    "ν(::Float64, ::Float64) : Float64\n",
    "\n",
    "Receives the eccentricity and the eccentric anomaly in degrees and return the true anomaly in degrees.\n",
    "\"\"\"\n",
    "function ν(EC::Float64, E::Float64)\n",
    "    return 2 * atand(sqrt((1 + EC)/(1 - EC))*tand(E/2))\n",
    "end\n",
    "\n",
    "\"\"\"\n",
    "polarReferentialFix(::Float64) : Float64\n",
    "\n",
    "Receives an angle and return it's equivalent counter clock-wise.\n",
    "[Not optimal, won't solve problems like congruent angles (<360), but works for this assignment]\n",
    "\"\"\"\n",
    "function polarReferentialFix(ang::Float64)\n",
    "    if 0 > ang\n",
    "        return 360 + ang\n",
    "    else\n",
    "        return ang\n",
    "    end\n",
    "end\n",
    "\n",
    "\"\"\"\n",
    "sunDistance(::Float64, ::Float64, ::Float64) : Float64\n",
    "\n",
    "Receives Major SemiAxis, Eccentricity and True Anomaly (the former in metters, the others in degrees) to output the distance between the sun and the body.\n",
    "\"\"\"\n",
    "function sunDistance(MSA::Float64, EC::Float64, ν::Float64)\n",
    "    return (MSA * (1 - EC^2))/(1 + EC * cosd(ν)) \n",
    "end\n",
    "\n",
    "\n",
    "\"\"\"\n",
    "cartesian_X(::Float64, ::Float64, ::Float64, ::Float64) : Float64\n",
    "\n",
    "Receives the distance between the Sun and the given body (R), the longitude of the ascending node (Ω), the perihelion argument (ω), \\n\n",
    "the true anomaly (v) and the tilt relative to the ecliptic (i) and outputs the rectangular coordinate X.\n",
    "\"\"\"\n",
    "function cartesian_X(R::Float64, Ω::Float64, ω::Float64, v::Float64, i::Float64)\n",
    "    return (R * ( ( cosd(Ω) * (cosd(ω + v)) ) - ( sind(Ω) * (sind(ω + v)) * cosd(i) ) ))\n",
    "end\n",
    "\n",
    "\"\"\"\n",
    "cartesian_Y(::Float64, ::Float64, ::Float64, ::Float64) : Float64\n",
    "\n",
    "Receives the distance between the Sun and the given body (R), the longitude of the ascending node (Ω), the perihelion argument (ω), \\n\n",
    "the true anomaly (ν) and the tilt relative to the ecliptic (i) and outputs the rectangular coordinate Y.\n",
    "\"\"\"\n",
    "function cartesian_Y(R::Float64, Ω::Float64, ω::Float64, ν::Float64, i::Float64)\n",
    "    return R * ((sind(Ω) * cosd(ω + ν)) + (cosd(Ω) * sind(ω + ν) * cosd(i)))\n",
    "end\n",
    "\n",
    "\"\"\"\n",
    "cartesian_Z(::Float64, ::Float64, ::Float64, ::Float64)\n",
    "\n",
    "Receives the distance between the Sun and the given body (R), the perihelion argument (ω), the true anomaly (ν) and the ∇\n",
    "tilt relative to the ecliptic (i) and outputs the rectangular coordinate Z.\n",
    "\"\"\"\n",
    "function cartesian_Z(R::Float64, ω::Float64, ν::Float64, i::Float64)\n",
    "    return R * sind(ω + ν) * sind(i)\n",
    "end\n",
    "\n",
    "\"\"\"\n",
    "ℓ(::Float64, ::Float64) : Float64\n",
    "\n",
    "Receives the X and Y coordinates and outputs the ecliptic longitude ℓ in degrees (polar coordinates centered on the Sun) based on y sign.\n",
    "\"\"\"\n",
    "function ℓ(XX::Float64, YY::Float64)\n",
    "   return atand(YY, XX) \n",
    "end\n",
    "\n",
    "\"\"\"\n",
    "Receives the X, Y and X coordinates and outputs the ecliptic latitude b in degrees.\n",
    "\"\"\"\n",
    "function b(XX::Float64, YY::Float64, ZZ::Float64)\n",
    "    return atand((ZZ)/(sqrt((XX^2) + (YY^2))))\n",
    "end\n",
    "\n"
   ]
  },
  {
   "cell_type": "code",
   "execution_count": 38,
   "metadata": {},
   "outputs": [
    {
     "data": {
      "text/plain": [
       "Neptune (generic function with 1 method)"
      ]
     },
     "execution_count": 38,
     "metadata": {},
     "output_type": "execute_result"
    }
   ],
   "source": [
    "function Mercury(t)\n",
    "    mercuryDict = Dict()\n",
    "    mercuryDict[\"PLANET\"] = \"Mercury\"\n",
    "    mercuryDict[\"Ω\"] = 48.3313 + 3.24587E-5 * t\n",
    "    mercuryDict[\"i\"] = 7.0047 + 5.00E-8 * t\n",
    "    mercuryDict[\"ω\"] = 29.1241 + 1.01444E-5 * t\n",
    "    mercuryDict[\"a\"] = 0.387098*au\n",
    "    mercuryDict[\"e\"] = 0.205635 + 5.59E-10 * t\n",
    "    mercuryDict[\"M\"] = arcCorrection(168.6562 + 4.0923344368 * t)\n",
    "    mercuryDict[\"E\"] = arcCorrection(E(mercuryDict[\"M\"], mercuryDict[\"e\"]))\n",
    "    mercuryDict[\"ν\"] = polarReferentialFix(ν(mercuryDict[\"e\"], mercuryDict[\"E\"]))\n",
    "    mercuryDict[\"Dist_Sun\"] = sunDistance(mercuryDict[\"a\"], mercuryDict[\"e\"], mercuryDict[\"ν\"])\n",
    "    mercuryDict[\"X_COORD\"] = cartesian_X(mercuryDict[\"Dist_Sun\"], mercuryDict[\"Ω\"], mercuryDict[\"ω\"], mercuryDict[\"ν\"], mercuryDict[\"i\"])\n",
    "    mercuryDict[\"Y_COORD\"] = cartesian_Y(mercuryDict[\"Dist_Sun\"], mercuryDict[\"Ω\"], mercuryDict[\"ω\"], mercuryDict[\"ν\"], mercuryDict[\"i\"])\n",
    "    mercuryDict[\"Z_COORD\"] = cartesian_Z(mercuryDict[\"Dist_Sun\"], mercuryDict[\"ω\"], mercuryDict[\"ν\"], mercuryDict[\"i\"])\n",
    "    mercuryDict[\"ℓ\"] = ℓ(mercuryDict[\"X_COORD\"], mercuryDict[\"Y_COORD\"])\n",
    "    mercuryDict[\"ℓ_corr\"] = polarReferentialFix(ℓ(mercuryDict[\"X_COORD\"], mercuryDict[\"Y_COORD\"]))\n",
    "    mercuryDict[\"b\"] = b(mercuryDict[\"X_COORD\"], mercuryDict[\"Y_COORD\"], mercuryDict[\"Z_COORD\"])\n",
    "\n",
    "    return mercuryDict\n",
    "end\n",
    "\n",
    "function Venus(t)\n",
    "    venusDict = Dict()\n",
    "    venusDict[\"PLANET\"] = \"Venus\"\n",
    "    venusDict[\"Ω\"] = 76.6799 + 2.46590E-5 * t\n",
    "    venusDict[\"i\"] = 3.3946 + 2.75E-8 * t\n",
    "    venusDict[\"ω\"] = 54.8910 + 1.38374E-5 * t\n",
    "    venusDict[\"a\"] = 0.723330 * au\n",
    "    venusDict[\"e\"] = 0.006773 - 1.302E-9 * t\n",
    "    venusDict[\"M\"] = arcCorrection(48.0052 + 1.6021302244 * t)\n",
    "    venusDict[\"E\"] = arcCorrection(E(venusDict[\"M\"], venusDict[\"e\"]))\n",
    "    venusDict[\"ν\"] = polarReferentialFix(ν(venusDict[\"e\"], venusDict[\"E\"]))\n",
    "    venusDict[\"Dist_Sun\"] = sunDistance(venusDict[\"a\"], venusDict[\"e\"], venusDict[\"ν\"])\n",
    "    venusDict[\"X_COORD\"] = cartesian_X(venusDict[\"Dist_Sun\"], venusDict[\"Ω\"], venusDict[\"ω\"], venusDict[\"ν\"], venusDict[\"i\"])\n",
    "    venusDict[\"Y_COORD\"] = cartesian_Y(venusDict[\"Dist_Sun\"], venusDict[\"Ω\"], venusDict[\"ω\"], venusDict[\"ν\"], venusDict[\"i\"])\n",
    "    venusDict[\"Z_COORD\"] = cartesian_Z(venusDict[\"Dist_Sun\"], venusDict[\"ω\"], venusDict[\"ν\"], venusDict[\"i\"])\n",
    "    venusDict[\"ℓ\"] = ℓ(venusDict[\"X_COORD\"], venusDict[\"Y_COORD\"])\n",
    "    venusDict[\"ℓ_corr\"] = polarReferentialFix(ℓ(venusDict[\"X_COORD\"], venusDict[\"Y_COORD\"]))\n",
    "    venusDict[\"b\"] = b(venusDict[\"X_COORD\"], venusDict[\"Y_COORD\"], venusDict[\"Z_COORD\"])\n",
    "\n",
    "    return venusDict\n",
    "end\n",
    "\n",
    "function Earth(t)\n",
    "    earthDict = Dict()\n",
    "    earthDict[\"PLANET\"] = \"Earth\"\n",
    "    earthDict[\"Ω\"] = 0.0\n",
    "    earthDict[\"i\"] = 0.0\n",
    "    earthDict[\"ω\"] = 282.9404 + 4.70935E-5 * t\n",
    "    earthDict[\"a\"] = au\n",
    "    earthDict[\"e\"] = 0.016709 - 1.151E-9 * t\n",
    "    earthDict[\"M\"] = arcCorrection(356.0470 + 0.9856002585 * t)\n",
    "    earthDict[\"E\"] = arcCorrection(E(earthDict[\"M\"], earthDict[\"e\"]))\n",
    "    earthDict[\"ν\"] = polarReferentialFix(ν(earthDict[\"e\"], earthDict[\"E\"]))\n",
    "    earthDict[\"Dist_Sun\"] = sunDistance(earthDict[\"a\"], earthDict[\"e\"], earthDict[\"ν\"])\n",
    "    earthDict[\"X_COORD\"] = cartesian_X(earthDict[\"Dist_Sun\"], earthDict[\"Ω\"], earthDict[\"ω\"], earthDict[\"ν\"], earthDict[\"i\"])\n",
    "    earthDict[\"Y_COORD\"] = cartesian_Y(earthDict[\"Dist_Sun\"], earthDict[\"Ω\"], earthDict[\"ω\"], earthDict[\"ν\"], earthDict[\"i\"])\n",
    "    earthDict[\"Z_COORD\"] = cartesian_Z(earthDict[\"Dist_Sun\"], earthDict[\"ω\"], earthDict[\"ν\"], earthDict[\"i\"])\n",
    "    earthDict[\"ℓ\"] = ℓ(earthDict[\"X_COORD\"], earthDict[\"Y_COORD\"])\n",
    "    earthDict[\"ℓ_corr\"] = polarReferentialFix(ℓ(earthDict[\"X_COORD\"], earthDict[\"Y_COORD\"]))\n",
    "    earthDict[\"b\"] = b(earthDict[\"X_COORD\"], earthDict[\"Y_COORD\"], earthDict[\"Z_COORD\"])\n",
    "\n",
    "    return earthDict\n",
    "end\n",
    "\n",
    "function Mars(t)\n",
    "    marsDict = Dict()\n",
    "    marsDict[\"PLANET\"] = \"Mars\"\n",
    "    marsDict[\"Ω\"] = 49.5574 + 2.11081E-5 * t\n",
    "    marsDict[\"i\"] = 1.8497 - 1.78E-8 * t\n",
    "    marsDict[\"ω\"] = 286.5016 + 2.92961E-5 * t\n",
    "    marsDict[\"a\"] = 1.523688 * au\n",
    "    marsDict[\"e\"] = 0.093405 + 2.516E-9 * t\n",
    "    marsDict[\"M\"] = arcCorrection(18.6021 + 0.5240207766 * t)\n",
    "    marsDict[\"E\"] = arcCorrection(E(marsDict[\"M\"], marsDict[\"e\"]))\n",
    "    marsDict[\"ν\"] = polarReferentialFix(ν(marsDict[\"e\"], marsDict[\"E\"]))\n",
    "    marsDict[\"Dist_Sun\"] = sunDistance(marsDict[\"a\"], marsDict[\"e\"], marsDict[\"ν\"])\n",
    "    marsDict[\"X_COORD\"] = cartesian_X(marsDict[\"Dist_Sun\"], marsDict[\"Ω\"], marsDict[\"ω\"], marsDict[\"ν\"], marsDict[\"i\"])\n",
    "    marsDict[\"Y_COORD\"] = cartesian_Y(marsDict[\"Dist_Sun\"], marsDict[\"Ω\"], marsDict[\"ω\"], marsDict[\"ν\"], marsDict[\"i\"])\n",
    "    marsDict[\"Z_COORD\"] = cartesian_Z(marsDict[\"Dist_Sun\"], marsDict[\"ω\"], marsDict[\"ν\"], marsDict[\"i\"])\n",
    "    marsDict[\"ℓ\"] = ℓ(marsDict[\"X_COORD\"], marsDict[\"Y_COORD\"])\n",
    "    marsDict[\"ℓ_corr\"] = polarReferentialFix(ℓ(marsDict[\"X_COORD\"], marsDict[\"Y_COORD\"]))\n",
    "    marsDict[\"b\"] = b(marsDict[\"X_COORD\"], marsDict[\"Y_COORD\"], marsDict[\"Z_COORD\"])\n",
    "\n",
    "    return marsDict\n",
    "end\n",
    "\n",
    "function Jupiter(t)\n",
    "    jupyterDict = Dict()\n",
    "    jupyterDict[\"PLANET\"] = \"Jupiter\"\n",
    "    jupyterDict[\"Ω\"] = 100.4542 + 2.76854E-5 * t\n",
    "    jupyterDict[\"i\"] = 1.3030 - 1.557E-7 * t\n",
    "    jupyterDict[\"ω\"] = 273.8777 + 1.64505E-5 * t\n",
    "    jupyterDict[\"a\"] = 5.20256 * au\n",
    "    jupyterDict[\"e\"] = 0.048498 + 4.469E-9 * t\n",
    "    jupyterDict[\"M\"] = arcCorrection(19.8950 + 0.0830853001 * t)\n",
    "    jupyterDict[\"E\"] = arcCorrection(E(jupyterDict[\"M\"], jupyterDict[\"e\"]))\n",
    "    jupyterDict[\"ν\"] = polarReferentialFix(ν(jupyterDict[\"e\"], jupyterDict[\"E\"]))\n",
    "    jupyterDict[\"Dist_Sun\"] = sunDistance(jupyterDict[\"a\"], jupyterDict[\"e\"], jupyterDict[\"ν\"])\n",
    "    jupyterDict[\"X_COORD\"] = cartesian_X(jupyterDict[\"Dist_Sun\"], jupyterDict[\"Ω\"], jupyterDict[\"ω\"], jupyterDict[\"ν\"], jupyterDict[\"i\"])\n",
    "    jupyterDict[\"Y_COORD\"] = cartesian_Y(jupyterDict[\"Dist_Sun\"], jupyterDict[\"Ω\"], jupyterDict[\"ω\"], jupyterDict[\"ν\"], jupyterDict[\"i\"])\n",
    "    jupyterDict[\"Z_COORD\"] = cartesian_Z(jupyterDict[\"Dist_Sun\"], jupyterDict[\"ω\"], jupyterDict[\"ν\"], jupyterDict[\"i\"])\n",
    "    jupyterDict[\"ℓ\"] = ℓ(jupyterDict[\"X_COORD\"], jupyterDict[\"Y_COORD\"])\n",
    "    jupyterDict[\"ℓ_corr\"] = polarReferentialFix(ℓ(jupyterDict[\"X_COORD\"], jupyterDict[\"Y_COORD\"]))\n",
    "    jupyterDict[\"b\"] = b(jupyterDict[\"X_COORD\"], jupyterDict[\"Y_COORD\"], jupyterDict[\"Z_COORD\"])\n",
    "    \n",
    "\n",
    "    return jupyterDict\n",
    "end\n",
    "\n",
    "function Saturn(t)\n",
    "    saturnDict = Dict()\n",
    "    saturnDict[\"PLANET\"] = \"Saturn\"\n",
    "    saturnDict[\"Ω\"] = 113.6634 + 2.38980E-5 * t\n",
    "    saturnDict[\"i\"] = 2.4886 - 1.081E-7 * t\n",
    "    saturnDict[\"ω\"] = 339.3939 + 2.97661E-5 * t\n",
    "    saturnDict[\"a\"] = 9.55475 * au\n",
    "    saturnDict[\"e\"] = 0.055546 - 9.499E-9 * t\n",
    "    saturnDict[\"M\"] = arcCorrection(316.9670 + 0.0334442282 * t)\n",
    "    saturnDict[\"E\"] = arcCorrection(E(saturnDict[\"M\"], saturnDict[\"e\"]))\n",
    "    saturnDict[\"ν\"] = polarReferentialFix(ν(saturnDict[\"e\"], saturnDict[\"E\"]))\n",
    "    saturnDict[\"Dist_Sun\"] = sunDistance(saturnDict[\"a\"], saturnDict[\"e\"], saturnDict[\"ν\"])\n",
    "    saturnDict[\"X_COORD\"] = cartesian_X(saturnDict[\"Dist_Sun\"], saturnDict[\"Ω\"], saturnDict[\"ω\"], saturnDict[\"ν\"], saturnDict[\"i\"])\n",
    "    saturnDict[\"Y_COORD\"] = cartesian_Y(saturnDict[\"Dist_Sun\"], saturnDict[\"Ω\"], saturnDict[\"ω\"], saturnDict[\"ν\"], saturnDict[\"i\"])\n",
    "    saturnDict[\"Z_COORD\"] = cartesian_Z(saturnDict[\"Dist_Sun\"], saturnDict[\"ω\"], saturnDict[\"ν\"], saturnDict[\"i\"])\n",
    "    saturnDict[\"ℓ\"] = ℓ(saturnDict[\"X_COORD\"], saturnDict[\"Y_COORD\"])\n",
    "    saturnDict[\"ℓ_corr\"] = polarReferentialFix(ℓ(saturnDict[\"X_COORD\"], saturnDict[\"Y_COORD\"]))\n",
    "    saturnDict[\"b\"] = b(saturnDict[\"X_COORD\"], saturnDict[\"Y_COORD\"], saturnDict[\"Z_COORD\"])\n",
    "\n",
    "\n",
    "    return saturnDict\n",
    "end\n",
    "\n",
    "function Uranus(t)\n",
    "    uranusDict = Dict()\n",
    "    uranusDict[\"PLANET\"] = \"Uranus\"\n",
    "    uranusDict[\"Ω\"] = 74.0005 + 1.3978E-5 * t\n",
    "    uranusDict[\"i\"] = 0.7733 + 1.9E-8 * t\n",
    "    uranusDict[\"ω\"] = 96.6612 + 3.0565E-5 * t\n",
    "    uranusDict[\"a\"] = (19.18171 - 1.55E-8 * t) * (au)\n",
    "    uranusDict[\"e\"] = 0.047318 + 7.45E-9 * t\n",
    "    uranusDict[\"M\"] = arcCorrection(142.5905 + 0.011725806 * t)\n",
    "    uranusDict[\"E\"] = arcCorrection(E(uranusDict[\"M\"], uranusDict[\"e\"]))\n",
    "    uranusDict[\"ν\"] = polarReferentialFix(ν(uranusDict[\"e\"], uranusDict[\"E\"]))\n",
    "    uranusDict[\"Dist_Sun\"] = sunDistance(uranusDict[\"a\"], uranusDict[\"e\"], uranusDict[\"ν\"])\n",
    "    uranusDict[\"X_COORD\"] = cartesian_X(uranusDict[\"Dist_Sun\"], uranusDict[\"Ω\"], uranusDict[\"ω\"], uranusDict[\"ν\"], uranusDict[\"i\"])\n",
    "    uranusDict[\"Y_COORD\"] = cartesian_Y(uranusDict[\"Dist_Sun\"], uranusDict[\"Ω\"], uranusDict[\"ω\"], uranusDict[\"ν\"], uranusDict[\"i\"])\n",
    "    uranusDict[\"Z_COORD\"] = cartesian_Z(uranusDict[\"Dist_Sun\"], uranusDict[\"ω\"], uranusDict[\"ν\"], uranusDict[\"i\"])\n",
    "    uranusDict[\"ℓ\"] = ℓ(uranusDict[\"X_COORD\"], uranusDict[\"Y_COORD\"])\n",
    "    uranusDict[\"ℓ_corr\"] = polarReferentialFix(ℓ(uranusDict[\"X_COORD\"], uranusDict[\"Y_COORD\"]))\n",
    "    uranusDict[\"b\"] = b(uranusDict[\"X_COORD\"], uranusDict[\"Y_COORD\"], uranusDict[\"Z_COORD\"])\n",
    "\n",
    "    return uranusDict\n",
    "end\n",
    "\n",
    "function Neptune(t)\n",
    "    neptuneDict = Dict()\n",
    "    neptuneDict[\"PLANET\"] = \"Neptune\"\n",
    "    neptuneDict[\"Ω\"] = 131.7806 + 3.0173E-5 * t\n",
    "    neptuneDict[\"i\"] = 1.7700 - 2.55E-7 * t\n",
    "    neptuneDict[\"ω\"] = 272.8461 - 6.027E-6 * t\n",
    "    neptuneDict[\"a\"] = (30.05826 + 3.313E-8 * t) * (au)\n",
    "    neptuneDict[\"e\"] = 0.008606 + 2.15E-9 * t\n",
    "    neptuneDict[\"M\"] = arcCorrection(260.2471 + 0.005995147 * t)\n",
    "    neptuneDict[\"E\"] = arcCorrection(E(neptuneDict[\"M\"], neptuneDict[\"e\"]))\n",
    "    neptuneDict[\"ν\"] = polarReferentialFix(ν(neptuneDict[\"e\"], neptuneDict[\"E\"]))\n",
    "    neptuneDict[\"Dist_Sun\"] = sunDistance(neptuneDict[\"a\"], neptuneDict[\"e\"], neptuneDict[\"ν\"])\n",
    "    neptuneDict[\"X_COORD\"] = cartesian_X(neptuneDict[\"Dist_Sun\"], neptuneDict[\"Ω\"], neptuneDict[\"ω\"], neptuneDict[\"ν\"], neptuneDict[\"i\"])\n",
    "    neptuneDict[\"Y_COORD\"] = cartesian_Y(neptuneDict[\"Dist_Sun\"], neptuneDict[\"Ω\"], neptuneDict[\"ω\"], neptuneDict[\"ν\"], neptuneDict[\"i\"])\n",
    "    neptuneDict[\"Z_COORD\"] = cartesian_Z(neptuneDict[\"Dist_Sun\"], neptuneDict[\"ω\"], neptuneDict[\"ν\"], neptuneDict[\"i\"])\n",
    "    neptuneDict[\"ℓ\"] = ℓ(neptuneDict[\"X_COORD\"], neptuneDict[\"Y_COORD\"])\n",
    "    neptuneDict[\"ℓ_corr\"] = polarReferentialFix(ℓ(neptuneDict[\"X_COORD\"], neptuneDict[\"Y_COORD\"]))\n",
    "    neptuneDict[\"b\"] = b(neptuneDict[\"X_COORD\"], neptuneDict[\"Y_COORD\"], neptuneDict[\"Z_COORD\"])\n",
    "\n",
    "    return neptuneDict\n",
    "end"
   ]
  },
  {
   "cell_type": "code",
   "execution_count": 39,
   "metadata": {},
   "outputs": [
    {
     "data": {
      "text/plain": [
       "19540.024305555555"
      ]
     },
     "execution_count": 39,
     "metadata": {},
     "output_type": "execute_result"
    }
   ],
   "source": [
    "gt = tt(1, 7, 2053, 0, 35)"
   ]
  },
  {
   "cell_type": "code",
   "execution_count": 40,
   "metadata": {},
   "outputs": [
    {
     "name": "stdout",
     "output_type": "stream",
     "text": [
      "\u001b[1m8×16 DataFrame\u001b[0m\n",
      "\u001b[1m Row \u001b[0m│\u001b[1m Dist_Sun   \u001b[0m\u001b[1m E        \u001b[0m\u001b[1m M        \u001b[0m\u001b[1m PLANET  \u001b[0m\u001b[1m X_COORD     \u001b[0m\u001b[1m Y_COORD     \u001b[0m\u001b[1m Z_COORD     \u001b[0m\u001b[1m a          \u001b[0m\u001b[1m b         \u001b[0m\u001b[1m e          \u001b[0m\u001b[1m i        \u001b[0m\u001b[1m Ω        \u001b[0m\u001b[1m ν        \u001b[0m\u001b[1m ω        \u001b[0m\u001b[1m ℓ         \u001b[0m\u001b[1m ℓ_corr   \u001b[0m\n",
      "\u001b[1m     \u001b[0m│\u001b[90m Float64    \u001b[0m\u001b[90m Float64  \u001b[0m\u001b[90m Float64  \u001b[0m\u001b[90m String  \u001b[0m\u001b[90m Float64     \u001b[0m\u001b[90m Float64     \u001b[0m\u001b[90m Float64     \u001b[0m\u001b[90m Float64    \u001b[0m\u001b[90m Float64   \u001b[0m\u001b[90m Float64    \u001b[0m\u001b[90m Float64  \u001b[0m\u001b[90m Float64  \u001b[0m\u001b[90m Float64  \u001b[0m\u001b[90m Float64  \u001b[0m\u001b[90m Float64   \u001b[0m\u001b[90m Float64  \u001b[0m\n",
      "─────┼────────────────────────────────────────────────────────────────────────────────────────────────────────────────────────────────────────────────────────────────────────────────\n",
      "   1 │ 6.84698e10  207.525   212.971   Mercury   1.24997e10  -6.69984e10  -6.56379e9   5.7909e10   -5.50105   0.205646    7.00568    48.9655  202.489    29.3223   -79.432   280.568\n",
      "   2 │ 1.07602e11   33.8843   33.6687  Venus    -1.04412e11   2.5217e10    6.37187e9   1.08209e11   3.39486   0.00674756  3.39514    77.1617   34.1004   55.1614   166.422   166.422\n",
      "   3 │ 1.52084e11  174.787   174.7     Earth    -2.30926e10   1.5032e11    0.0         1.49598e11   0.0       0.0166865   0.0         0.0     174.873   283.861     98.7336   98.7336\n",
      "   4 │ 2.49231e11  178.153   177.981   Mars     -2.26446e11   1.03818e11   7.75461e9   2.2794e11    1.78299   0.0934542   1.84935    49.9699  178.319   287.074    155.37    155.37\n",
      "   5 │ 8.13271e11  202.326   203.384   Jupiter  -6.53688e11  -4.83554e11   1.66543e10  7.78292e11   1.1734    0.0485853   1.29996   100.995   201.291   274.199   -143.508   216.492\n",
      "   6 │ 1.45961e12  247.537   250.468   Saturn    1.3594e12   -5.29636e11  -4.44706e10  1.42937e12  -1.74593   0.0553604   2.48649   114.13    244.635   339.976    -21.2865  338.714\n",
      "   7 │ 2.73642e12   12.292    11.713   Uranus   -2.72807e12  -2.10813e11   3.4689e10   2.8695e12    0.726346  0.0474636   0.773671   74.2736   12.885    97.2584  -175.581   184.419\n",
      "   8 │ 4.45967e12   17.5418   17.3924  Neptune   2.03772e12   3.96482e12  -1.28728e11  4.49675e12  -1.65407   0.00864801  1.76502   132.37     17.6917  272.728     62.7991   62.7991"
     ]
    }
   ],
   "source": [
    "iteratorBodies = [Venus, Earth, Mars, Jupiter, Saturn, Uranus, Neptune]\n",
    "\n",
    "dfBodies = DataFrame(Mercury(gt))\n",
    "\n",
    "for iterableBody ∈ iteratorBodies\n",
    "    push!(dfBodies, iterableBody(gt))\n",
    "end\n",
    "\n",
    "dfBodiesCopy = copy(dfBodies)\n",
    "show(dfBodies, allcols=true)"
   ]
  },
  {
   "cell_type": "markdown",
   "metadata": {},
   "source": [
    "### Plotting"
   ]
  },
  {
   "cell_type": "code",
   "execution_count": 41,
   "metadata": {},
   "outputs": [
    {
     "name": "stdout",
     "output_type": "stream",
     "text": [
      "\u001b[1m8×3 DataFrame\u001b[0m\n",
      "\u001b[1m Row \u001b[0m│\u001b[1m RADIUS \u001b[0m\u001b[1m PLANET  \u001b[0m\u001b[1m COORD     \u001b[0m\n",
      "\u001b[1m     \u001b[0m│\u001b[90m Int64  \u001b[0m\u001b[90m String  \u001b[0m\u001b[90m Float64   \u001b[0m\n",
      "─────┼────────────────────────────\n",
      "   1 │      1  Mercury   -79.432\n",
      "   2 │      2  Venus     166.422\n",
      "   3 │      3  Earth      98.7336\n",
      "   4 │      4  Mars      155.37\n",
      "   5 │      5  Jupiter  -143.508\n",
      "   6 │      6  Saturn    -21.2865\n",
      "   7 │      7  Uranus   -175.581\n",
      "   8 │      8  Neptune    62.7991"
     ]
    }
   ],
   "source": [
    "graphData = DataFrame()\n",
    "graphData[!, \"RADIUS\"] = [i for i in 1:8]\n",
    "graphData[!, \"PLANET\"] = dfBodies.PLANET\n",
    "graphData[!, \"COORD\"] = dfBodies.ℓ\n",
    "\n",
    "show(graphData)\n"
   ]
  },
  {
   "cell_type": "code",
   "execution_count": 77,
   "metadata": {},
   "outputs": [
    {
     "data": {
      "application/vnd.plotly.v1+json": {
       "config": {
        "editable": false,
        "responsive": true,
        "scrollZoom": true,
        "showLink": false,
        "staticPlot": false
       },
       "data": [
        {
         "color": [
          "Mercury",
          "Venus",
          "Earth",
          "Mars",
          "Jupiter",
          "Saturn",
          "Uranus",
          "Neptune"
         ],
         "mode": "markers",
         "r": [
          1,
          2,
          3,
          4,
          5,
          6,
          7,
          8
         ],
         "theta": [
          -79.4319603945948,
          166.422235504171,
          98.73364265040233,
          155.37009103566425,
          -143.5084726269638,
          -21.286452443570226,
          -175.58121192068373,
          62.7991296225739
         ],
         "type": "scatterpolar"
        }
       ],
       "frames": [],
       "layout": {
        "height": 600,
        "margin": {
         "b": 50,
         "l": 50,
         "r": 50,
         "t": 60
        },
        "template": {
         "data": {
          "bar": [
           {
            "error_x": {
             "color": "#2a3f5f"
            },
            "error_y": {
             "color": "#2a3f5f"
            },
            "marker": {
             "line": {
              "color": "#E5ECF6",
              "width": 0.5
             }
            },
            "type": "bar"
           }
          ],
          "barpolar": [
           {
            "marker": {
             "line": {
              "color": "#E5ECF6",
              "width": 0.5
             }
            },
            "type": "barpolar"
           }
          ],
          "carpet": [
           {
            "aaxis": {
             "endlinecolor": "#2a3f5f",
             "gridcolor": "white",
             "linecolor": "white",
             "minorgridcolor": "white",
             "startlinecolor": "#2a3f5f"
            },
            "baxis": {
             "endlinecolor": "#2a3f5f",
             "gridcolor": "white",
             "linecolor": "white",
             "minorgridcolor": "white",
             "startlinecolor": "#2a3f5f"
            },
            "type": "carpet"
           }
          ],
          "choropleth": [
           {
            "colorbar": {
             "outlinewidth": 0,
             "ticks": ""
            },
            "type": "choropleth"
           }
          ],
          "contour": [
           {
            "colorbar": {
             "outlinewidth": 0,
             "ticks": ""
            },
            "colorscale": [
             [
              0,
              "#0d0887"
             ],
             [
              0.1111111111111111,
              "#46039f"
             ],
             [
              0.2222222222222222,
              "#7201a8"
             ],
             [
              0.3333333333333333,
              "#9c179e"
             ],
             [
              0.4444444444444444,
              "#bd3786"
             ],
             [
              0.5555555555555556,
              "#d8576b"
             ],
             [
              0.6666666666666666,
              "#ed7953"
             ],
             [
              0.7777777777777778,
              "#fb9f3a"
             ],
             [
              0.8888888888888888,
              "#fdca26"
             ],
             [
              1,
              "#f0f921"
             ]
            ],
            "type": "contour"
           }
          ],
          "contourcarpet": [
           {
            "colorbar": {
             "outlinewidth": 0,
             "ticks": ""
            },
            "type": "contourcarpet"
           }
          ],
          "heatmap": [
           {
            "colorbar": {
             "outlinewidth": 0,
             "ticks": ""
            },
            "colorscale": [
             [
              0,
              "#0d0887"
             ],
             [
              0.1111111111111111,
              "#46039f"
             ],
             [
              0.2222222222222222,
              "#7201a8"
             ],
             [
              0.3333333333333333,
              "#9c179e"
             ],
             [
              0.4444444444444444,
              "#bd3786"
             ],
             [
              0.5555555555555556,
              "#d8576b"
             ],
             [
              0.6666666666666666,
              "#ed7953"
             ],
             [
              0.7777777777777778,
              "#fb9f3a"
             ],
             [
              0.8888888888888888,
              "#fdca26"
             ],
             [
              1,
              "#f0f921"
             ]
            ],
            "type": "heatmap"
           }
          ],
          "heatmapgl": [
           {
            "colorbar": {
             "outlinewidth": 0,
             "ticks": ""
            },
            "colorscale": [
             [
              0,
              "#0d0887"
             ],
             [
              0.1111111111111111,
              "#46039f"
             ],
             [
              0.2222222222222222,
              "#7201a8"
             ],
             [
              0.3333333333333333,
              "#9c179e"
             ],
             [
              0.4444444444444444,
              "#bd3786"
             ],
             [
              0.5555555555555556,
              "#d8576b"
             ],
             [
              0.6666666666666666,
              "#ed7953"
             ],
             [
              0.7777777777777778,
              "#fb9f3a"
             ],
             [
              0.8888888888888888,
              "#fdca26"
             ],
             [
              1,
              "#f0f921"
             ]
            ],
            "type": "heatmapgl"
           }
          ],
          "histogram": [
           {
            "marker": {
             "colorbar": {
              "outlinewidth": 0,
              "ticks": ""
             }
            },
            "type": "histogram"
           }
          ],
          "histogram2d": [
           {
            "colorbar": {
             "outlinewidth": 0,
             "ticks": ""
            },
            "colorscale": [
             [
              0,
              "#0d0887"
             ],
             [
              0.1111111111111111,
              "#46039f"
             ],
             [
              0.2222222222222222,
              "#7201a8"
             ],
             [
              0.3333333333333333,
              "#9c179e"
             ],
             [
              0.4444444444444444,
              "#bd3786"
             ],
             [
              0.5555555555555556,
              "#d8576b"
             ],
             [
              0.6666666666666666,
              "#ed7953"
             ],
             [
              0.7777777777777778,
              "#fb9f3a"
             ],
             [
              0.8888888888888888,
              "#fdca26"
             ],
             [
              1,
              "#f0f921"
             ]
            ],
            "type": "histogram2d"
           }
          ],
          "histogram2dcontour": [
           {
            "colorbar": {
             "outlinewidth": 0,
             "ticks": ""
            },
            "colorscale": [
             [
              0,
              "#0d0887"
             ],
             [
              0.1111111111111111,
              "#46039f"
             ],
             [
              0.2222222222222222,
              "#7201a8"
             ],
             [
              0.3333333333333333,
              "#9c179e"
             ],
             [
              0.4444444444444444,
              "#bd3786"
             ],
             [
              0.5555555555555556,
              "#d8576b"
             ],
             [
              0.6666666666666666,
              "#ed7953"
             ],
             [
              0.7777777777777778,
              "#fb9f3a"
             ],
             [
              0.8888888888888888,
              "#fdca26"
             ],
             [
              1,
              "#f0f921"
             ]
            ],
            "type": "histogram2dcontour"
           }
          ],
          "mesh3d": [
           {
            "colorbar": {
             "outlinewidth": 0,
             "ticks": ""
            },
            "type": "mesh3d"
           }
          ],
          "parcoords": [
           {
            "line": {
             "colorbar": {
              "outlinewidth": 0,
              "ticks": ""
             }
            },
            "type": "parcoords"
           }
          ],
          "pie": [
           {
            "automargin": true,
            "type": "pie"
           }
          ],
          "scatter": [
           {
            "marker": {
             "colorbar": {
              "outlinewidth": 0,
              "ticks": ""
             }
            },
            "type": "scatter"
           }
          ],
          "scatter3d": [
           {
            "line": {
             "colorbar": {
              "outlinewidth": 0,
              "ticks": ""
             }
            },
            "marker": {
             "colorbar": {
              "outlinewidth": 0,
              "ticks": ""
             }
            },
            "type": "scatter3d"
           }
          ],
          "scattercarpet": [
           {
            "marker": {
             "colorbar": {
              "outlinewidth": 0,
              "ticks": ""
             }
            },
            "type": "scattercarpet"
           }
          ],
          "scattergeo": [
           {
            "marker": {
             "colorbar": {
              "outlinewidth": 0,
              "ticks": ""
             }
            },
            "type": "scattergeo"
           }
          ],
          "scattergl": [
           {
            "marker": {
             "colorbar": {
              "outlinewidth": 0,
              "ticks": ""
             }
            },
            "type": "scattergl"
           }
          ],
          "scattermapbox": [
           {
            "marker": {
             "colorbar": {
              "outlinewidth": 0,
              "ticks": ""
             }
            },
            "type": "scattermapbox"
           }
          ],
          "scatterpolar": [
           {
            "marker": {
             "colorbar": {
              "outlinewidth": 0,
              "ticks": ""
             }
            },
            "type": "scatterpolar"
           }
          ],
          "scatterpolargl": [
           {
            "marker": {
             "colorbar": {
              "outlinewidth": 0,
              "ticks": ""
             }
            },
            "type": "scatterpolargl"
           }
          ],
          "scatterternary": [
           {
            "marker": {
             "colorbar": {
              "outlinewidth": 0,
              "ticks": ""
             }
            },
            "type": "scatterternary"
           }
          ],
          "surface": [
           {
            "colorbar": {
             "outlinewidth": 0,
             "ticks": ""
            },
            "colorscale": [
             [
              0,
              "#0d0887"
             ],
             [
              0.1111111111111111,
              "#46039f"
             ],
             [
              0.2222222222222222,
              "#7201a8"
             ],
             [
              0.3333333333333333,
              "#9c179e"
             ],
             [
              0.4444444444444444,
              "#bd3786"
             ],
             [
              0.5555555555555556,
              "#d8576b"
             ],
             [
              0.6666666666666666,
              "#ed7953"
             ],
             [
              0.7777777777777778,
              "#fb9f3a"
             ],
             [
              0.8888888888888888,
              "#fdca26"
             ],
             [
              1,
              "#f0f921"
             ]
            ],
            "type": "surface"
           }
          ],
          "table": [
           {
            "cells": {
             "fill": {
              "color": "#EBF0F8"
             },
             "line": {
              "color": "white"
             }
            },
            "header": {
             "fill": {
              "color": "#C8D4E3"
             },
             "line": {
              "color": "white"
             }
            },
            "type": "table"
           }
          ]
         },
         "layout": {
          "annotationdefaults": {
           "arrowcolor": "#2a3f5f",
           "arrowhead": 0,
           "arrowwidth": 1
          },
          "autotypenumbers": "strict",
          "coloraxis": {
           "colorbar": {
            "outlinewidth": 0,
            "ticks": ""
           }
          },
          "colorscale": {
           "diverging": [
            [
             0,
             "#8e0152"
            ],
            [
             0.1,
             "#c51b7d"
            ],
            [
             0.2,
             "#de77ae"
            ],
            [
             0.3,
             "#f1b6da"
            ],
            [
             0.4,
             "#fde0ef"
            ],
            [
             0.5,
             "#f7f7f7"
            ],
            [
             0.6,
             "#e6f5d0"
            ],
            [
             0.7,
             "#b8e186"
            ],
            [
             0.8,
             "#7fbc41"
            ],
            [
             0.9,
             "#4d9221"
            ],
            [
             1,
             "#276419"
            ]
           ],
           "sequential": [
            [
             0,
             "#0d0887"
            ],
            [
             0.1111111111111111,
             "#46039f"
            ],
            [
             0.2222222222222222,
             "#7201a8"
            ],
            [
             0.3333333333333333,
             "#9c179e"
            ],
            [
             0.4444444444444444,
             "#bd3786"
            ],
            [
             0.5555555555555556,
             "#d8576b"
            ],
            [
             0.6666666666666666,
             "#ed7953"
            ],
            [
             0.7777777777777778,
             "#fb9f3a"
            ],
            [
             0.8888888888888888,
             "#fdca26"
            ],
            [
             1,
             "#f0f921"
            ]
           ],
           "sequentialminus": [
            [
             0,
             "#0d0887"
            ],
            [
             0.1111111111111111,
             "#46039f"
            ],
            [
             0.2222222222222222,
             "#7201a8"
            ],
            [
             0.3333333333333333,
             "#9c179e"
            ],
            [
             0.4444444444444444,
             "#bd3786"
            ],
            [
             0.5555555555555556,
             "#d8576b"
            ],
            [
             0.6666666666666666,
             "#ed7953"
            ],
            [
             0.7777777777777778,
             "#fb9f3a"
            ],
            [
             0.8888888888888888,
             "#fdca26"
            ],
            [
             1,
             "#f0f921"
            ]
           ]
          },
          "colorway": [
           "#636efa",
           "#EF553B",
           "#00cc96",
           "#ab63fa",
           "#FFA15A",
           "#19d3f3",
           "#FF6692",
           "#B6E880",
           "#FF97FF",
           "#FECB52"
          ],
          "font": {
           "color": "#2a3f5f"
          },
          "geo": {
           "bgcolor": "white",
           "lakecolor": "white",
           "landcolor": "#E5ECF6",
           "showlakes": true,
           "showland": true,
           "subunitcolor": "white"
          },
          "hoverlabel": {
           "align": "left"
          },
          "hovermode": "closest",
          "mapbox": {
           "style": "light"
          },
          "paper_bgcolor": "white",
          "plot_bgcolor": "#E5ECF6",
          "polar": {
           "angularaxis": {
            "gridcolor": "white",
            "linecolor": "white",
            "ticks": ""
           },
           "bgcolor": "#E5ECF6",
           "radialaxis": {
            "gridcolor": "white",
            "linecolor": "white",
            "ticks": ""
           }
          },
          "scene": {
           "xaxis": {
            "backgroundcolor": "#E5ECF6",
            "gridcolor": "white",
            "gridwidth": 2,
            "linecolor": "white",
            "showbackground": true,
            "ticks": "",
            "zerolinecolor": "white"
           },
           "yaxis": {
            "backgroundcolor": "#E5ECF6",
            "gridcolor": "white",
            "gridwidth": 2,
            "linecolor": "white",
            "showbackground": true,
            "ticks": "",
            "zerolinecolor": "white"
           },
           "zaxis": {
            "backgroundcolor": "#E5ECF6",
            "gridcolor": "white",
            "gridwidth": 2,
            "linecolor": "white",
            "showbackground": true,
            "ticks": "",
            "zerolinecolor": "white"
           }
          },
          "shapedefaults": {
           "line": {
            "color": "#2a3f5f"
           }
          },
          "ternary": {
           "aaxis": {
            "gridcolor": "white",
            "linecolor": "white",
            "ticks": ""
           },
           "baxis": {
            "gridcolor": "white",
            "linecolor": "white",
            "ticks": ""
           },
           "bgcolor": "#E5ECF6",
           "caxis": {
            "gridcolor": "white",
            "linecolor": "white",
            "ticks": ""
           }
          },
          "title": {
           "x": 0.05
          },
          "xaxis": {
           "automargin": true,
           "gridcolor": "white",
           "linecolor": "white",
           "ticks": "",
           "title": {
            "standoff": 15
           },
           "zerolinecolor": "white",
           "zerolinewidth": 2
          },
          "yaxis": {
           "automargin": true,
           "gridcolor": "white",
           "linecolor": "white",
           "ticks": "",
           "title": {
            "standoff": 15
           },
           "zerolinecolor": "white",
           "zerolinewidth": 2
          }
         }
        },
        "title": "Computed Data Plot",
        "width": 600
       }
      },
      "text/html": [
       "<div\n",
       "    class=\"webio-mountpoint\"\n",
       "    data-webio-mountpoint=\"16277860576288358725\"\n",
       ">\n",
       "    <script>\n",
       "    (function(){\n",
       "    // Some integrations (namely, IJulia/Jupyter) use an alternate render pathway than\n",
       "    // just putting the html on the page. If WebIO isn't defined, then it's pretty likely\n",
       "    // that we're in one of those situations and the integration just isn't installed\n",
       "    // correctly.\n",
       "    if (typeof window.WebIO === \"undefined\") {\n",
       "        document\n",
       "            .querySelector('[data-webio-mountpoint=\"16277860576288358725\"]')\n",
       "            .innerHTML = (\n",
       "                '<div style=\"padding: 1em; background-color: #f8d6da; border: 1px solid #f5c6cb; font-weight: bold;\">' +\n",
       "                '<p><strong>WebIO not detected.</strong></p>' +\n",
       "                '<p>Please read ' +\n",
       "                '<a href=\"https://juliagizmos.github.io/WebIO.jl/latest/troubleshooting/not-detected/\" target=\"_blank\">the troubleshooting guide</a> ' +\n",
       "                'for more information on how to resolve this issue.</p>' +\n",
       "                '<p><a href=\"https://juliagizmos.github.io/WebIO.jl/latest/troubleshooting/not-detected/\" target=\"_blank\">https://juliagizmos.github.io/WebIO.jl/latest/troubleshooting/not-detected/</a></p>' +\n",
       "                '</div>'\n",
       "            );\n",
       "        return;\n",
       "    }\n",
       "    WebIO.mount(\n",
       "        document.querySelector('[data-webio-mountpoint=\"16277860576288358725\"]'),\n",
       "        {\"props\":{},\"nodeType\":\"Scope\",\"type\":\"node\",\"instanceArgs\":{\"imports\":{\"data\":[{\"name\":\"Plotly\",\"type\":\"js\",\"url\":\"\\/assetserver\\/f3d9a6d0f5c080ffb47e8c9e300eab67a4d73b47-plotly.min.js\"},{\"name\":null,\"type\":\"js\",\"url\":\"\\/assetserver\\/d998e844b98f7bce67f9032fc7613a9df077d1c2-plotly_webio.bundle.js\"}],\"type\":\"async_block\"},\"id\":\"14162959504402205615\",\"handlers\":{\"_toImage\":[\"(function (options){return this.Plotly.toImage(this.plotElem,options).then((function (data){return WebIO.setval({\\\"name\\\":\\\"image\\\",\\\"scope\\\":\\\"14162959504402205615\\\",\\\"id\\\":\\\"8494528047965668688\\\",\\\"type\\\":\\\"observable\\\"},data)}))})\"],\"__get_gd_contents\":[\"(function (prop){prop==\\\"data\\\" ? (WebIO.setval({\\\"name\\\":\\\"__gd_contents\\\",\\\"scope\\\":\\\"14162959504402205615\\\",\\\"id\\\":\\\"16603868125580655546\\\",\\\"type\\\":\\\"observable\\\"},this.plotElem.data)) : undefined; return prop==\\\"layout\\\" ? (WebIO.setval({\\\"name\\\":\\\"__gd_contents\\\",\\\"scope\\\":\\\"14162959504402205615\\\",\\\"id\\\":\\\"16603868125580655546\\\",\\\"type\\\":\\\"observable\\\"},this.plotElem.layout)) : undefined})\"],\"_downloadImage\":[\"(function (options){return this.Plotly.downloadImage(this.plotElem,options)})\"],\"_commands\":[\"(function (args){var fn=args.shift(); var elem=this.plotElem; var Plotly=this.Plotly; args.unshift(elem); return Plotly[fn].apply(this,args)})\"]},\"systemjs_options\":null,\"mount_callbacks\":[\"function () {\\n    var handler = ((function (Plotly,PlotlyWebIO){PlotlyWebIO.init(WebIO); var gd=this.dom.querySelector(\\\"#plot-63d7fbbd-be22-4bba-a483-d4f3cb22b7a4\\\"); this.plotElem=gd; this.Plotly=Plotly; (window.Blink!==undefined) ? (gd.style.width=\\\"100%\\\", gd.style.height=\\\"100vh\\\", gd.style.marginLeft=\\\"0%\\\", gd.style.marginTop=\\\"0vh\\\") : undefined; window.onresize=(function (){return Plotly.Plots.resize(gd)}); Plotly.newPlot(gd,[{\\\"color\\\":[\\\"Mercury\\\",\\\"Venus\\\",\\\"Earth\\\",\\\"Mars\\\",\\\"Jupiter\\\",\\\"Saturn\\\",\\\"Uranus\\\",\\\"Neptune\\\"],\\\"mode\\\":\\\"markers\\\",\\\"type\\\":\\\"scatterpolar\\\",\\\"theta\\\":[-79.4319603945948,166.422235504171,98.73364265040233,155.37009103566425,-143.5084726269638,-21.286452443570226,-175.58121192068373,62.7991296225739],\\\"r\\\":[1,2,3,4,5,6,7,8]}],{\\\"template\\\":{\\\"layout\\\":{\\\"coloraxis\\\":{\\\"colorbar\\\":{\\\"ticks\\\":\\\"\\\",\\\"outlinewidth\\\":0}},\\\"xaxis\\\":{\\\"gridcolor\\\":\\\"white\\\",\\\"zerolinewidth\\\":2,\\\"title\\\":{\\\"standoff\\\":15},\\\"ticks\\\":\\\"\\\",\\\"zerolinecolor\\\":\\\"white\\\",\\\"automargin\\\":true,\\\"linecolor\\\":\\\"white\\\"},\\\"hovermode\\\":\\\"closest\\\",\\\"paper_bgcolor\\\":\\\"white\\\",\\\"geo\\\":{\\\"showlakes\\\":true,\\\"showland\\\":true,\\\"landcolor\\\":\\\"#E5ECF6\\\",\\\"bgcolor\\\":\\\"white\\\",\\\"subunitcolor\\\":\\\"white\\\",\\\"lakecolor\\\":\\\"white\\\"},\\\"colorscale\\\":{\\\"sequential\\\":[[0.0,\\\"#0d0887\\\"],[0.1111111111111111,\\\"#46039f\\\"],[0.2222222222222222,\\\"#7201a8\\\"],[0.3333333333333333,\\\"#9c179e\\\"],[0.4444444444444444,\\\"#bd3786\\\"],[0.5555555555555556,\\\"#d8576b\\\"],[0.6666666666666666,\\\"#ed7953\\\"],[0.7777777777777778,\\\"#fb9f3a\\\"],[0.8888888888888888,\\\"#fdca26\\\"],[1.0,\\\"#f0f921\\\"]],\\\"diverging\\\":[[0,\\\"#8e0152\\\"],[0.1,\\\"#c51b7d\\\"],[0.2,\\\"#de77ae\\\"],[0.3,\\\"#f1b6da\\\"],[0.4,\\\"#fde0ef\\\"],[0.5,\\\"#f7f7f7\\\"],[0.6,\\\"#e6f5d0\\\"],[0.7,\\\"#b8e186\\\"],[0.8,\\\"#7fbc41\\\"],[0.9,\\\"#4d9221\\\"],[1,\\\"#276419\\\"]],\\\"sequentialminus\\\":[[0.0,\\\"#0d0887\\\"],[0.1111111111111111,\\\"#46039f\\\"],[0.2222222222222222,\\\"#7201a8\\\"],[0.3333333333333333,\\\"#9c179e\\\"],[0.4444444444444444,\\\"#bd3786\\\"],[0.5555555555555556,\\\"#d8576b\\\"],[0.6666666666666666,\\\"#ed7953\\\"],[0.7777777777777778,\\\"#fb9f3a\\\"],[0.8888888888888888,\\\"#fdca26\\\"],[1.0,\\\"#f0f921\\\"]]},\\\"yaxis\\\":{\\\"gridcolor\\\":\\\"white\\\",\\\"zerolinewidth\\\":2,\\\"title\\\":{\\\"standoff\\\":15},\\\"ticks\\\":\\\"\\\",\\\"zerolinecolor\\\":\\\"white\\\",\\\"automargin\\\":true,\\\"linecolor\\\":\\\"white\\\"},\\\"shapedefaults\\\":{\\\"line\\\":{\\\"color\\\":\\\"#2a3f5f\\\"}},\\\"hoverlabel\\\":{\\\"align\\\":\\\"left\\\"},\\\"mapbox\\\":{\\\"style\\\":\\\"light\\\"},\\\"polar\\\":{\\\"angularaxis\\\":{\\\"gridcolor\\\":\\\"white\\\",\\\"ticks\\\":\\\"\\\",\\\"linecolor\\\":\\\"white\\\"},\\\"bgcolor\\\":\\\"#E5ECF6\\\",\\\"radialaxis\\\":{\\\"gridcolor\\\":\\\"white\\\",\\\"ticks\\\":\\\"\\\",\\\"linecolor\\\":\\\"white\\\"}},\\\"autotypenumbers\\\":\\\"strict\\\",\\\"font\\\":{\\\"color\\\":\\\"#2a3f5f\\\"},\\\"ternary\\\":{\\\"baxis\\\":{\\\"gridcolor\\\":\\\"white\\\",\\\"ticks\\\":\\\"\\\",\\\"linecolor\\\":\\\"white\\\"},\\\"bgcolor\\\":\\\"#E5ECF6\\\",\\\"caxis\\\":{\\\"gridcolor\\\":\\\"white\\\",\\\"ticks\\\":\\\"\\\",\\\"linecolor\\\":\\\"white\\\"},\\\"aaxis\\\":{\\\"gridcolor\\\":\\\"white\\\",\\\"ticks\\\":\\\"\\\",\\\"linecolor\\\":\\\"white\\\"}},\\\"annotationdefaults\\\":{\\\"arrowhead\\\":0,\\\"arrowwidth\\\":1,\\\"arrowcolor\\\":\\\"#2a3f5f\\\"},\\\"plot_bgcolor\\\":\\\"#E5ECF6\\\",\\\"title\\\":{\\\"x\\\":0.05},\\\"scene\\\":{\\\"xaxis\\\":{\\\"gridcolor\\\":\\\"white\\\",\\\"gridwidth\\\":2,\\\"backgroundcolor\\\":\\\"#E5ECF6\\\",\\\"ticks\\\":\\\"\\\",\\\"showbackground\\\":true,\\\"zerolinecolor\\\":\\\"white\\\",\\\"linecolor\\\":\\\"white\\\"},\\\"zaxis\\\":{\\\"gridcolor\\\":\\\"white\\\",\\\"gridwidth\\\":2,\\\"backgroundcolor\\\":\\\"#E5ECF6\\\",\\\"ticks\\\":\\\"\\\",\\\"showbackground\\\":true,\\\"zerolinecolor\\\":\\\"white\\\",\\\"linecolor\\\":\\\"white\\\"},\\\"yaxis\\\":{\\\"gridcolor\\\":\\\"white\\\",\\\"gridwidth\\\":2,\\\"backgroundcolor\\\":\\\"#E5ECF6\\\",\\\"ticks\\\":\\\"\\\",\\\"showbackground\\\":true,\\\"zerolinecolor\\\":\\\"white\\\",\\\"linecolor\\\":\\\"white\\\"}},\\\"colorway\\\":[\\\"#636efa\\\",\\\"#EF553B\\\",\\\"#00cc96\\\",\\\"#ab63fa\\\",\\\"#FFA15A\\\",\\\"#19d3f3\\\",\\\"#FF6692\\\",\\\"#B6E880\\\",\\\"#FF97FF\\\",\\\"#FECB52\\\"]},\\\"data\\\":{\\\"barpolar\\\":[{\\\"type\\\":\\\"barpolar\\\",\\\"marker\\\":{\\\"line\\\":{\\\"color\\\":\\\"#E5ECF6\\\",\\\"width\\\":0.5}}}],\\\"carpet\\\":[{\\\"aaxis\\\":{\\\"gridcolor\\\":\\\"white\\\",\\\"endlinecolor\\\":\\\"#2a3f5f\\\",\\\"minorgridcolor\\\":\\\"white\\\",\\\"startlinecolor\\\":\\\"#2a3f5f\\\",\\\"linecolor\\\":\\\"white\\\"},\\\"type\\\":\\\"carpet\\\",\\\"baxis\\\":{\\\"gridcolor\\\":\\\"white\\\",\\\"endlinecolor\\\":\\\"#2a3f5f\\\",\\\"minorgridcolor\\\":\\\"white\\\",\\\"startlinecolor\\\":\\\"#2a3f5f\\\",\\\"linecolor\\\":\\\"white\\\"}}],\\\"scatterpolar\\\":[{\\\"type\\\":\\\"scatterpolar\\\",\\\"marker\\\":{\\\"colorbar\\\":{\\\"ticks\\\":\\\"\\\",\\\"outlinewidth\\\":0}}}],\\\"parcoords\\\":[{\\\"line\\\":{\\\"colorbar\\\":{\\\"ticks\\\":\\\"\\\",\\\"outlinewidth\\\":0}},\\\"type\\\":\\\"parcoords\\\"}],\\\"scatter\\\":[{\\\"type\\\":\\\"scatter\\\",\\\"marker\\\":{\\\"colorbar\\\":{\\\"ticks\\\":\\\"\\\",\\\"outlinewidth\\\":0}}}],\\\"histogram2dcontour\\\":[{\\\"colorbar\\\":{\\\"ticks\\\":\\\"\\\",\\\"outlinewidth\\\":0},\\\"type\\\":\\\"histogram2dcontour\\\",\\\"colorscale\\\":[[0.0,\\\"#0d0887\\\"],[0.1111111111111111,\\\"#46039f\\\"],[0.2222222222222222,\\\"#7201a8\\\"],[0.3333333333333333,\\\"#9c179e\\\"],[0.4444444444444444,\\\"#bd3786\\\"],[0.5555555555555556,\\\"#d8576b\\\"],[0.6666666666666666,\\\"#ed7953\\\"],[0.7777777777777778,\\\"#fb9f3a\\\"],[0.8888888888888888,\\\"#fdca26\\\"],[1.0,\\\"#f0f921\\\"]]}],\\\"contour\\\":[{\\\"colorbar\\\":{\\\"ticks\\\":\\\"\\\",\\\"outlinewidth\\\":0},\\\"type\\\":\\\"contour\\\",\\\"colorscale\\\":[[0.0,\\\"#0d0887\\\"],[0.1111111111111111,\\\"#46039f\\\"],[0.2222222222222222,\\\"#7201a8\\\"],[0.3333333333333333,\\\"#9c179e\\\"],[0.4444444444444444,\\\"#bd3786\\\"],[0.5555555555555556,\\\"#d8576b\\\"],[0.6666666666666666,\\\"#ed7953\\\"],[0.7777777777777778,\\\"#fb9f3a\\\"],[0.8888888888888888,\\\"#fdca26\\\"],[1.0,\\\"#f0f921\\\"]]}],\\\"scattercarpet\\\":[{\\\"type\\\":\\\"scattercarpet\\\",\\\"marker\\\":{\\\"colorbar\\\":{\\\"ticks\\\":\\\"\\\",\\\"outlinewidth\\\":0}}}],\\\"mesh3d\\\":[{\\\"colorbar\\\":{\\\"ticks\\\":\\\"\\\",\\\"outlinewidth\\\":0},\\\"type\\\":\\\"mesh3d\\\"}],\\\"surface\\\":[{\\\"colorbar\\\":{\\\"ticks\\\":\\\"\\\",\\\"outlinewidth\\\":0},\\\"type\\\":\\\"surface\\\",\\\"colorscale\\\":[[0.0,\\\"#0d0887\\\"],[0.1111111111111111,\\\"#46039f\\\"],[0.2222222222222222,\\\"#7201a8\\\"],[0.3333333333333333,\\\"#9c179e\\\"],[0.4444444444444444,\\\"#bd3786\\\"],[0.5555555555555556,\\\"#d8576b\\\"],[0.6666666666666666,\\\"#ed7953\\\"],[0.7777777777777778,\\\"#fb9f3a\\\"],[0.8888888888888888,\\\"#fdca26\\\"],[1.0,\\\"#f0f921\\\"]]}],\\\"scattermapbox\\\":[{\\\"type\\\":\\\"scattermapbox\\\",\\\"marker\\\":{\\\"colorbar\\\":{\\\"ticks\\\":\\\"\\\",\\\"outlinewidth\\\":0}}}],\\\"scattergeo\\\":[{\\\"type\\\":\\\"scattergeo\\\",\\\"marker\\\":{\\\"colorbar\\\":{\\\"ticks\\\":\\\"\\\",\\\"outlinewidth\\\":0}}}],\\\"histogram\\\":[{\\\"type\\\":\\\"histogram\\\",\\\"marker\\\":{\\\"colorbar\\\":{\\\"ticks\\\":\\\"\\\",\\\"outlinewidth\\\":0}}}],\\\"pie\\\":[{\\\"type\\\":\\\"pie\\\",\\\"automargin\\\":true}],\\\"choropleth\\\":[{\\\"colorbar\\\":{\\\"ticks\\\":\\\"\\\",\\\"outlinewidth\\\":0},\\\"type\\\":\\\"choropleth\\\"}],\\\"heatmapgl\\\":[{\\\"colorbar\\\":{\\\"ticks\\\":\\\"\\\",\\\"outlinewidth\\\":0},\\\"type\\\":\\\"heatmapgl\\\",\\\"colorscale\\\":[[0.0,\\\"#0d0887\\\"],[0.1111111111111111,\\\"#46039f\\\"],[0.2222222222222222,\\\"#7201a8\\\"],[0.3333333333333333,\\\"#9c179e\\\"],[0.4444444444444444,\\\"#bd3786\\\"],[0.5555555555555556,\\\"#d8576b\\\"],[0.6666666666666666,\\\"#ed7953\\\"],[0.7777777777777778,\\\"#fb9f3a\\\"],[0.8888888888888888,\\\"#fdca26\\\"],[1.0,\\\"#f0f921\\\"]]}],\\\"bar\\\":[{\\\"type\\\":\\\"bar\\\",\\\"error_y\\\":{\\\"color\\\":\\\"#2a3f5f\\\"},\\\"error_x\\\":{\\\"color\\\":\\\"#2a3f5f\\\"},\\\"marker\\\":{\\\"line\\\":{\\\"color\\\":\\\"#E5ECF6\\\",\\\"width\\\":0.5}}}],\\\"heatmap\\\":[{\\\"colorbar\\\":{\\\"ticks\\\":\\\"\\\",\\\"outlinewidth\\\":0},\\\"type\\\":\\\"heatmap\\\",\\\"colorscale\\\":[[0.0,\\\"#0d0887\\\"],[0.1111111111111111,\\\"#46039f\\\"],[0.2222222222222222,\\\"#7201a8\\\"],[0.3333333333333333,\\\"#9c179e\\\"],[0.4444444444444444,\\\"#bd3786\\\"],[0.5555555555555556,\\\"#d8576b\\\"],[0.6666666666666666,\\\"#ed7953\\\"],[0.7777777777777778,\\\"#fb9f3a\\\"],[0.8888888888888888,\\\"#fdca26\\\"],[1.0,\\\"#f0f921\\\"]]}],\\\"contourcarpet\\\":[{\\\"colorbar\\\":{\\\"ticks\\\":\\\"\\\",\\\"outlinewidth\\\":0},\\\"type\\\":\\\"contourcarpet\\\"}],\\\"table\\\":[{\\\"type\\\":\\\"table\\\",\\\"header\\\":{\\\"line\\\":{\\\"color\\\":\\\"white\\\"},\\\"fill\\\":{\\\"color\\\":\\\"#C8D4E3\\\"}},\\\"cells\\\":{\\\"line\\\":{\\\"color\\\":\\\"white\\\"},\\\"fill\\\":{\\\"color\\\":\\\"#EBF0F8\\\"}}}],\\\"scatter3d\\\":[{\\\"line\\\":{\\\"colorbar\\\":{\\\"ticks\\\":\\\"\\\",\\\"outlinewidth\\\":0}},\\\"type\\\":\\\"scatter3d\\\",\\\"marker\\\":{\\\"colorbar\\\":{\\\"ticks\\\":\\\"\\\",\\\"outlinewidth\\\":0}}}],\\\"scattergl\\\":[{\\\"type\\\":\\\"scattergl\\\",\\\"marker\\\":{\\\"colorbar\\\":{\\\"ticks\\\":\\\"\\\",\\\"outlinewidth\\\":0}}}],\\\"histogram2d\\\":[{\\\"colorbar\\\":{\\\"ticks\\\":\\\"\\\",\\\"outlinewidth\\\":0},\\\"type\\\":\\\"histogram2d\\\",\\\"colorscale\\\":[[0.0,\\\"#0d0887\\\"],[0.1111111111111111,\\\"#46039f\\\"],[0.2222222222222222,\\\"#7201a8\\\"],[0.3333333333333333,\\\"#9c179e\\\"],[0.4444444444444444,\\\"#bd3786\\\"],[0.5555555555555556,\\\"#d8576b\\\"],[0.6666666666666666,\\\"#ed7953\\\"],[0.7777777777777778,\\\"#fb9f3a\\\"],[0.8888888888888888,\\\"#fdca26\\\"],[1.0,\\\"#f0f921\\\"]]}],\\\"scatterternary\\\":[{\\\"type\\\":\\\"scatterternary\\\",\\\"marker\\\":{\\\"colorbar\\\":{\\\"ticks\\\":\\\"\\\",\\\"outlinewidth\\\":0}}}],\\\"scatterpolargl\\\":[{\\\"type\\\":\\\"scatterpolargl\\\",\\\"marker\\\":{\\\"colorbar\\\":{\\\"ticks\\\":\\\"\\\",\\\"outlinewidth\\\":0}}}]}},\\\"height\\\":600,\\\"margin\\\":{\\\"l\\\":50,\\\"b\\\":50,\\\"r\\\":50,\\\"t\\\":60},\\\"title\\\":\\\"Computed Data Plot\\\",\\\"width\\\":600},{\\\"showLink\\\":false,\\\"editable\\\":false,\\\"responsive\\\":true,\\\"staticPlot\\\":false,\\\"scrollZoom\\\":true}); gd.on(\\\"plotly_hover\\\",(function (data){var filtered_data=WebIO.PlotlyCommands.filterEventData(gd,data,\\\"hover\\\"); return !(filtered_data.isnil) ? (WebIO.setval({\\\"name\\\":\\\"hover\\\",\\\"scope\\\":\\\"14162959504402205615\\\",\\\"id\\\":\\\"3405405901255189691\\\",\\\"type\\\":\\\"observable\\\"},filtered_data.out)) : undefined})); gd.on(\\\"plotly_unhover\\\",(function (){return WebIO.setval({\\\"name\\\":\\\"hover\\\",\\\"scope\\\":\\\"14162959504402205615\\\",\\\"id\\\":\\\"3405405901255189691\\\",\\\"type\\\":\\\"observable\\\"},{})})); gd.on(\\\"plotly_selected\\\",(function (data){var filtered_data=WebIO.PlotlyCommands.filterEventData(gd,data,\\\"selected\\\"); return !(filtered_data.isnil) ? (WebIO.setval({\\\"name\\\":\\\"selected\\\",\\\"scope\\\":\\\"14162959504402205615\\\",\\\"id\\\":\\\"6123319170160762534\\\",\\\"type\\\":\\\"observable\\\"},filtered_data.out)) : undefined})); gd.on(\\\"plotly_deselect\\\",(function (){return WebIO.setval({\\\"name\\\":\\\"selected\\\",\\\"scope\\\":\\\"14162959504402205615\\\",\\\"id\\\":\\\"6123319170160762534\\\",\\\"type\\\":\\\"observable\\\"},{})})); gd.on(\\\"plotly_relayout\\\",(function (data){var filtered_data=WebIO.PlotlyCommands.filterEventData(gd,data,\\\"relayout\\\"); return !(filtered_data.isnil) ? (WebIO.setval({\\\"name\\\":\\\"relayout\\\",\\\"scope\\\":\\\"14162959504402205615\\\",\\\"id\\\":\\\"86730740057313256\\\",\\\"type\\\":\\\"observable\\\"},filtered_data.out)) : undefined})); return gd.on(\\\"plotly_click\\\",(function (data){var filtered_data=WebIO.PlotlyCommands.filterEventData(gd,data,\\\"click\\\"); return !(filtered_data.isnil) ? (WebIO.setval({\\\"name\\\":\\\"click\\\",\\\"scope\\\":\\\"14162959504402205615\\\",\\\"id\\\":\\\"11027631210500511055\\\",\\\"type\\\":\\\"observable\\\"},filtered_data.out)) : undefined}))}));\\n    (WebIO.importBlock({\\\"data\\\":[{\\\"name\\\":\\\"Plotly\\\",\\\"type\\\":\\\"js\\\",\\\"url\\\":\\\"\\/assetserver\\/f3d9a6d0f5c080ffb47e8c9e300eab67a4d73b47-plotly.min.js\\\"},{\\\"name\\\":null,\\\"type\\\":\\\"js\\\",\\\"url\\\":\\\"\\/assetserver\\/d998e844b98f7bce67f9032fc7613a9df077d1c2-plotly_webio.bundle.js\\\"}],\\\"type\\\":\\\"async_block\\\"})).then((imports) => handler.apply(this, imports));\\n}\\n\"],\"observables\":{\"_toImage\":{\"sync\":true,\"id\":\"11125477151881299794\",\"value\":{}},\"hover\":{\"sync\":false,\"id\":\"3405405901255189691\",\"value\":{}},\"selected\":{\"sync\":false,\"id\":\"6123319170160762534\",\"value\":{}},\"__gd_contents\":{\"sync\":false,\"id\":\"16603868125580655546\",\"value\":{}},\"click\":{\"sync\":false,\"id\":\"11027631210500511055\",\"value\":{}},\"image\":{\"sync\":true,\"id\":\"8494528047965668688\",\"value\":\"\"},\"__get_gd_contents\":{\"sync\":true,\"id\":\"5867409893818587331\",\"value\":\"\"},\"_downloadImage\":{\"sync\":true,\"id\":\"12407392923169110006\",\"value\":{}},\"relayout\":{\"sync\":false,\"id\":\"86730740057313256\",\"value\":{}},\"_commands\":{\"sync\":true,\"id\":\"4761956910565721780\",\"value\":[]}}},\"children\":[{\"props\":{\"id\":\"plot-63d7fbbd-be22-4bba-a483-d4f3cb22b7a4\"},\"nodeType\":\"DOM\",\"type\":\"node\",\"instanceArgs\":{\"namespace\":\"html\",\"tag\":\"div\"},\"children\":[]}]},\n",
       "        window,\n",
       "    );\n",
       "    })()\n",
       "    </script>\n",
       "</div>\n"
      ],
      "text/plain": [
       "data: [\n",
       "  \"scatterpolar with fields color, mode, r, theta, and type\"\n",
       "]\n",
       "\n",
       "layout: \"layout with fields height, margin, template, title, and width\"\n",
       "\n"
      ]
     },
     "execution_count": 77,
     "metadata": {},
     "output_type": "execute_result"
    }
   ],
   "source": [
    "plot(scatterpolar(graphData, r=:RADIUS, theta=:COORD, color=:PLANET, mode=\"markers\"), Layout(title=\"Computed Data Plot\", width=600, height=600))"
   ]
  },
  {
   "cell_type": "markdown",
   "metadata": {},
   "source": [
    "# Data from NASA's SPICE Software\n",
    "http://spice.esac.esa.int/webgeocalc/#OrbitalElements For Orbital Elements. <br>\n",
    "\n",
    "Kernel: (all GENERIC)<br>\n",
    "Orbiting Object: [Mercury, Venus, Earth, Mars, Jupiter, Saturn, Uranus, Neptune]<br>\n",
    "Center of Motion: Sun<br>\n",
    "Reference Frame:ECLIPJ2000<br>\n",
    "Time System: UTC<br>\n",
    "Time Format: Calendar date and time<br>\n",
    "Input Times: Single Time<br>\n",
    "Time: 2053-07-01T00:00:00.00 // Easier Calc<br>\n",
    "(True Anomaly and Sun Distance from [NASA Horizons](https://ssd.jpl.nasa.gov/horizons/app.html))\n",
    "\n",
    "http://spice.esac.esa.int/webgeocalc/#StateVector For Position<br>\n",
    "\n",
    "Kernel: (all GENERIC)<br>\n",
    "Target: [Mercury, Venus, Earth, Mars, Jupiter, Saturn, Uranus, Neptune]<br>\n",
    "OBSERVER: Sun<br>\n",
    "Frame Name:ECLIPJ2000<br>\n",
    "Time System: UTC<br>\n",
    "Time Format: Calendar date and time<br>\n",
    "Input Times: Single Time<br>\n",
    "Time: 2053-07-01T00:35:00.00<br>"
   ]
  },
  {
   "cell_type": "code",
   "execution_count": 43,
   "metadata": {},
   "outputs": [
    {
     "name": "stdout",
     "output_type": "stream",
     "text": [
      "\u001b[1m8×7 DataFrame\u001b[0m\n",
      "\u001b[1m Row \u001b[0m│\u001b[1m M        \u001b[0m\u001b[1m PLANET  \u001b[0m\u001b[1m a          \u001b[0m\u001b[1m e          \u001b[0m\u001b[1m Ω        \u001b[0m\u001b[1m ν        \u001b[0m\u001b[1m ω        \u001b[0m\n",
      "\u001b[1m     \u001b[0m│\u001b[90m Float64  \u001b[0m\u001b[90m String  \u001b[0m\u001b[90m Float64    \u001b[0m\u001b[90m Float64    \u001b[0m\u001b[90m Float64  \u001b[0m\u001b[90m Float64  \u001b[0m\u001b[90m Float64  \u001b[0m\n",
      "─────┼─────────────────────────────────────────────────────────────────────────\n",
      "   1 │ 212.971   Mercury  5.7909e10   0.205646     48.9655  202.489    29.3223\n",
      "   2 │  33.6687  Venus    1.08209e11  0.00674756   77.1617   34.1004   55.1614\n",
      "   3 │ 174.7     Earth    1.49598e11  0.0166865     0.0     174.873   283.861\n",
      "   4 │ 177.981   Mars     2.2794e11   0.0934542    49.9699  178.319   287.074\n",
      "   5 │ 203.384   Jupiter  7.78292e11  0.0485853   100.995   201.291   274.199\n",
      "   6 │ 250.468   Saturn   1.42937e12  0.0553604   114.13    244.635   339.976\n",
      "   7 │  11.713   Uranus   2.8695e12   0.0474636    74.2736   12.885    97.2584\n",
      "   8 │  17.3924  Neptune  4.49675e12  0.00864801  132.37     17.6917  272.728\n",
      "\n",
      "\n",
      "\u001b[1m8×7 DataFrame\u001b[0m\n",
      "\u001b[1m Row \u001b[0m│\u001b[1m PLANET  \u001b[0m\u001b[1m X           \u001b[0m\u001b[1m Y           \u001b[0m\u001b[1m Z           \u001b[0m\u001b[1m ℓ         \u001b[0m\u001b[1m ℓ_corr   \u001b[0m\u001b[1m b         \u001b[0m\n",
      "\u001b[1m     \u001b[0m│\u001b[90m String  \u001b[0m\u001b[90m Float64     \u001b[0m\u001b[90m Float64     \u001b[0m\u001b[90m Float64     \u001b[0m\u001b[90m Float64   \u001b[0m\u001b[90m Float64  \u001b[0m\u001b[90m Float64   \u001b[0m\n",
      "─────┼────────────────────────────────────────────────────────────────────────────────\n",
      "   1 │ Mercury   1.24997e10  -6.69984e10  -6.56379e9    -79.432   280.568   -5.50105\n",
      "   2 │ Venus    -1.04412e11   2.5217e10    6.37187e9    166.422   166.422    3.39486\n",
      "   3 │ Earth    -2.30926e10   1.5032e11    0.0           98.7336   98.7336   0.0\n",
      "   4 │ Mars     -2.26446e11   1.03818e11   7.75461e9    155.37    155.37     1.78299\n",
      "   5 │ Jupiter  -6.53688e11  -4.83554e11   1.66543e10  -143.508   216.492    1.1734\n",
      "   6 │ Saturn    1.3594e12   -5.29636e11  -4.44706e10   -21.2865  338.714   -1.74593\n",
      "   7 │ Uranus   -2.72807e12  -2.10813e11   3.4689e10   -175.581   184.419    0.726346\n",
      "   8 │ Neptune   2.03772e12   3.96482e12  -1.28728e11    62.7991   62.7991  -1.65407"
     ]
    }
   ],
   "source": [
    "# Subsetting my DataFrame\n",
    "\n",
    "subsetBodies = dfBodies[:, [:M, :PLANET, :a, :e, :Ω, :ν, :ω]]\n",
    "subsetPositions = dfBodies[:, [:PLANET, :X_COORD, :Y_COORD, :Z_COORD, :ℓ, :ℓ_corr, :b]]\n",
    "rename!(subsetPositions, :X_COORD => :X)\n",
    "rename!(subsetPositions, :Y_COORD => :Y)\n",
    "rename!(subsetPositions, :Z_COORD => :Z)\n",
    "show(subsetBodies, allcols=true)\n",
    "println(\"\\n\\n\")\n",
    "show(subsetPositions, allcols=true)"
   ]
  },
  {
   "cell_type": "code",
   "execution_count": 44,
   "metadata": {},
   "outputs": [
    {
     "name": "stdout",
     "output_type": "stream",
     "text": [
      "\n",
      "\n",
      "\u001b[31mSPICE Data\u001b[39m\n",
      "\u001b[1m8×6 DataFrame\u001b[0m\n",
      "\u001b[1m Row \u001b[0m│\u001b[1m PLANET  \u001b[0m\u001b[1m Ω        \u001b[0m\u001b[1m a          \u001b[0m\u001b[1m e          \u001b[0m\u001b[1m i          \u001b[0m\u001b[1m M         \u001b[0m\n",
      "\u001b[1m     \u001b[0m│\u001b[90m String  \u001b[0m\u001b[90m Float64  \u001b[0m\u001b[90m Float64    \u001b[0m\u001b[90m Float64    \u001b[0m\u001b[90m Float64    \u001b[0m\u001b[90m Float64   \u001b[0m\n",
      "─────┼──────────────────────────────────────────────────────────────────\n",
      "   1 │ Mercury   48.2639  6.8126e10   0.20565     7.00184     216.969\n",
      "   2 │ Venus     76.5314  1.07611e11  0.00676238  3.39428      35.0415\n",
      "   3 │ Earth    180.378   1.52083e11  0.0175129   0.00672579  175.949\n",
      "   4 │ Mars      49.3984  2.49239e11  0.0935111   1.84549     178.473\n",
      "   5 │ Jupiter  100.582   8.13294e11  0.0473884   1.30344     202.308\n",
      "   6 │ Saturn   113.472   1.45347e12  0.0532792   2.48725     251.786\n",
      "   7 │ Uranus    73.9534  2.73803e12  0.0508291   0.771876      9.66655\n",
      "   8 │ Neptune  132.052   4.46094e12  0.00585937  1.76744      20.4847"
     ]
    }
   ],
   "source": [
    "MercurySPICE = Dict(\n",
    "    \"PLANET\" => \"Mercury\",\n",
    "    \"Ω\" => 48.26394929,\n",
    "    \"ω\" => 29.27515022,\n",
    "    \"a\" => 68126020.15398264E3, #Convert from KM\n",
    "    \"e\" => 0.20565023,\n",
    "    \"M\" => 216.96933818,\n",
    "    \"i\" => 7.00184025,\n",
    "    \"X\" => 14911091.80597833E3,\n",
    "    \"Y\" => -66118957.10648166E3,\n",
    "    \"Z\" => -6772425.47931979E3,\n",
    "    \"ℓ\" => -77.29130718,\n",
    "    \"ℓ_corr\" => polarReferentialFix(-77.29130718),\n",
    "    \"b\" => -5.70597146,\n",
    "    \"ν\" => 205.2995670038993,\n",
    "    \"R\" => 6.778207702727926E10\n",
    ")\n",
    "\n",
    "VenusSPICE = Dict(\n",
    "    \"PLANET\" => \"Venus\",\n",
    "    \"Ω\" => 76.53136424,\n",
    "    \"ω\" => 55.23916999,\n",
    "    \"a\" => 107611084.49418102E3,\n",
    "    \"e\" => \t0.00676238,\n",
    "    \"M\" => 35.04145354,\n",
    "    \"i\" => 3.39427835,\n",
    "    \"X\" => -104794789.27783182E3,\n",
    "    \"Y\" => 23615111.32284366E3,\n",
    "    \"Z\" => 6370740.54597109E3,\n",
    "    \"ℓ\" => 167.30073594,\n",
    "    \"ℓ_corr\" => 167.30073594,\n",
    "    \"b\" => 3.39397305,\n",
    "    \"ν\" => 35.50022680504404,\n",
    "    \"R\" => 1.074549503179932E11\n",
    ")\n",
    "\n",
    "EarthSPICE = Dict(\n",
    "    \"PLANET\" => \"Earth\",\n",
    "    \"Ω\" => 180.37840376,\n",
    "    \"ω\" => 282.44577374,\n",
    "    \"a\" => 152082619.11011820E3,\n",
    "    \"e\" => 0.01751289,\n",
    "    \"M\" => 175.94943770,\n",
    "    \"i\" => 0.00672579,\n",
    "    \"X\" => 23561118.31566819E3,\n",
    "    \"Y\" => -150246452.29559687E3,\n",
    "    \"Z\" => 17654.89506852E3, # For me there's no reason for earth to be z-displaced in ecliptic's frame\n",
    "    \"ℓ\" => -81.06449477,\n",
    "    \"ℓ_corr\" => polarReferentialFix(-81.06449477),\n",
    "    \"b\" => 0.00665092,\n",
    "    \"ν\" => 176.0882921447710,\n",
    "    \"R\" => 1.517150540821351E11\n",
    ")\n",
    "\n",
    "MarsSPICE = Dict(\n",
    "    \"PLANET\" => \"Mars\",\n",
    "    \"Ω\" => 49.39843323,\n",
    "    \"ω\" => 286.91935417,\n",
    "    \"a\" => 249239379.40676948E3,\n",
    "    \"e\" => 0.09351113,\n",
    "    \"M\" => 178.47274288,\n",
    "    \"i\" => 1.84548902,\n",
    "    \"X\" => -225897389.22283340E3,\n",
    "    \"Y\" => 105028364.72766489E3,\n",
    "    \"Z\" => 7728701.20609896E3,\n",
    "    \"ℓ\" => 155.06447561,\n",
    "    \"ℓ_corr\" => 155.06447561,\n",
    "    \"b\" => 1.77697751,\n",
    "    \"ν\" => 178.7280093491614,\n",
    "    \"R\" => 2.491828348843164E11\n",
    ")\n",
    "\n",
    "JupiterSPICE = Dict(\n",
    "    \"PLANET\" => \"Jupiter\",\n",
    "    \"Ω\" => 100.58171490,\n",
    "    \"ω\" => 274.90404577,\n",
    "    \"a\" => 813294159.49340240E3,\n",
    "    \"e\" => 0.04738841,\n",
    "    \"M\" => 202.30773215,\n",
    "    \"i\" => 1.30343505, \n",
    "    \"X\" => -659099013.85965610E3,\n",
    "    \"Y\" => -476188208.77358800E3,\n",
    "    \"Z\" => 16731227.13450408E3,\n",
    "    \"ℓ\" => -144.15250724,\n",
    "    \"ℓ_corr\" => polarReferentialFix(-144.15250724),\n",
    "    \"b\" => 1.17878243,\n",
    "    \"ν\" => 199.9601671373209,\n",
    "    \"R\" => 8.128464215333256E11\n",
    "    \n",
    ")\n",
    "\n",
    "SaturnSPICE = Dict(\n",
    "    \"PLANET\" => \"Saturn\",\n",
    "    \"Ω\" => 113.47181865,\n",
    "    \"ω\" => 338.79130237,\n",
    "    \"a\" => 1453474979.37304350E3,\n",
    "    \"e\" => 0.05327919,\n",
    "    \"M\" => 251.78553602,\n",
    "    \"i\" => 2.48725019,\n",
    "    \"X\" => 1350310213.83293800E3,\n",
    "    \"Y\" => -535972188.34747136E3,\n",
    "    \"Z\" => -44528446.49176982E3,\n",
    "    \"ℓ\" => -21.64937666,\n",
    "    \"ℓ_corr\" => polarReferentialFix(-21.64937666),\n",
    "    \"b\" => -1.75558099,\n",
    "    \"ν\" => 245.8333400468297,\n",
    "    \"R\" => 1.453559593042406E12\n",
    ")\n",
    "\n",
    "UranusSPICE = Dict(\n",
    "    \"PLANET\" => \"Uranus\",\n",
    "    \"Ω\" => 73.95336561,\n",
    "    \"ω\" => 98.96809742,\n",
    "    \"a\" => 2738027824.74679600E3,\n",
    "    \"e\" => 0.05082914,\n",
    "    \"M\" => 9.66654791,\n",
    "    \"i\" => 0.77187598,\n",
    "    \"X\" => -2732305452.18072700E3,\n",
    "    \"Y\" => -173487143.73558030E3,\n",
    "    \"Z\" => 34730880.73453543E3,\n",
    "    \"ℓ\" => -176.36689403,\n",
    "    \"ℓ_corr\" => polarReferentialFix(-176.36689403),\n",
    "    \"b\" => 0.72679545,\n",
    "    \"ν\" => 10.71881736629351,\n",
    "    \"R\" => 2.737747592415333E12\n",
    ")\n",
    "\n",
    "NeptuneSPICE = Dict(\n",
    "    \"PLANET\" => \"Neptune\",\n",
    "    \"Ω\" => 132.05175038,\n",
    "    \"ω\" => 269.26791696,\n",
    "    \"a\" => 4460940793.96299800E3,\n",
    "    \"e\" => 0.00585937,\n",
    "    \"M\" => 20.48466102,\n",
    "    \"i\" => 1.76743947,\n",
    "    \"X\" => 2089979961.21707370E3,\n",
    "    \"Y\" => 3938941296.74271060E3,\n",
    "    \"Z\" => -129298881.91905070E3,\n",
    "    \"ℓ\" =>  62.04983143,\n",
    "    \"ℓ_corr\" => 62.04983143,\n",
    "    \"b\" => -1.66093168,\n",
    "    \"ν\" => 20.08143075194107,\n",
    "    \"R\" => 4.461423855999846E12\n",
    ")\n",
    "\n",
    "dfSPICE = DataFrame(MercurySPICE)\n",
    "push!(dfSPICE, VenusSPICE)\n",
    "push!(dfSPICE, EarthSPICE)\n",
    "push!(dfSPICE, MarsSPICE)\n",
    "push!(dfSPICE, JupiterSPICE)\n",
    "push!(dfSPICE, SaturnSPICE)\n",
    "push!(dfSPICE, UranusSPICE)\n",
    "push!(dfSPICE, NeptuneSPICE)\n",
    "\n",
    "dfSPICEcopy = DataFrame(dfSPICE)\n",
    "\n",
    "subsetBodies = dfBodies[!, [:PLANET, :Ω, :a, :e, :i, :M]]\n",
    "dfSPICEpos = dfSPICE[!, [:PLANET, :X, :Y, :Z, :ℓ, :ℓ_corr, :b]]\n",
    "dfSPICE = dfSPICE[!, [:PLANET, :Ω, :a, :e, :i, :M]]\n",
    "printstyled(\"\\n\\nSPICE Data\\n\", color=:red)\n",
    "show(dfSPICE, allcols=true)\n"
   ]
  },
  {
   "cell_type": "code",
   "execution_count": 45,
   "metadata": {},
   "outputs": [
    {
     "name": "stdout",
     "output_type": "stream",
     "text": [
      "\n",
      "\n",
      "\u001b[32mMy Calculated Data\u001b[39m\n",
      "\u001b[1m8×6 DataFrame\u001b[0m\n",
      "\u001b[1m Row \u001b[0m│\u001b[1m PLANET  \u001b[0m\u001b[1m Ω        \u001b[0m\u001b[1m a          \u001b[0m\u001b[1m e          \u001b[0m\u001b[1m i        \u001b[0m\u001b[1m M        \u001b[0m\n",
      "\u001b[1m     \u001b[0m│\u001b[90m String  \u001b[0m\u001b[90m Float64  \u001b[0m\u001b[90m Float64    \u001b[0m\u001b[90m Float64    \u001b[0m\u001b[90m Float64  \u001b[0m\u001b[90m Float64  \u001b[0m\n",
      "─────┼───────────────────────────────────────────────────────────────\n",
      "   1 │ Mercury   48.9655  5.7909e10   0.205646    7.00568   212.971\n",
      "   2 │ Venus     77.1617  1.08209e11  0.00674756  3.39514    33.6687\n",
      "   3 │ Earth      0.0     1.49598e11  0.0166865   0.0       174.7\n",
      "   4 │ Mars      49.9699  2.2794e11   0.0934542   1.84935   177.981\n",
      "   5 │ Jupiter  100.995   7.78292e11  0.0485853   1.29996   203.384\n",
      "   6 │ Saturn   114.13    1.42937e12  0.0553604   2.48649   250.468\n",
      "   7 │ Uranus    74.2736  2.8695e12   0.0474636   0.773671   11.713\n",
      "   8 │ Neptune  132.37    4.49675e12  0.00864801  1.76502    17.3924"
     ]
    }
   ],
   "source": [
    "printstyled(\"\\n\\nMy Calculated Data\\n\", color=:green)\n",
    "show(subsetBodies, allcols=true, allrows=true)"
   ]
  },
  {
   "cell_type": "markdown",
   "metadata": {},
   "source": [
    "### Comparsion Between Calculated Orbital Elements and SPICE Generated Orbital Elements"
   ]
  },
  {
   "cell_type": "code",
   "execution_count": 46,
   "metadata": {},
   "outputs": [
    {
     "name": "stdout",
     "output_type": "stream",
     "text": [
      "\u001b[1m8×6 DataFrame\u001b[0m\n",
      "\u001b[1m Row \u001b[0m│\u001b[1m Ω       \u001b[0m\u001b[1m a        \u001b[0m\u001b[1m e        \u001b[0m\u001b[1m i        \u001b[0m\u001b[1m M        \u001b[0m\u001b[1m PLANET  \u001b[0m\n",
      "\u001b[1m     \u001b[0m│\u001b[90m Float64 \u001b[0m\u001b[90m Float64  \u001b[0m\u001b[90m Float64  \u001b[0m\u001b[90m Float64  \u001b[0m\u001b[90m Float64  \u001b[0m\u001b[90m String  \u001b[0m\n",
      "─────┼──────────────────────────────────────────────────────────\n",
      "   1 │ 1.01454  0.850028  0.999979  1.00055   0.98157   Mercury\n",
      "   2 │ 1.00824  1.00555   0.997808  1.00025   0.960826  Venus\n",
      "   3 │ 0.0      0.983662  0.952813  0.0       0.992899  Earth\n",
      "   4 │ 1.01157  0.914544  0.999391  1.00209   0.997244  Mars\n",
      "   5 │ 1.00411  0.956962  1.02526   0.997332  1.00532   Jupiter\n",
      "   6 │ 1.0058   0.983416  1.03906   0.999693  0.994767  Saturn\n",
      "   7 │ 1.00433  1.04802   0.933787  1.00233   1.21171   Uranus\n",
      "   8 │ 1.00241  1.00803   1.47593   0.99863   0.849046  Neptune\n",
      "\n",
      "\u001b[1m5×7 DataFrame\u001b[0m\n",
      "\u001b[1m Row \u001b[0m│\u001b[1m variable \u001b[0m\u001b[1m mean     \u001b[0m\u001b[1m min      \u001b[0m\u001b[1m median   \u001b[0m\u001b[1m max     \u001b[0m\u001b[1m nmissing \u001b[0m\u001b[1m eltype   \u001b[0m\n",
      "\u001b[1m     \u001b[0m│\u001b[90m Symbol   \u001b[0m\u001b[90m Float64  \u001b[0m\u001b[90m Float64  \u001b[0m\u001b[90m Float64  \u001b[0m\u001b[90m Float64 \u001b[0m\u001b[90m Int64    \u001b[0m\u001b[90m DataType \u001b[0m\n",
      "─────┼─────────────────────────────────────────────────────────────────────\n",
      "   1 │ Ω         0.881375  0.0       1.00507   1.01454         0  Float64\n",
      "   2 │ a         0.968776  0.850028  0.983539  1.04802         0  Float64\n",
      "   3 │ e         1.053     0.933787  0.999685  1.47593         0  Float64\n",
      "   4 │ i         0.875109  0.0       0.999973  1.00233         0  Float64\n",
      "   5 │ M         0.999172  0.849046  0.993833  1.21171         0  Float64"
     ]
    },
    {
     "data": {
      "text/plain": [
       "percentualDifference (generic function with 1 method)"
      ]
     },
     "execution_count": 46,
     "metadata": {},
     "output_type": "execute_result"
    }
   ],
   "source": [
    "dfDifferenceGENtoSPICE = subsetBodies[!, Not(:PLANET)] .- dfSPICE[!, Not(:PLANET)]\n",
    "dfRateGENtoSPICE = subsetBodies[!, Not(:PLANET)] ./ dfSPICE[!, Not(:PLANET)]\n",
    "dfStatisticsRate = describe(dfRateGENtoSPICE)\n",
    "dfRateGENtoSPICE[!, \"PLANET\"] = [\"Mercury\", \"Venus\", \"Earth\", \"Mars\", \"Jupiter\", \"Saturn\", \"Uranus\", \"Neptune\"]\n",
    "show(dfRateGENtoSPICE, allcols=true, allrows=true)\n",
    "println(\"\\n\")\n",
    "show(dfStatisticsRate, allcols=true, allrows=true)\n",
    "\n",
    "function percentualDifference(n1::Float64, n2::Float64)\n",
    "    return (n1 - n2)/(n1 + n2)\n",
    "end"
   ]
  },
  {
   "cell_type": "code",
   "execution_count": 47,
   "metadata": {},
   "outputs": [
    {
     "data": {
      "text/html": [
       "<div class=\"data-frame\"><p>8 rows × 5 columns</p><table class=\"data-frame\"><thead><tr><th></th><th>Ω</th><th>a</th><th>e</th><th>i</th><th>M</th></tr><tr><th></th><th title=\"Float64\">Float64</th><th title=\"Float64\">Float64</th><th title=\"Float64\">Float64</th><th title=\"Float64\">Float64</th><th title=\"Float64\">Float64</th></tr></thead><tbody><tr><th>1</th><td>0.721586</td><td>-8.10646</td><td>-0.00104721</td><td>0.0273907</td><td>-0.930078</td></tr><tr><th>2</th><td>0.410151</td><td>0.276872</td><td>-0.109705</td><td>0.0126521</td><td>-1.99785</td></tr><tr><th>3</th><td>-100.0</td><td>-0.823636</td><td>-2.41636</td><td>-100.0</td><td>-0.356319</td></tr><tr><th>4</th><td>0.575052</td><td>-4.46349</td><td>-0.0304695</td><td>0.104556</td><td>-0.138007</td></tr><tr><th>5</th><td>0.205112</td><td>-2.19921</td><td>1.24713</td><td>-0.133573</td><td>0.265239</td></tr><tr><th>6</th><td>0.289342</td><td>-0.836144</td><td>1.91569</td><td>-0.0153299</td><td>-0.262319</td></tr><tr><th>7</th><td>0.216064</td><td>2.34453</td><td>-3.42402</td><td>0.116158</td><td>9.57215</td></tr><tr><th>8</th><td>0.120425</td><td>0.399743</td><td>19.2222</td><td>-0.0685692</td><td>-8.16389</td></tr></tbody></table></div>"
      ],
      "text/latex": [
       "\\begin{tabular}{r|ccccc}\n",
       "\t& Ω & a & e & i & M\\\\\n",
       "\t\\hline\n",
       "\t& Float64 & Float64 & Float64 & Float64 & Float64\\\\\n",
       "\t\\hline\n",
       "\t1 & 0.721586 & -8.10646 & -0.00104721 & 0.0273907 & -0.930078 \\\\\n",
       "\t2 & 0.410151 & 0.276872 & -0.109705 & 0.0126521 & -1.99785 \\\\\n",
       "\t3 & -100.0 & -0.823636 & -2.41636 & -100.0 & -0.356319 \\\\\n",
       "\t4 & 0.575052 & -4.46349 & -0.0304695 & 0.104556 & -0.138007 \\\\\n",
       "\t5 & 0.205112 & -2.19921 & 1.24713 & -0.133573 & 0.265239 \\\\\n",
       "\t6 & 0.289342 & -0.836144 & 1.91569 & -0.0153299 & -0.262319 \\\\\n",
       "\t7 & 0.216064 & 2.34453 & -3.42402 & 0.116158 & 9.57215 \\\\\n",
       "\t8 & 0.120425 & 0.399743 & 19.2222 & -0.0685692 & -8.16389 \\\\\n",
       "\\end{tabular}\n"
      ],
      "text/plain": [
       "\u001b[1m8×5 DataFrame\u001b[0m\n",
       "\u001b[1m Row \u001b[0m│\u001b[1m Ω           \u001b[0m\u001b[1m a         \u001b[0m\u001b[1m e           \u001b[0m\u001b[1m i            \u001b[0m\u001b[1m M         \u001b[0m\n",
       "\u001b[1m     \u001b[0m│\u001b[90m Float64     \u001b[0m\u001b[90m Float64   \u001b[0m\u001b[90m Float64     \u001b[0m\u001b[90m Float64      \u001b[0m\u001b[90m Float64   \u001b[0m\n",
       "─────┼──────────────────────────────────────────────────────────────\n",
       "   1 │    0.721586  -8.10646   -0.00104721     0.0273907  -0.930078\n",
       "   2 │    0.410151   0.276872  -0.109705       0.0126521  -1.99785\n",
       "   3 │ -100.0       -0.823636  -2.41636     -100.0        -0.356319\n",
       "   4 │    0.575052  -4.46349   -0.0304695      0.104556   -0.138007\n",
       "   5 │    0.205112  -2.19921    1.24713       -0.133573    0.265239\n",
       "   6 │    0.289342  -0.836144   1.91569       -0.0153299  -0.262319\n",
       "   7 │    0.216064   2.34453   -3.42402        0.116158    9.57215\n",
       "   8 │    0.120425   0.399743  19.2222        -0.0685692  -8.16389"
      ]
     },
     "execution_count": 47,
     "metadata": {},
     "output_type": "execute_result"
    }
   ],
   "source": [
    "percentualDiffDF = percentualDifference.(subsetBodies[!, Not(:PLANET)], dfSPICE[!, Not(:PLANET)])\n",
    "percentualDiffDF .*= 100"
   ]
  },
  {
   "cell_type": "markdown",
   "metadata": {},
   "source": [
    "Generally, the SPICE values are higher than mine (withot high expression unless in case of Earth's elements)"
   ]
  },
  {
   "cell_type": "code",
   "execution_count": 48,
   "metadata": {},
   "outputs": [
    {
     "data": {
      "text/html": [
       "<div class=\"data-frame\"><p>5 rows × 7 columns</p><table class=\"data-frame\"><thead><tr><th></th><th>variable</th><th>mean</th><th>min</th><th>median</th><th>max</th><th>nmissing</th><th>eltype</th></tr><tr><th></th><th title=\"Symbol\">Symbol</th><th title=\"Float64\">Float64</th><th title=\"Float64\">Float64</th><th title=\"Float64\">Float64</th><th title=\"Float64\">Float64</th><th title=\"Int64\">Int64</th><th title=\"DataType\">DataType</th></tr></thead><tbody><tr><th>1</th><td>Ω</td><td>-12.1828</td><td>-100.0</td><td>0.252703</td><td>0.721586</td><td>0</td><td>Float64</td></tr><tr><th>2</th><td>a</td><td>-1.67598</td><td>-8.10646</td><td>-0.82989</td><td>2.34453</td><td>0</td><td>Float64</td></tr><tr><th>3</th><td>e</td><td>2.05043</td><td>-3.42402</td><td>-0.0157583</td><td>19.2222</td><td>0</td><td>Float64</td></tr><tr><th>4</th><td>i</td><td>-12.4946</td><td>-100.0</td><td>-0.0013389</td><td>0.116158</td><td>0</td><td>Float64</td></tr><tr><th>5</th><td>M</td><td>-0.251384</td><td>-8.16389</td><td>-0.309319</td><td>9.57215</td><td>0</td><td>Float64</td></tr></tbody></table></div>"
      ],
      "text/latex": [
       "\\begin{tabular}{r|ccccccc}\n",
       "\t& variable & mean & min & median & max & nmissing & eltype\\\\\n",
       "\t\\hline\n",
       "\t& Symbol & Float64 & Float64 & Float64 & Float64 & Int64 & DataType\\\\\n",
       "\t\\hline\n",
       "\t1 & Ω & -12.1828 & -100.0 & 0.252703 & 0.721586 & 0 & Float64 \\\\\n",
       "\t2 & a & -1.67598 & -8.10646 & -0.82989 & 2.34453 & 0 & Float64 \\\\\n",
       "\t3 & e & 2.05043 & -3.42402 & -0.0157583 & 19.2222 & 0 & Float64 \\\\\n",
       "\t4 & i & -12.4946 & -100.0 & -0.0013389 & 0.116158 & 0 & Float64 \\\\\n",
       "\t5 & M & -0.251384 & -8.16389 & -0.309319 & 9.57215 & 0 & Float64 \\\\\n",
       "\\end{tabular}\n"
      ],
      "text/plain": [
       "\u001b[1m5×7 DataFrame\u001b[0m\n",
       "\u001b[1m Row \u001b[0m│\u001b[1m variable \u001b[0m\u001b[1m mean       \u001b[0m\u001b[1m min        \u001b[0m\u001b[1m median     \u001b[0m\u001b[1m max       \u001b[0m\u001b[1m nmissing \u001b[0m\u001b[1m elty\u001b[0m ⋯\n",
       "\u001b[1m     \u001b[0m│\u001b[90m Symbol   \u001b[0m\u001b[90m Float64    \u001b[0m\u001b[90m Float64    \u001b[0m\u001b[90m Float64    \u001b[0m\u001b[90m Float64   \u001b[0m\u001b[90m Int64    \u001b[0m\u001b[90m Data\u001b[0m ⋯\n",
       "─────┼──────────────────────────────────────────────────────────────────────────\n",
       "   1 │ Ω         -12.1828    -100.0       0.252703    0.721586         0  Floa ⋯\n",
       "   2 │ a          -1.67598     -8.10646  -0.82989     2.34453          0  Floa\n",
       "   3 │ e           2.05043     -3.42402  -0.0157583  19.2222           0  Floa\n",
       "   4 │ i         -12.4946    -100.0      -0.0013389   0.116158         0  Floa\n",
       "   5 │ M          -0.251384    -8.16389  -0.309319    9.57215          0  Floa ⋯\n",
       "\u001b[36m                                                                1 column omitted\u001b[0m"
      ]
     },
     "execution_count": 48,
     "metadata": {},
     "output_type": "execute_result"
    }
   ],
   "source": [
    "describe(percentualDiffDF)"
   ]
  },
  {
   "cell_type": "code",
   "execution_count": 49,
   "metadata": {},
   "outputs": [
    {
     "name": "stdout",
     "output_type": "stream",
     "text": [
      "\u001b[34mMy Data (Positions)\u001b[39m\n",
      "\u001b[1m8×7 DataFrame\u001b[0m\n",
      "\u001b[1m Row \u001b[0m│\u001b[1m PLANET  \u001b[0m\u001b[1m X           \u001b[0m\u001b[1m Y           \u001b[0m\u001b[1m Z           \u001b[0m\u001b[1m ℓ         \u001b[0m\u001b[1m ℓ_corr   \u001b[0m\u001b[1m b         \u001b[0m\n",
      "\u001b[1m     \u001b[0m│\u001b[90m String  \u001b[0m\u001b[90m Float64     \u001b[0m\u001b[90m Float64     \u001b[0m\u001b[90m Float64     \u001b[0m\u001b[90m Float64   \u001b[0m\u001b[90m Float64  \u001b[0m\u001b[90m Float64   \u001b[0m\n",
      "─────┼────────────────────────────────────────────────────────────────────────────────\n",
      "   1 │ Mercury   1.24997e10  -6.69984e10  -6.56379e9    -79.432   280.568   -5.50105\n",
      "   2 │ Venus    -1.04412e11   2.5217e10    6.37187e9    166.422   166.422    3.39486\n",
      "   3 │ Earth    -2.30926e10   1.5032e11    0.0           98.7336   98.7336   0.0\n",
      "   4 │ Mars     -2.26446e11   1.03818e11   7.75461e9    155.37    155.37     1.78299\n",
      "   5 │ Jupiter  -6.53688e11  -4.83554e11   1.66543e10  -143.508   216.492    1.1734\n",
      "   6 │ Saturn    1.3594e12   -5.29636e11  -4.44706e10   -21.2865  338.714   -1.74593\n",
      "   7 │ Uranus   -2.72807e12  -2.10813e11   3.4689e10   -175.581   184.419    0.726346\n",
      "   8 │ Neptune   2.03772e12   3.96482e12  -1.28728e11    62.7991   62.7991  -1.65407\n",
      "\n",
      "\n",
      "\u001b[35mSPICE Data (Positions)\u001b[39m\n",
      "\u001b[1m8×7 DataFrame\u001b[0m\n",
      "\u001b[1m Row \u001b[0m│\u001b[1m PLANET  \u001b[0m\u001b[1m X           \u001b[0m\u001b[1m Y           \u001b[0m\u001b[1m Z           \u001b[0m\u001b[1m ℓ         \u001b[0m\u001b[1m ℓ_corr   \u001b[0m\u001b[1m b           \u001b[0m\n",
      "\u001b[1m     \u001b[0m│\u001b[90m String  \u001b[0m\u001b[90m Float64     \u001b[0m\u001b[90m Float64     \u001b[0m\u001b[90m Float64     \u001b[0m\u001b[90m Float64   \u001b[0m\u001b[90m Float64  \u001b[0m\u001b[90m Float64     \u001b[0m\n",
      "─────┼──────────────────────────────────────────────────────────────────────────────────\n",
      "   1 │ Mercury   1.49111e10  -6.6119e10   -6.77243e9    -77.2913  282.709   -5.70597\n",
      "   2 │ Venus    -1.04795e11   2.36151e10   6.37074e9    167.301   167.301    3.39397\n",
      "   3 │ Earth     2.35611e10  -1.50246e11   1.76549e7    -81.0645  278.936    0.00665092\n",
      "   4 │ Mars     -2.25897e11   1.05028e11   7.7287e9     155.064   155.064    1.77698\n",
      "   5 │ Jupiter  -6.59099e11  -4.76188e11   1.67312e10  -144.153   215.847    1.17878\n",
      "   6 │ Saturn    1.35031e12  -5.35972e11  -4.45284e10   -21.6494  338.351   -1.75558\n",
      "   7 │ Uranus   -2.73231e12  -1.73487e11   3.47309e10  -176.367   183.633    0.726795\n",
      "   8 │ Neptune   2.08998e12   3.93894e12  -1.29299e11    62.0498   62.0498  -1.66093"
     ]
    }
   ],
   "source": [
    "printstyled(\"My Data (Positions)\\n\", color=:blue)\n",
    "show(subsetPositions, allcols=true)\n",
    "println(\"\\n\\n\")\n",
    "printstyled(\"SPICE Data (Positions)\\n\", color=:magenta)\n",
    "show(dfSPICEpos, allcols=true)"
   ]
  },
  {
   "cell_type": "code",
   "execution_count": 50,
   "metadata": {},
   "outputs": [
    {
     "data": {
      "text/html": [
       "<div class=\"data-frame\"><p>8 rows × 6 columns</p><table class=\"data-frame\"><thead><tr><th></th><th>PLANET</th><th>X</th><th>Y</th><th>Z</th><th>ℓ</th><th>b</th></tr><tr><th></th><th title=\"String\">String</th><th title=\"Float64\">Float64</th><th title=\"Float64\">Float64</th><th title=\"Float64\">Float64</th><th title=\"Float64\">Float64</th><th title=\"Float64\">Float64</th></tr></thead><tbody><tr><th>1</th><td>Mercury</td><td>-2.41136e9</td><td>-8.79454e8</td><td>2.08633e8</td><td>-2.14065</td><td>0.204918</td></tr><tr><th>2</th><td>Venus</td><td>3.83106e8</td><td>1.60185e9</td><td>1.12778e6</td><td>-0.8785</td><td>0.000882178</td></tr><tr><th>3</th><td>Earth</td><td>-4.66537e10</td><td>3.00567e11</td><td>-1.76549e7</td><td>179.798</td><td>-0.00665092</td></tr><tr><th>4</th><td>Mars</td><td>-5.48924e8</td><td>-1.21013e9</td><td>2.59061e7</td><td>0.305615</td><td>0.00601605</td></tr><tr><th>5</th><td>Jupiter</td><td>5.41129e9</td><td>-7.36568e9</td><td>-7.69184e7</td><td>0.644035</td><td>-0.0053869</td></tr><tr><th>6</th><td>Saturn</td><td>9.08513e9</td><td>6.33634e9</td><td>5.788e7</td><td>0.362924</td><td>0.00964992</td></tr><tr><th>7</th><td>Uranus</td><td>4.23527e9</td><td>-3.73263e10</td><td>-4.18327e7</td><td>0.785682</td><td>-0.000449759</td></tr><tr><th>8</th><td>Neptune</td><td>-5.22637e10</td><td>2.58776e10</td><td>5.70601e8</td><td>0.749298</td><td>0.00686008</td></tr></tbody></table></div>"
      ],
      "text/latex": [
       "\\begin{tabular}{r|cccccc}\n",
       "\t& PLANET & X & Y & Z & ℓ & b\\\\\n",
       "\t\\hline\n",
       "\t& String & Float64 & Float64 & Float64 & Float64 & Float64\\\\\n",
       "\t\\hline\n",
       "\t1 & Mercury & -2.41136e9 & -8.79454e8 & 2.08633e8 & -2.14065 & 0.204918 \\\\\n",
       "\t2 & Venus & 3.83106e8 & 1.60185e9 & 1.12778e6 & -0.8785 & 0.000882178 \\\\\n",
       "\t3 & Earth & -4.66537e10 & 3.00567e11 & -1.76549e7 & 179.798 & -0.00665092 \\\\\n",
       "\t4 & Mars & -5.48924e8 & -1.21013e9 & 2.59061e7 & 0.305615 & 0.00601605 \\\\\n",
       "\t5 & Jupiter & 5.41129e9 & -7.36568e9 & -7.69184e7 & 0.644035 & -0.0053869 \\\\\n",
       "\t6 & Saturn & 9.08513e9 & 6.33634e9 & 5.788e7 & 0.362924 & 0.00964992 \\\\\n",
       "\t7 & Uranus & 4.23527e9 & -3.73263e10 & -4.18327e7 & 0.785682 & -0.000449759 \\\\\n",
       "\t8 & Neptune & -5.22637e10 & 2.58776e10 & 5.70601e8 & 0.749298 & 0.00686008 \\\\\n",
       "\\end{tabular}\n"
      ],
      "text/plain": [
       "\u001b[1m8×6 DataFrame\u001b[0m\n",
       "\u001b[1m Row \u001b[0m│\u001b[1m PLANET  \u001b[0m\u001b[1m X           \u001b[0m\u001b[1m Y           \u001b[0m\u001b[1m Z          \u001b[0m\u001b[1m ℓ          \u001b[0m\u001b[1m b           \u001b[0m ⋯\n",
       "\u001b[1m     \u001b[0m│\u001b[90m String  \u001b[0m\u001b[90m Float64     \u001b[0m\u001b[90m Float64     \u001b[0m\u001b[90m Float64    \u001b[0m\u001b[90m Float64    \u001b[0m\u001b[90m Float64     \u001b[0m ⋯\n",
       "─────┼──────────────────────────────────────────────────────────────────────────\n",
       "   1 │ Mercury  -2.41136e9   -8.79454e8    2.08633e8   -2.14065    0.204918    ⋯\n",
       "   2 │ Venus     3.83106e8    1.60185e9    1.12778e6   -0.8785     0.000882178\n",
       "   3 │ Earth    -4.66537e10   3.00567e11  -1.76549e7  179.798     -0.00665092\n",
       "   4 │ Mars     -5.48924e8   -1.21013e9    2.59061e7    0.305615   0.00601605\n",
       "   5 │ Jupiter   5.41129e9   -7.36568e9   -7.69184e7    0.644035  -0.0053869   ⋯\n",
       "   6 │ Saturn    9.08513e9    6.33634e9    5.788e7      0.362924   0.00964992\n",
       "   7 │ Uranus    4.23527e9   -3.73263e10  -4.18327e7    0.785682  -0.000449759\n",
       "   8 │ Neptune  -5.22637e10   2.58776e10   5.70601e8    0.749298   0.00686008"
      ]
     },
     "execution_count": 50,
     "metadata": {},
     "output_type": "execute_result"
    }
   ],
   "source": [
    "positionsDif = subsetPositions[!,Not(:PLANET)] .- dfSPICEpos[!,Not(:PLANET)]\n",
    "positionsDif[!, \"PLANET\"] = dfSPICEpos[!, \"PLANET\"]\n",
    "\n",
    "positionsDif = positionsDif[:, [:PLANET, :X, :Y, :Z, :ℓ, :b]]"
   ]
  },
  {
   "cell_type": "code",
   "execution_count": 51,
   "metadata": {},
   "outputs": [
    {
     "data": {
      "text/html": [
       "<div class=\"data-frame\"><p>8 rows × 6 columns</p><table class=\"data-frame\"><thead><tr><th></th><th>X</th><th>Y</th><th>Z</th><th>ℓ</th><th>ℓ_corr</th><th>b</th></tr><tr><th></th><th title=\"Float64\">Float64</th><th title=\"Float64\">Float64</th><th title=\"Float64\">Float64</th><th title=\"Float64\">Float64</th><th title=\"Float64\">Float64</th><th title=\"Float64\">Float64</th></tr></thead><tbody><tr><th>1</th><td>0.838284</td><td>1.0133</td><td>0.969194</td><td>1.0277</td><td>0.992428</td><td>0.964087</td></tr><tr><th>2</th><td>0.996344</td><td>1.06783</td><td>1.00018</td><td>0.994749</td><td>0.994749</td><td>1.00026</td></tr><tr><th>3</th><td>-0.980114</td><td>-1.00049</td><td>0.0</td><td>-1.21796</td><td>0.353966</td><td>0.0</td></tr><tr><th>4</th><td>1.00243</td><td>0.988478</td><td>1.00335</td><td>1.00197</td><td>1.00197</td><td>1.00339</td></tr><tr><th>5</th><td>0.99179</td><td>1.01547</td><td>0.995403</td><td>0.995532</td><td>1.00298</td><td>0.99543</td></tr><tr><th>6</th><td>1.00673</td><td>0.988178</td><td>0.9987</td><td>0.983236</td><td>1.00107</td><td>0.994503</td></tr><tr><th>7</th><td>0.99845</td><td>1.21515</td><td>0.998796</td><td>0.995545</td><td>1.00428</td><td>0.999381</td></tr><tr><th>8</th><td>0.974993</td><td>1.00657</td><td>0.995587</td><td>1.01208</td><td>1.01208</td><td>0.99587</td></tr></tbody></table></div>"
      ],
      "text/latex": [
       "\\begin{tabular}{r|cccccc}\n",
       "\t& X & Y & Z & ℓ & ℓ\\_corr & b\\\\\n",
       "\t\\hline\n",
       "\t& Float64 & Float64 & Float64 & Float64 & Float64 & Float64\\\\\n",
       "\t\\hline\n",
       "\t1 & 0.838284 & 1.0133 & 0.969194 & 1.0277 & 0.992428 & 0.964087 \\\\\n",
       "\t2 & 0.996344 & 1.06783 & 1.00018 & 0.994749 & 0.994749 & 1.00026 \\\\\n",
       "\t3 & -0.980114 & -1.00049 & 0.0 & -1.21796 & 0.353966 & 0.0 \\\\\n",
       "\t4 & 1.00243 & 0.988478 & 1.00335 & 1.00197 & 1.00197 & 1.00339 \\\\\n",
       "\t5 & 0.99179 & 1.01547 & 0.995403 & 0.995532 & 1.00298 & 0.99543 \\\\\n",
       "\t6 & 1.00673 & 0.988178 & 0.9987 & 0.983236 & 1.00107 & 0.994503 \\\\\n",
       "\t7 & 0.99845 & 1.21515 & 0.998796 & 0.995545 & 1.00428 & 0.999381 \\\\\n",
       "\t8 & 0.974993 & 1.00657 & 0.995587 & 1.01208 & 1.01208 & 0.99587 \\\\\n",
       "\\end{tabular}\n"
      ],
      "text/plain": [
       "\u001b[1m8×6 DataFrame\u001b[0m\n",
       "\u001b[1m Row \u001b[0m│\u001b[1m X         \u001b[0m\u001b[1m Y         \u001b[0m\u001b[1m Z        \u001b[0m\u001b[1m ℓ         \u001b[0m\u001b[1m ℓ_corr   \u001b[0m\u001b[1m b        \u001b[0m\n",
       "\u001b[1m     \u001b[0m│\u001b[90m Float64   \u001b[0m\u001b[90m Float64   \u001b[0m\u001b[90m Float64  \u001b[0m\u001b[90m Float64   \u001b[0m\u001b[90m Float64  \u001b[0m\u001b[90m Float64  \u001b[0m\n",
       "─────┼───────────────────────────────────────────────────────────────\n",
       "   1 │  0.838284   1.0133    0.969194   1.0277    0.992428  0.964087\n",
       "   2 │  0.996344   1.06783   1.00018    0.994749  0.994749  1.00026\n",
       "   3 │ -0.980114  -1.00049   0.0       -1.21796   0.353966  0.0\n",
       "   4 │  1.00243    0.988478  1.00335    1.00197   1.00197   1.00339\n",
       "   5 │  0.99179    1.01547   0.995403   0.995532  1.00298   0.99543\n",
       "   6 │  1.00673    0.988178  0.9987     0.983236  1.00107   0.994503\n",
       "   7 │  0.99845    1.21515   0.998796   0.995545  1.00428   0.999381\n",
       "   8 │  0.974993   1.00657   0.995587   1.01208   1.01208   0.99587"
      ]
     },
     "execution_count": 51,
     "metadata": {},
     "output_type": "execute_result"
    }
   ],
   "source": [
    "positionsRatio = subsetPositions[!,Not(:PLANET)] ./ dfSPICEpos[!,Not(:PLANET)]"
   ]
  },
  {
   "cell_type": "code",
   "execution_count": 52,
   "metadata": {},
   "outputs": [
    {
     "data": {
      "text/html": [
       "<div class=\"data-frame\"><p>8 rows × 6 columns</p><table class=\"data-frame\"><thead><tr><th></th><th>X</th><th>Y</th><th>Z</th><th>ℓ</th><th>ℓ_corr</th><th>b</th></tr><tr><th></th><th title=\"Float64\">Float64</th><th title=\"Float64\">Float64</th><th title=\"Float64\">Float64</th><th title=\"Float64\">Float64</th><th title=\"Float64\">Float64</th><th title=\"Float64\">Float64</th></tr></thead><tbody><tr><th>1</th><td>-8.7971</td><td>0.66066</td><td>-1.56441</td><td>1.36588</td><td>-0.380036</td><td>-1.82848</td></tr><tr><th>2</th><td>-0.183123</td><td>3.28031</td><td>0.00885047</td><td>-0.263242</td><td>-0.263242</td><td>0.0129946</td></tr><tr><th>3</th><td>-9957.51</td><td>4.06544e5</td><td>-100.0</td><td>1017.58</td><td>-47.7142</td><td>-100.0</td></tr><tr><th>4</th><td>0.121351</td><td>-0.579434</td><td>0.167316</td><td>0.0984476</td><td>0.0984476</td><td>0.168992</td></tr><tr><th>5</th><td>-0.412199</td><td>0.767465</td><td>-0.230394</td><td>-0.223887</td><td>0.148965</td><td>-0.229017</td></tr><tr><th>6</th><td>0.335281</td><td>-0.594622</td><td>-0.0650344</td><td>-0.845271</td><td>0.0536026</td><td>-0.275593</td></tr><tr><th>7</th><td>-0.0775638</td><td>9.71279</td><td>-0.0602604</td><td>-0.223238</td><td>0.21347</td><td>-0.0309508</td></tr><tr><th>8</th><td>-1.26617</td><td>0.327409</td><td>-0.22114</td><td>0.600164</td><td>0.600164</td><td>-0.20694</td></tr></tbody></table></div>"
      ],
      "text/latex": [
       "\\begin{tabular}{r|cccccc}\n",
       "\t& X & Y & Z & ℓ & ℓ\\_corr & b\\\\\n",
       "\t\\hline\n",
       "\t& Float64 & Float64 & Float64 & Float64 & Float64 & Float64\\\\\n",
       "\t\\hline\n",
       "\t1 & -8.7971 & 0.66066 & -1.56441 & 1.36588 & -0.380036 & -1.82848 \\\\\n",
       "\t2 & -0.183123 & 3.28031 & 0.00885047 & -0.263242 & -0.263242 & 0.0129946 \\\\\n",
       "\t3 & -9957.51 & 4.06544e5 & -100.0 & 1017.58 & -47.7142 & -100.0 \\\\\n",
       "\t4 & 0.121351 & -0.579434 & 0.167316 & 0.0984476 & 0.0984476 & 0.168992 \\\\\n",
       "\t5 & -0.412199 & 0.767465 & -0.230394 & -0.223887 & 0.148965 & -0.229017 \\\\\n",
       "\t6 & 0.335281 & -0.594622 & -0.0650344 & -0.845271 & 0.0536026 & -0.275593 \\\\\n",
       "\t7 & -0.0775638 & 9.71279 & -0.0602604 & -0.223238 & 0.21347 & -0.0309508 \\\\\n",
       "\t8 & -1.26617 & 0.327409 & -0.22114 & 0.600164 & 0.600164 & -0.20694 \\\\\n",
       "\\end{tabular}\n"
      ],
      "text/plain": [
       "\u001b[1m8×6 DataFrame\u001b[0m\n",
       "\u001b[1m Row \u001b[0m│\u001b[1m X             \u001b[0m\u001b[1m Y          \u001b[0m\u001b[1m Z             \u001b[0m\u001b[1m ℓ            \u001b[0m\u001b[1m ℓ_corr      \u001b[0m\u001b[1m b \u001b[0m ⋯\n",
       "\u001b[1m     \u001b[0m│\u001b[90m Float64       \u001b[0m\u001b[90m Float64    \u001b[0m\u001b[90m Float64       \u001b[0m\u001b[90m Float64      \u001b[0m\u001b[90m Float64     \u001b[0m\u001b[90m Fl\u001b[0m ⋯\n",
       "─────┼──────────────────────────────────────────────────────────────────────────\n",
       "   1 │    -8.7971      0.66066      -1.56441        1.36588     -0.380036      ⋯\n",
       "   2 │    -0.183123    3.28031       0.00885047    -0.263242    -0.263242\n",
       "   3 │ -9957.51        4.06544e5  -100.0         1017.58       -47.7142     -1\n",
       "   4 │     0.121351   -0.579434      0.167316       0.0984476    0.0984476\n",
       "   5 │    -0.412199    0.767465     -0.230394      -0.223887     0.148965      ⋯\n",
       "   6 │     0.335281   -0.594622     -0.0650344     -0.845271     0.0536026\n",
       "   7 │    -0.0775638   9.71279      -0.0602604     -0.223238     0.21347\n",
       "   8 │    -1.26617     0.327409     -0.22114        0.600164     0.600164\n",
       "\u001b[36m                                                                1 column omitted\u001b[0m"
      ]
     },
     "execution_count": 52,
     "metadata": {},
     "output_type": "execute_result"
    }
   ],
   "source": [
    "positionsPercentDiff = percentualDifference.(subsetPositions[!,Not(:PLANET)], dfSPICEpos[!,Not(:PLANET)])\n",
    "positionsPercentDiff .*= 100"
   ]
  },
  {
   "cell_type": "markdown",
   "metadata": {},
   "source": [
    "## PLotting SPICE Data"
   ]
  },
  {
   "cell_type": "code",
   "execution_count": 53,
   "metadata": {},
   "outputs": [
    {
     "data": {
      "application/vnd.plotly.v1+json": {
       "config": {
        "editable": false,
        "responsive": true,
        "scrollZoom": true,
        "showLink": false,
        "staticPlot": false
       },
       "data": [
        {
         "mode": "markers",
         "r": "RADIUS",
         "theta": [
          -77.29130718,
          167.30073594,
          -81.06449477,
          155.06447561,
          -144.15250724,
          -21.64937666,
          -176.36689403,
          62.04983143
         ],
         "type": "scatterpolar"
        }
       ],
       "frames": [],
       "layout": {
        "margin": {
         "b": 50,
         "l": 50,
         "r": 50,
         "t": 60
        },
        "template": {
         "data": {
          "bar": [
           {
            "error_x": {
             "color": "#2a3f5f"
            },
            "error_y": {
             "color": "#2a3f5f"
            },
            "marker": {
             "line": {
              "color": "#E5ECF6",
              "width": 0.5
             }
            },
            "type": "bar"
           }
          ],
          "barpolar": [
           {
            "marker": {
             "line": {
              "color": "#E5ECF6",
              "width": 0.5
             }
            },
            "type": "barpolar"
           }
          ],
          "carpet": [
           {
            "aaxis": {
             "endlinecolor": "#2a3f5f",
             "gridcolor": "white",
             "linecolor": "white",
             "minorgridcolor": "white",
             "startlinecolor": "#2a3f5f"
            },
            "baxis": {
             "endlinecolor": "#2a3f5f",
             "gridcolor": "white",
             "linecolor": "white",
             "minorgridcolor": "white",
             "startlinecolor": "#2a3f5f"
            },
            "type": "carpet"
           }
          ],
          "choropleth": [
           {
            "colorbar": {
             "outlinewidth": 0,
             "ticks": ""
            },
            "type": "choropleth"
           }
          ],
          "contour": [
           {
            "colorbar": {
             "outlinewidth": 0,
             "ticks": ""
            },
            "colorscale": [
             [
              0,
              "#0d0887"
             ],
             [
              0.1111111111111111,
              "#46039f"
             ],
             [
              0.2222222222222222,
              "#7201a8"
             ],
             [
              0.3333333333333333,
              "#9c179e"
             ],
             [
              0.4444444444444444,
              "#bd3786"
             ],
             [
              0.5555555555555556,
              "#d8576b"
             ],
             [
              0.6666666666666666,
              "#ed7953"
             ],
             [
              0.7777777777777778,
              "#fb9f3a"
             ],
             [
              0.8888888888888888,
              "#fdca26"
             ],
             [
              1,
              "#f0f921"
             ]
            ],
            "type": "contour"
           }
          ],
          "contourcarpet": [
           {
            "colorbar": {
             "outlinewidth": 0,
             "ticks": ""
            },
            "type": "contourcarpet"
           }
          ],
          "heatmap": [
           {
            "colorbar": {
             "outlinewidth": 0,
             "ticks": ""
            },
            "colorscale": [
             [
              0,
              "#0d0887"
             ],
             [
              0.1111111111111111,
              "#46039f"
             ],
             [
              0.2222222222222222,
              "#7201a8"
             ],
             [
              0.3333333333333333,
              "#9c179e"
             ],
             [
              0.4444444444444444,
              "#bd3786"
             ],
             [
              0.5555555555555556,
              "#d8576b"
             ],
             [
              0.6666666666666666,
              "#ed7953"
             ],
             [
              0.7777777777777778,
              "#fb9f3a"
             ],
             [
              0.8888888888888888,
              "#fdca26"
             ],
             [
              1,
              "#f0f921"
             ]
            ],
            "type": "heatmap"
           }
          ],
          "heatmapgl": [
           {
            "colorbar": {
             "outlinewidth": 0,
             "ticks": ""
            },
            "colorscale": [
             [
              0,
              "#0d0887"
             ],
             [
              0.1111111111111111,
              "#46039f"
             ],
             [
              0.2222222222222222,
              "#7201a8"
             ],
             [
              0.3333333333333333,
              "#9c179e"
             ],
             [
              0.4444444444444444,
              "#bd3786"
             ],
             [
              0.5555555555555556,
              "#d8576b"
             ],
             [
              0.6666666666666666,
              "#ed7953"
             ],
             [
              0.7777777777777778,
              "#fb9f3a"
             ],
             [
              0.8888888888888888,
              "#fdca26"
             ],
             [
              1,
              "#f0f921"
             ]
            ],
            "type": "heatmapgl"
           }
          ],
          "histogram": [
           {
            "marker": {
             "colorbar": {
              "outlinewidth": 0,
              "ticks": ""
             }
            },
            "type": "histogram"
           }
          ],
          "histogram2d": [
           {
            "colorbar": {
             "outlinewidth": 0,
             "ticks": ""
            },
            "colorscale": [
             [
              0,
              "#0d0887"
             ],
             [
              0.1111111111111111,
              "#46039f"
             ],
             [
              0.2222222222222222,
              "#7201a8"
             ],
             [
              0.3333333333333333,
              "#9c179e"
             ],
             [
              0.4444444444444444,
              "#bd3786"
             ],
             [
              0.5555555555555556,
              "#d8576b"
             ],
             [
              0.6666666666666666,
              "#ed7953"
             ],
             [
              0.7777777777777778,
              "#fb9f3a"
             ],
             [
              0.8888888888888888,
              "#fdca26"
             ],
             [
              1,
              "#f0f921"
             ]
            ],
            "type": "histogram2d"
           }
          ],
          "histogram2dcontour": [
           {
            "colorbar": {
             "outlinewidth": 0,
             "ticks": ""
            },
            "colorscale": [
             [
              0,
              "#0d0887"
             ],
             [
              0.1111111111111111,
              "#46039f"
             ],
             [
              0.2222222222222222,
              "#7201a8"
             ],
             [
              0.3333333333333333,
              "#9c179e"
             ],
             [
              0.4444444444444444,
              "#bd3786"
             ],
             [
              0.5555555555555556,
              "#d8576b"
             ],
             [
              0.6666666666666666,
              "#ed7953"
             ],
             [
              0.7777777777777778,
              "#fb9f3a"
             ],
             [
              0.8888888888888888,
              "#fdca26"
             ],
             [
              1,
              "#f0f921"
             ]
            ],
            "type": "histogram2dcontour"
           }
          ],
          "mesh3d": [
           {
            "colorbar": {
             "outlinewidth": 0,
             "ticks": ""
            },
            "type": "mesh3d"
           }
          ],
          "parcoords": [
           {
            "line": {
             "colorbar": {
              "outlinewidth": 0,
              "ticks": ""
             }
            },
            "type": "parcoords"
           }
          ],
          "pie": [
           {
            "automargin": true,
            "type": "pie"
           }
          ],
          "scatter": [
           {
            "marker": {
             "colorbar": {
              "outlinewidth": 0,
              "ticks": ""
             }
            },
            "type": "scatter"
           }
          ],
          "scatter3d": [
           {
            "line": {
             "colorbar": {
              "outlinewidth": 0,
              "ticks": ""
             }
            },
            "marker": {
             "colorbar": {
              "outlinewidth": 0,
              "ticks": ""
             }
            },
            "type": "scatter3d"
           }
          ],
          "scattercarpet": [
           {
            "marker": {
             "colorbar": {
              "outlinewidth": 0,
              "ticks": ""
             }
            },
            "type": "scattercarpet"
           }
          ],
          "scattergeo": [
           {
            "marker": {
             "colorbar": {
              "outlinewidth": 0,
              "ticks": ""
             }
            },
            "type": "scattergeo"
           }
          ],
          "scattergl": [
           {
            "marker": {
             "colorbar": {
              "outlinewidth": 0,
              "ticks": ""
             }
            },
            "type": "scattergl"
           }
          ],
          "scattermapbox": [
           {
            "marker": {
             "colorbar": {
              "outlinewidth": 0,
              "ticks": ""
             }
            },
            "type": "scattermapbox"
           }
          ],
          "scatterpolar": [
           {
            "marker": {
             "colorbar": {
              "outlinewidth": 0,
              "ticks": ""
             }
            },
            "type": "scatterpolar"
           }
          ],
          "scatterpolargl": [
           {
            "marker": {
             "colorbar": {
              "outlinewidth": 0,
              "ticks": ""
             }
            },
            "type": "scatterpolargl"
           }
          ],
          "scatterternary": [
           {
            "marker": {
             "colorbar": {
              "outlinewidth": 0,
              "ticks": ""
             }
            },
            "type": "scatterternary"
           }
          ],
          "surface": [
           {
            "colorbar": {
             "outlinewidth": 0,
             "ticks": ""
            },
            "colorscale": [
             [
              0,
              "#0d0887"
             ],
             [
              0.1111111111111111,
              "#46039f"
             ],
             [
              0.2222222222222222,
              "#7201a8"
             ],
             [
              0.3333333333333333,
              "#9c179e"
             ],
             [
              0.4444444444444444,
              "#bd3786"
             ],
             [
              0.5555555555555556,
              "#d8576b"
             ],
             [
              0.6666666666666666,
              "#ed7953"
             ],
             [
              0.7777777777777778,
              "#fb9f3a"
             ],
             [
              0.8888888888888888,
              "#fdca26"
             ],
             [
              1,
              "#f0f921"
             ]
            ],
            "type": "surface"
           }
          ],
          "table": [
           {
            "cells": {
             "fill": {
              "color": "#EBF0F8"
             },
             "line": {
              "color": "white"
             }
            },
            "header": {
             "fill": {
              "color": "#C8D4E3"
             },
             "line": {
              "color": "white"
             }
            },
            "type": "table"
           }
          ]
         },
         "layout": {
          "annotationdefaults": {
           "arrowcolor": "#2a3f5f",
           "arrowhead": 0,
           "arrowwidth": 1
          },
          "autotypenumbers": "strict",
          "coloraxis": {
           "colorbar": {
            "outlinewidth": 0,
            "ticks": ""
           }
          },
          "colorscale": {
           "diverging": [
            [
             0,
             "#8e0152"
            ],
            [
             0.1,
             "#c51b7d"
            ],
            [
             0.2,
             "#de77ae"
            ],
            [
             0.3,
             "#f1b6da"
            ],
            [
             0.4,
             "#fde0ef"
            ],
            [
             0.5,
             "#f7f7f7"
            ],
            [
             0.6,
             "#e6f5d0"
            ],
            [
             0.7,
             "#b8e186"
            ],
            [
             0.8,
             "#7fbc41"
            ],
            [
             0.9,
             "#4d9221"
            ],
            [
             1,
             "#276419"
            ]
           ],
           "sequential": [
            [
             0,
             "#0d0887"
            ],
            [
             0.1111111111111111,
             "#46039f"
            ],
            [
             0.2222222222222222,
             "#7201a8"
            ],
            [
             0.3333333333333333,
             "#9c179e"
            ],
            [
             0.4444444444444444,
             "#bd3786"
            ],
            [
             0.5555555555555556,
             "#d8576b"
            ],
            [
             0.6666666666666666,
             "#ed7953"
            ],
            [
             0.7777777777777778,
             "#fb9f3a"
            ],
            [
             0.8888888888888888,
             "#fdca26"
            ],
            [
             1,
             "#f0f921"
            ]
           ],
           "sequentialminus": [
            [
             0,
             "#0d0887"
            ],
            [
             0.1111111111111111,
             "#46039f"
            ],
            [
             0.2222222222222222,
             "#7201a8"
            ],
            [
             0.3333333333333333,
             "#9c179e"
            ],
            [
             0.4444444444444444,
             "#bd3786"
            ],
            [
             0.5555555555555556,
             "#d8576b"
            ],
            [
             0.6666666666666666,
             "#ed7953"
            ],
            [
             0.7777777777777778,
             "#fb9f3a"
            ],
            [
             0.8888888888888888,
             "#fdca26"
            ],
            [
             1,
             "#f0f921"
            ]
           ]
          },
          "colorway": [
           "#636efa",
           "#EF553B",
           "#00cc96",
           "#ab63fa",
           "#FFA15A",
           "#19d3f3",
           "#FF6692",
           "#B6E880",
           "#FF97FF",
           "#FECB52"
          ],
          "font": {
           "color": "#2a3f5f"
          },
          "geo": {
           "bgcolor": "white",
           "lakecolor": "white",
           "landcolor": "#E5ECF6",
           "showlakes": true,
           "showland": true,
           "subunitcolor": "white"
          },
          "hoverlabel": {
           "align": "left"
          },
          "hovermode": "closest",
          "mapbox": {
           "style": "light"
          },
          "paper_bgcolor": "white",
          "plot_bgcolor": "#E5ECF6",
          "polar": {
           "angularaxis": {
            "gridcolor": "white",
            "linecolor": "white",
            "ticks": ""
           },
           "bgcolor": "#E5ECF6",
           "radialaxis": {
            "gridcolor": "white",
            "linecolor": "white",
            "ticks": ""
           }
          },
          "scene": {
           "xaxis": {
            "backgroundcolor": "#E5ECF6",
            "gridcolor": "white",
            "gridwidth": 2,
            "linecolor": "white",
            "showbackground": true,
            "ticks": "",
            "zerolinecolor": "white"
           },
           "yaxis": {
            "backgroundcolor": "#E5ECF6",
            "gridcolor": "white",
            "gridwidth": 2,
            "linecolor": "white",
            "showbackground": true,
            "ticks": "",
            "zerolinecolor": "white"
           },
           "zaxis": {
            "backgroundcolor": "#E5ECF6",
            "gridcolor": "white",
            "gridwidth": 2,
            "linecolor": "white",
            "showbackground": true,
            "ticks": "",
            "zerolinecolor": "white"
           }
          },
          "shapedefaults": {
           "line": {
            "color": "#2a3f5f"
           }
          },
          "ternary": {
           "aaxis": {
            "gridcolor": "white",
            "linecolor": "white",
            "ticks": ""
           },
           "baxis": {
            "gridcolor": "white",
            "linecolor": "white",
            "ticks": ""
           },
           "bgcolor": "#E5ECF6",
           "caxis": {
            "gridcolor": "white",
            "linecolor": "white",
            "ticks": ""
           }
          },
          "title": {
           "x": 0.05
          },
          "xaxis": {
           "automargin": true,
           "gridcolor": "white",
           "linecolor": "white",
           "ticks": "",
           "title": {
            "standoff": 15
           },
           "zerolinecolor": "white",
           "zerolinewidth": 2
          },
          "yaxis": {
           "automargin": true,
           "gridcolor": "white",
           "linecolor": "white",
           "ticks": "",
           "title": {
            "standoff": 15
           },
           "zerolinecolor": "white",
           "zerolinewidth": 2
          }
         }
        }
       }
      },
      "text/html": [
       "<div\n",
       "    class=\"webio-mountpoint\"\n",
       "    data-webio-mountpoint=\"4664229380263178995\"\n",
       ">\n",
       "    <script>\n",
       "    (function(){\n",
       "    // Some integrations (namely, IJulia/Jupyter) use an alternate render pathway than\n",
       "    // just putting the html on the page. If WebIO isn't defined, then it's pretty likely\n",
       "    // that we're in one of those situations and the integration just isn't installed\n",
       "    // correctly.\n",
       "    if (typeof window.WebIO === \"undefined\") {\n",
       "        document\n",
       "            .querySelector('[data-webio-mountpoint=\"4664229380263178995\"]')\n",
       "            .innerHTML = (\n",
       "                '<div style=\"padding: 1em; background-color: #f8d6da; border: 1px solid #f5c6cb; font-weight: bold;\">' +\n",
       "                '<p><strong>WebIO not detected.</strong></p>' +\n",
       "                '<p>Please read ' +\n",
       "                '<a href=\"https://juliagizmos.github.io/WebIO.jl/latest/troubleshooting/not-detected/\" target=\"_blank\">the troubleshooting guide</a> ' +\n",
       "                'for more information on how to resolve this issue.</p>' +\n",
       "                '<p><a href=\"https://juliagizmos.github.io/WebIO.jl/latest/troubleshooting/not-detected/\" target=\"_blank\">https://juliagizmos.github.io/WebIO.jl/latest/troubleshooting/not-detected/</a></p>' +\n",
       "                '</div>'\n",
       "            );\n",
       "        return;\n",
       "    }\n",
       "    WebIO.mount(\n",
       "        document.querySelector('[data-webio-mountpoint=\"4664229380263178995\"]'),\n",
       "        {\"props\":{},\"nodeType\":\"Scope\",\"type\":\"node\",\"instanceArgs\":{\"imports\":{\"data\":[{\"name\":\"Plotly\",\"type\":\"js\",\"url\":\"\\/assetserver\\/f3d9a6d0f5c080ffb47e8c9e300eab67a4d73b47-plotly.min.js\"},{\"name\":null,\"type\":\"js\",\"url\":\"\\/assetserver\\/d998e844b98f7bce67f9032fc7613a9df077d1c2-plotly_webio.bundle.js\"}],\"type\":\"async_block\"},\"id\":\"12270087549046901536\",\"handlers\":{\"_toImage\":[\"(function (options){return this.Plotly.toImage(this.plotElem,options).then((function (data){return WebIO.setval({\\\"name\\\":\\\"image\\\",\\\"scope\\\":\\\"12270087549046901536\\\",\\\"id\\\":\\\"5708709313251426646\\\",\\\"type\\\":\\\"observable\\\"},data)}))})\"],\"__get_gd_contents\":[\"(function (prop){prop==\\\"data\\\" ? (WebIO.setval({\\\"name\\\":\\\"__gd_contents\\\",\\\"scope\\\":\\\"12270087549046901536\\\",\\\"id\\\":\\\"9580470239016466406\\\",\\\"type\\\":\\\"observable\\\"},this.plotElem.data)) : undefined; return prop==\\\"layout\\\" ? (WebIO.setval({\\\"name\\\":\\\"__gd_contents\\\",\\\"scope\\\":\\\"12270087549046901536\\\",\\\"id\\\":\\\"9580470239016466406\\\",\\\"type\\\":\\\"observable\\\"},this.plotElem.layout)) : undefined})\"],\"_downloadImage\":[\"(function (options){return this.Plotly.downloadImage(this.plotElem,options)})\"],\"_commands\":[\"(function (args){var fn=args.shift(); var elem=this.plotElem; var Plotly=this.Plotly; args.unshift(elem); return Plotly[fn].apply(this,args)})\"]},\"systemjs_options\":null,\"mount_callbacks\":[\"function () {\\n    var handler = ((function (Plotly,PlotlyWebIO){PlotlyWebIO.init(WebIO); var gd=this.dom.querySelector(\\\"#plot-6c4e25ef-086e-4cb8-a2e8-6a46ec8daf34\\\"); this.plotElem=gd; this.Plotly=Plotly; (window.Blink!==undefined) ? (gd.style.width=\\\"100%\\\", gd.style.height=\\\"100vh\\\", gd.style.marginLeft=\\\"0%\\\", gd.style.marginTop=\\\"0vh\\\") : undefined; window.onresize=(function (){return Plotly.Plots.resize(gd)}); Plotly.newPlot(gd,[{\\\"mode\\\":\\\"markers\\\",\\\"type\\\":\\\"scatterpolar\\\",\\\"theta\\\":[-77.29130718,167.30073594,-81.06449477,155.06447561,-144.15250724,-21.64937666,-176.36689403,62.04983143],\\\"r\\\":\\\"RADIUS\\\"}],{\\\"template\\\":{\\\"layout\\\":{\\\"coloraxis\\\":{\\\"colorbar\\\":{\\\"ticks\\\":\\\"\\\",\\\"outlinewidth\\\":0}},\\\"xaxis\\\":{\\\"gridcolor\\\":\\\"white\\\",\\\"zerolinewidth\\\":2,\\\"title\\\":{\\\"standoff\\\":15},\\\"ticks\\\":\\\"\\\",\\\"zerolinecolor\\\":\\\"white\\\",\\\"automargin\\\":true,\\\"linecolor\\\":\\\"white\\\"},\\\"hovermode\\\":\\\"closest\\\",\\\"paper_bgcolor\\\":\\\"white\\\",\\\"geo\\\":{\\\"showlakes\\\":true,\\\"showland\\\":true,\\\"landcolor\\\":\\\"#E5ECF6\\\",\\\"bgcolor\\\":\\\"white\\\",\\\"subunitcolor\\\":\\\"white\\\",\\\"lakecolor\\\":\\\"white\\\"},\\\"colorscale\\\":{\\\"sequential\\\":[[0.0,\\\"#0d0887\\\"],[0.1111111111111111,\\\"#46039f\\\"],[0.2222222222222222,\\\"#7201a8\\\"],[0.3333333333333333,\\\"#9c179e\\\"],[0.4444444444444444,\\\"#bd3786\\\"],[0.5555555555555556,\\\"#d8576b\\\"],[0.6666666666666666,\\\"#ed7953\\\"],[0.7777777777777778,\\\"#fb9f3a\\\"],[0.8888888888888888,\\\"#fdca26\\\"],[1.0,\\\"#f0f921\\\"]],\\\"diverging\\\":[[0,\\\"#8e0152\\\"],[0.1,\\\"#c51b7d\\\"],[0.2,\\\"#de77ae\\\"],[0.3,\\\"#f1b6da\\\"],[0.4,\\\"#fde0ef\\\"],[0.5,\\\"#f7f7f7\\\"],[0.6,\\\"#e6f5d0\\\"],[0.7,\\\"#b8e186\\\"],[0.8,\\\"#7fbc41\\\"],[0.9,\\\"#4d9221\\\"],[1,\\\"#276419\\\"]],\\\"sequentialminus\\\":[[0.0,\\\"#0d0887\\\"],[0.1111111111111111,\\\"#46039f\\\"],[0.2222222222222222,\\\"#7201a8\\\"],[0.3333333333333333,\\\"#9c179e\\\"],[0.4444444444444444,\\\"#bd3786\\\"],[0.5555555555555556,\\\"#d8576b\\\"],[0.6666666666666666,\\\"#ed7953\\\"],[0.7777777777777778,\\\"#fb9f3a\\\"],[0.8888888888888888,\\\"#fdca26\\\"],[1.0,\\\"#f0f921\\\"]]},\\\"yaxis\\\":{\\\"gridcolor\\\":\\\"white\\\",\\\"zerolinewidth\\\":2,\\\"title\\\":{\\\"standoff\\\":15},\\\"ticks\\\":\\\"\\\",\\\"zerolinecolor\\\":\\\"white\\\",\\\"automargin\\\":true,\\\"linecolor\\\":\\\"white\\\"},\\\"shapedefaults\\\":{\\\"line\\\":{\\\"color\\\":\\\"#2a3f5f\\\"}},\\\"hoverlabel\\\":{\\\"align\\\":\\\"left\\\"},\\\"mapbox\\\":{\\\"style\\\":\\\"light\\\"},\\\"polar\\\":{\\\"angularaxis\\\":{\\\"gridcolor\\\":\\\"white\\\",\\\"ticks\\\":\\\"\\\",\\\"linecolor\\\":\\\"white\\\"},\\\"bgcolor\\\":\\\"#E5ECF6\\\",\\\"radialaxis\\\":{\\\"gridcolor\\\":\\\"white\\\",\\\"ticks\\\":\\\"\\\",\\\"linecolor\\\":\\\"white\\\"}},\\\"autotypenumbers\\\":\\\"strict\\\",\\\"font\\\":{\\\"color\\\":\\\"#2a3f5f\\\"},\\\"ternary\\\":{\\\"baxis\\\":{\\\"gridcolor\\\":\\\"white\\\",\\\"ticks\\\":\\\"\\\",\\\"linecolor\\\":\\\"white\\\"},\\\"bgcolor\\\":\\\"#E5ECF6\\\",\\\"caxis\\\":{\\\"gridcolor\\\":\\\"white\\\",\\\"ticks\\\":\\\"\\\",\\\"linecolor\\\":\\\"white\\\"},\\\"aaxis\\\":{\\\"gridcolor\\\":\\\"white\\\",\\\"ticks\\\":\\\"\\\",\\\"linecolor\\\":\\\"white\\\"}},\\\"annotationdefaults\\\":{\\\"arrowhead\\\":0,\\\"arrowwidth\\\":1,\\\"arrowcolor\\\":\\\"#2a3f5f\\\"},\\\"plot_bgcolor\\\":\\\"#E5ECF6\\\",\\\"title\\\":{\\\"x\\\":0.05},\\\"scene\\\":{\\\"xaxis\\\":{\\\"gridcolor\\\":\\\"white\\\",\\\"gridwidth\\\":2,\\\"backgroundcolor\\\":\\\"#E5ECF6\\\",\\\"ticks\\\":\\\"\\\",\\\"showbackground\\\":true,\\\"zerolinecolor\\\":\\\"white\\\",\\\"linecolor\\\":\\\"white\\\"},\\\"zaxis\\\":{\\\"gridcolor\\\":\\\"white\\\",\\\"gridwidth\\\":2,\\\"backgroundcolor\\\":\\\"#E5ECF6\\\",\\\"ticks\\\":\\\"\\\",\\\"showbackground\\\":true,\\\"zerolinecolor\\\":\\\"white\\\",\\\"linecolor\\\":\\\"white\\\"},\\\"yaxis\\\":{\\\"gridcolor\\\":\\\"white\\\",\\\"gridwidth\\\":2,\\\"backgroundcolor\\\":\\\"#E5ECF6\\\",\\\"ticks\\\":\\\"\\\",\\\"showbackground\\\":true,\\\"zerolinecolor\\\":\\\"white\\\",\\\"linecolor\\\":\\\"white\\\"}},\\\"colorway\\\":[\\\"#636efa\\\",\\\"#EF553B\\\",\\\"#00cc96\\\",\\\"#ab63fa\\\",\\\"#FFA15A\\\",\\\"#19d3f3\\\",\\\"#FF6692\\\",\\\"#B6E880\\\",\\\"#FF97FF\\\",\\\"#FECB52\\\"]},\\\"data\\\":{\\\"barpolar\\\":[{\\\"type\\\":\\\"barpolar\\\",\\\"marker\\\":{\\\"line\\\":{\\\"color\\\":\\\"#E5ECF6\\\",\\\"width\\\":0.5}}}],\\\"carpet\\\":[{\\\"aaxis\\\":{\\\"gridcolor\\\":\\\"white\\\",\\\"endlinecolor\\\":\\\"#2a3f5f\\\",\\\"minorgridcolor\\\":\\\"white\\\",\\\"startlinecolor\\\":\\\"#2a3f5f\\\",\\\"linecolor\\\":\\\"white\\\"},\\\"type\\\":\\\"carpet\\\",\\\"baxis\\\":{\\\"gridcolor\\\":\\\"white\\\",\\\"endlinecolor\\\":\\\"#2a3f5f\\\",\\\"minorgridcolor\\\":\\\"white\\\",\\\"startlinecolor\\\":\\\"#2a3f5f\\\",\\\"linecolor\\\":\\\"white\\\"}}],\\\"scatterpolar\\\":[{\\\"type\\\":\\\"scatterpolar\\\",\\\"marker\\\":{\\\"colorbar\\\":{\\\"ticks\\\":\\\"\\\",\\\"outlinewidth\\\":0}}}],\\\"parcoords\\\":[{\\\"line\\\":{\\\"colorbar\\\":{\\\"ticks\\\":\\\"\\\",\\\"outlinewidth\\\":0}},\\\"type\\\":\\\"parcoords\\\"}],\\\"scatter\\\":[{\\\"type\\\":\\\"scatter\\\",\\\"marker\\\":{\\\"colorbar\\\":{\\\"ticks\\\":\\\"\\\",\\\"outlinewidth\\\":0}}}],\\\"histogram2dcontour\\\":[{\\\"colorbar\\\":{\\\"ticks\\\":\\\"\\\",\\\"outlinewidth\\\":0},\\\"type\\\":\\\"histogram2dcontour\\\",\\\"colorscale\\\":[[0.0,\\\"#0d0887\\\"],[0.1111111111111111,\\\"#46039f\\\"],[0.2222222222222222,\\\"#7201a8\\\"],[0.3333333333333333,\\\"#9c179e\\\"],[0.4444444444444444,\\\"#bd3786\\\"],[0.5555555555555556,\\\"#d8576b\\\"],[0.6666666666666666,\\\"#ed7953\\\"],[0.7777777777777778,\\\"#fb9f3a\\\"],[0.8888888888888888,\\\"#fdca26\\\"],[1.0,\\\"#f0f921\\\"]]}],\\\"contour\\\":[{\\\"colorbar\\\":{\\\"ticks\\\":\\\"\\\",\\\"outlinewidth\\\":0},\\\"type\\\":\\\"contour\\\",\\\"colorscale\\\":[[0.0,\\\"#0d0887\\\"],[0.1111111111111111,\\\"#46039f\\\"],[0.2222222222222222,\\\"#7201a8\\\"],[0.3333333333333333,\\\"#9c179e\\\"],[0.4444444444444444,\\\"#bd3786\\\"],[0.5555555555555556,\\\"#d8576b\\\"],[0.6666666666666666,\\\"#ed7953\\\"],[0.7777777777777778,\\\"#fb9f3a\\\"],[0.8888888888888888,\\\"#fdca26\\\"],[1.0,\\\"#f0f921\\\"]]}],\\\"scattercarpet\\\":[{\\\"type\\\":\\\"scattercarpet\\\",\\\"marker\\\":{\\\"colorbar\\\":{\\\"ticks\\\":\\\"\\\",\\\"outlinewidth\\\":0}}}],\\\"mesh3d\\\":[{\\\"colorbar\\\":{\\\"ticks\\\":\\\"\\\",\\\"outlinewidth\\\":0},\\\"type\\\":\\\"mesh3d\\\"}],\\\"surface\\\":[{\\\"colorbar\\\":{\\\"ticks\\\":\\\"\\\",\\\"outlinewidth\\\":0},\\\"type\\\":\\\"surface\\\",\\\"colorscale\\\":[[0.0,\\\"#0d0887\\\"],[0.1111111111111111,\\\"#46039f\\\"],[0.2222222222222222,\\\"#7201a8\\\"],[0.3333333333333333,\\\"#9c179e\\\"],[0.4444444444444444,\\\"#bd3786\\\"],[0.5555555555555556,\\\"#d8576b\\\"],[0.6666666666666666,\\\"#ed7953\\\"],[0.7777777777777778,\\\"#fb9f3a\\\"],[0.8888888888888888,\\\"#fdca26\\\"],[1.0,\\\"#f0f921\\\"]]}],\\\"scattermapbox\\\":[{\\\"type\\\":\\\"scattermapbox\\\",\\\"marker\\\":{\\\"colorbar\\\":{\\\"ticks\\\":\\\"\\\",\\\"outlinewidth\\\":0}}}],\\\"scattergeo\\\":[{\\\"type\\\":\\\"scattergeo\\\",\\\"marker\\\":{\\\"colorbar\\\":{\\\"ticks\\\":\\\"\\\",\\\"outlinewidth\\\":0}}}],\\\"histogram\\\":[{\\\"type\\\":\\\"histogram\\\",\\\"marker\\\":{\\\"colorbar\\\":{\\\"ticks\\\":\\\"\\\",\\\"outlinewidth\\\":0}}}],\\\"pie\\\":[{\\\"type\\\":\\\"pie\\\",\\\"automargin\\\":true}],\\\"choropleth\\\":[{\\\"colorbar\\\":{\\\"ticks\\\":\\\"\\\",\\\"outlinewidth\\\":0},\\\"type\\\":\\\"choropleth\\\"}],\\\"heatmapgl\\\":[{\\\"colorbar\\\":{\\\"ticks\\\":\\\"\\\",\\\"outlinewidth\\\":0},\\\"type\\\":\\\"heatmapgl\\\",\\\"colorscale\\\":[[0.0,\\\"#0d0887\\\"],[0.1111111111111111,\\\"#46039f\\\"],[0.2222222222222222,\\\"#7201a8\\\"],[0.3333333333333333,\\\"#9c179e\\\"],[0.4444444444444444,\\\"#bd3786\\\"],[0.5555555555555556,\\\"#d8576b\\\"],[0.6666666666666666,\\\"#ed7953\\\"],[0.7777777777777778,\\\"#fb9f3a\\\"],[0.8888888888888888,\\\"#fdca26\\\"],[1.0,\\\"#f0f921\\\"]]}],\\\"bar\\\":[{\\\"type\\\":\\\"bar\\\",\\\"error_y\\\":{\\\"color\\\":\\\"#2a3f5f\\\"},\\\"error_x\\\":{\\\"color\\\":\\\"#2a3f5f\\\"},\\\"marker\\\":{\\\"line\\\":{\\\"color\\\":\\\"#E5ECF6\\\",\\\"width\\\":0.5}}}],\\\"heatmap\\\":[{\\\"colorbar\\\":{\\\"ticks\\\":\\\"\\\",\\\"outlinewidth\\\":0},\\\"type\\\":\\\"heatmap\\\",\\\"colorscale\\\":[[0.0,\\\"#0d0887\\\"],[0.1111111111111111,\\\"#46039f\\\"],[0.2222222222222222,\\\"#7201a8\\\"],[0.3333333333333333,\\\"#9c179e\\\"],[0.4444444444444444,\\\"#bd3786\\\"],[0.5555555555555556,\\\"#d8576b\\\"],[0.6666666666666666,\\\"#ed7953\\\"],[0.7777777777777778,\\\"#fb9f3a\\\"],[0.8888888888888888,\\\"#fdca26\\\"],[1.0,\\\"#f0f921\\\"]]}],\\\"contourcarpet\\\":[{\\\"colorbar\\\":{\\\"ticks\\\":\\\"\\\",\\\"outlinewidth\\\":0},\\\"type\\\":\\\"contourcarpet\\\"}],\\\"table\\\":[{\\\"type\\\":\\\"table\\\",\\\"header\\\":{\\\"line\\\":{\\\"color\\\":\\\"white\\\"},\\\"fill\\\":{\\\"color\\\":\\\"#C8D4E3\\\"}},\\\"cells\\\":{\\\"line\\\":{\\\"color\\\":\\\"white\\\"},\\\"fill\\\":{\\\"color\\\":\\\"#EBF0F8\\\"}}}],\\\"scatter3d\\\":[{\\\"line\\\":{\\\"colorbar\\\":{\\\"ticks\\\":\\\"\\\",\\\"outlinewidth\\\":0}},\\\"type\\\":\\\"scatter3d\\\",\\\"marker\\\":{\\\"colorbar\\\":{\\\"ticks\\\":\\\"\\\",\\\"outlinewidth\\\":0}}}],\\\"scattergl\\\":[{\\\"type\\\":\\\"scattergl\\\",\\\"marker\\\":{\\\"colorbar\\\":{\\\"ticks\\\":\\\"\\\",\\\"outlinewidth\\\":0}}}],\\\"histogram2d\\\":[{\\\"colorbar\\\":{\\\"ticks\\\":\\\"\\\",\\\"outlinewidth\\\":0},\\\"type\\\":\\\"histogram2d\\\",\\\"colorscale\\\":[[0.0,\\\"#0d0887\\\"],[0.1111111111111111,\\\"#46039f\\\"],[0.2222222222222222,\\\"#7201a8\\\"],[0.3333333333333333,\\\"#9c179e\\\"],[0.4444444444444444,\\\"#bd3786\\\"],[0.5555555555555556,\\\"#d8576b\\\"],[0.6666666666666666,\\\"#ed7953\\\"],[0.7777777777777778,\\\"#fb9f3a\\\"],[0.8888888888888888,\\\"#fdca26\\\"],[1.0,\\\"#f0f921\\\"]]}],\\\"scatterternary\\\":[{\\\"type\\\":\\\"scatterternary\\\",\\\"marker\\\":{\\\"colorbar\\\":{\\\"ticks\\\":\\\"\\\",\\\"outlinewidth\\\":0}}}],\\\"scatterpolargl\\\":[{\\\"type\\\":\\\"scatterpolargl\\\",\\\"marker\\\":{\\\"colorbar\\\":{\\\"ticks\\\":\\\"\\\",\\\"outlinewidth\\\":0}}}]}},\\\"margin\\\":{\\\"l\\\":50,\\\"b\\\":50,\\\"r\\\":50,\\\"t\\\":60}},{\\\"showLink\\\":false,\\\"editable\\\":false,\\\"responsive\\\":true,\\\"staticPlot\\\":false,\\\"scrollZoom\\\":true}); gd.on(\\\"plotly_hover\\\",(function (data){var filtered_data=WebIO.PlotlyCommands.filterEventData(gd,data,\\\"hover\\\"); return !(filtered_data.isnil) ? (WebIO.setval({\\\"name\\\":\\\"hover\\\",\\\"scope\\\":\\\"12270087549046901536\\\",\\\"id\\\":\\\"17832597185205746353\\\",\\\"type\\\":\\\"observable\\\"},filtered_data.out)) : undefined})); gd.on(\\\"plotly_unhover\\\",(function (){return WebIO.setval({\\\"name\\\":\\\"hover\\\",\\\"scope\\\":\\\"12270087549046901536\\\",\\\"id\\\":\\\"17832597185205746353\\\",\\\"type\\\":\\\"observable\\\"},{})})); gd.on(\\\"plotly_selected\\\",(function (data){var filtered_data=WebIO.PlotlyCommands.filterEventData(gd,data,\\\"selected\\\"); return !(filtered_data.isnil) ? (WebIO.setval({\\\"name\\\":\\\"selected\\\",\\\"scope\\\":\\\"12270087549046901536\\\",\\\"id\\\":\\\"15199009530407612576\\\",\\\"type\\\":\\\"observable\\\"},filtered_data.out)) : undefined})); gd.on(\\\"plotly_deselect\\\",(function (){return WebIO.setval({\\\"name\\\":\\\"selected\\\",\\\"scope\\\":\\\"12270087549046901536\\\",\\\"id\\\":\\\"15199009530407612576\\\",\\\"type\\\":\\\"observable\\\"},{})})); gd.on(\\\"plotly_relayout\\\",(function (data){var filtered_data=WebIO.PlotlyCommands.filterEventData(gd,data,\\\"relayout\\\"); return !(filtered_data.isnil) ? (WebIO.setval({\\\"name\\\":\\\"relayout\\\",\\\"scope\\\":\\\"12270087549046901536\\\",\\\"id\\\":\\\"111708851215508959\\\",\\\"type\\\":\\\"observable\\\"},filtered_data.out)) : undefined})); return gd.on(\\\"plotly_click\\\",(function (data){var filtered_data=WebIO.PlotlyCommands.filterEventData(gd,data,\\\"click\\\"); return !(filtered_data.isnil) ? (WebIO.setval({\\\"name\\\":\\\"click\\\",\\\"scope\\\":\\\"12270087549046901536\\\",\\\"id\\\":\\\"3677159828195460306\\\",\\\"type\\\":\\\"observable\\\"},filtered_data.out)) : undefined}))}));\\n    (WebIO.importBlock({\\\"data\\\":[{\\\"name\\\":\\\"Plotly\\\",\\\"type\\\":\\\"js\\\",\\\"url\\\":\\\"\\/assetserver\\/f3d9a6d0f5c080ffb47e8c9e300eab67a4d73b47-plotly.min.js\\\"},{\\\"name\\\":null,\\\"type\\\":\\\"js\\\",\\\"url\\\":\\\"\\/assetserver\\/d998e844b98f7bce67f9032fc7613a9df077d1c2-plotly_webio.bundle.js\\\"}],\\\"type\\\":\\\"async_block\\\"})).then((imports) => handler.apply(this, imports));\\n}\\n\"],\"observables\":{\"_toImage\":{\"sync\":true,\"id\":\"6272912549129854543\",\"value\":{}},\"hover\":{\"sync\":false,\"id\":\"17832597185205746353\",\"value\":{}},\"selected\":{\"sync\":false,\"id\":\"15199009530407612576\",\"value\":{}},\"__gd_contents\":{\"sync\":false,\"id\":\"9580470239016466406\",\"value\":{}},\"click\":{\"sync\":false,\"id\":\"3677159828195460306\",\"value\":{}},\"image\":{\"sync\":true,\"id\":\"5708709313251426646\",\"value\":\"\"},\"__get_gd_contents\":{\"sync\":true,\"id\":\"4193393791945791174\",\"value\":\"\"},\"_downloadImage\":{\"sync\":true,\"id\":\"13697380238077182071\",\"value\":{}},\"relayout\":{\"sync\":false,\"id\":\"111708851215508959\",\"value\":{}},\"_commands\":{\"sync\":true,\"id\":\"1781420524817074970\",\"value\":[]}}},\"children\":[{\"props\":{\"id\":\"plot-6c4e25ef-086e-4cb8-a2e8-6a46ec8daf34\"},\"nodeType\":\"DOM\",\"type\":\"node\",\"instanceArgs\":{\"namespace\":\"html\",\"tag\":\"div\"},\"children\":[]}]},\n",
       "        window,\n",
       "    );\n",
       "    })()\n",
       "    </script>\n",
       "</div>\n"
      ],
      "text/plain": [
       "data: [\n",
       "  \"scatterpolar with fields mode, r, theta, and type\"\n",
       "]\n",
       "\n",
       "layout: \"layout with fields margin and template\"\n",
       "\n"
      ]
     },
     "execution_count": 53,
     "metadata": {},
     "output_type": "execute_result"
    }
   ],
   "source": [
    "dfSPICEposRadius = Dict(\"ℓ\" => dfSPICEpos[!,\"ℓ\"],\n",
    "\"RADIUS\" => [i for i in 1:8])\n",
    "plot(scatterpolar(dfSPICEpos, r=:RADIUS, theta=:ℓ, mode=\"markers\"))"
   ]
  },
  {
   "cell_type": "code",
   "execution_count": 54,
   "metadata": {},
   "outputs": [],
   "source": [
    "myPositionsIDX = copy(subsetPositions)\n",
    "myPositionsIDX[!, \"PLANET\"] .*= \"_CALC\" #String concatenation in jl is * not +\n",
    "dfSPICEposIDX = copy(dfSPICEpos)\n",
    "dfSPICEposIDX[!, \"PLANET\"] .*= \"_SPICE\"\n",
    ";"
   ]
  },
  {
   "cell_type": "code",
   "execution_count": 55,
   "metadata": {},
   "outputs": [],
   "source": [
    "FullPosDF = DataFrame()\n",
    "append!(FullPosDF, dfSPICEposIDX)\n",
    "append!(FullPosDF, myPositionsIDX)\n",
    "sort!(FullPosDF, [order(:PLANET)])\n",
    ";"
   ]
  },
  {
   "cell_type": "code",
   "execution_count": 56,
   "metadata": {},
   "outputs": [
    {
     "name": "stdout",
     "output_type": "stream",
     "text": [
      "\u001b[1m8×16 DataFrame\u001b[0m\n",
      "\u001b[1m Row \u001b[0m│\u001b[1m Dist_Sun   \u001b[0m\u001b[1m E        \u001b[0m\u001b[1m M        \u001b[0m\u001b[1m PLANET  \u001b[0m\u001b[1m X_COORD     \u001b[0m\u001b[1m Y_COORD     \u001b[0m\u001b[1m Z_COORD     \u001b[0m\u001b[1m a          \u001b[0m\u001b[1m b         \u001b[0m\u001b[1m e          \u001b[0m\u001b[1m i        \u001b[0m\u001b[1m Ω        \u001b[0m\u001b[1m ν        \u001b[0m\u001b[1m ω        \u001b[0m\u001b[1m ℓ         \u001b[0m\u001b[1m ℓ_corr   \u001b[0m\n",
      "\u001b[1m     \u001b[0m│\u001b[90m Float64    \u001b[0m\u001b[90m Float64  \u001b[0m\u001b[90m Float64  \u001b[0m\u001b[90m String  \u001b[0m\u001b[90m Float64     \u001b[0m\u001b[90m Float64     \u001b[0m\u001b[90m Float64     \u001b[0m\u001b[90m Float64    \u001b[0m\u001b[90m Float64   \u001b[0m\u001b[90m Float64    \u001b[0m\u001b[90m Float64  \u001b[0m\u001b[90m Float64  \u001b[0m\u001b[90m Float64  \u001b[0m\u001b[90m Float64  \u001b[0m\u001b[90m Float64   \u001b[0m\u001b[90m Float64  \u001b[0m\n",
      "─────┼────────────────────────────────────────────────────────────────────────────────────────────────────────────────────────────────────────────────────────────────────────────────\n",
      "   1 │ 6.84698e10  207.525   212.971   Mercury   1.24997e10  -6.69984e10  -6.56379e9   5.7909e10   -5.50105   0.205646    7.00568    48.9655  202.489    29.3223   -79.432   280.568\n",
      "   2 │ 1.07602e11   33.8843   33.6687  Venus    -1.04412e11   2.5217e10    6.37187e9   1.08209e11   3.39486   0.00674756  3.39514    77.1617   34.1004   55.1614   166.422   166.422\n",
      "   3 │ 1.52084e11  174.787   174.7     Earth    -2.30926e10   1.5032e11    0.0         1.49598e11   0.0       0.0166865   0.0         0.0     174.873   283.861     98.7336   98.7336\n",
      "   4 │ 2.49231e11  178.153   177.981   Mars     -2.26446e11   1.03818e11   7.75461e9   2.2794e11    1.78299   0.0934542   1.84935    49.9699  178.319   287.074    155.37    155.37\n",
      "   5 │ 8.13271e11  202.326   203.384   Jupiter  -6.53688e11  -4.83554e11   1.66543e10  7.78292e11   1.1734    0.0485853   1.29996   100.995   201.291   274.199   -143.508   216.492\n",
      "   6 │ 1.45961e12  247.537   250.468   Saturn    1.3594e12   -5.29636e11  -4.44706e10  1.42937e12  -1.74593   0.0553604   2.48649   114.13    244.635   339.976    -21.2865  338.714\n",
      "   7 │ 2.73642e12   12.292    11.713   Uranus   -2.72807e12  -2.10813e11   3.4689e10   2.8695e12    0.726346  0.0474636   0.773671   74.2736   12.885    97.2584  -175.581   184.419\n",
      "   8 │ 4.45967e12   17.5418   17.3924  Neptune   2.03772e12   3.96482e12  -1.28728e11  4.49675e12  -1.65407   0.00864801  1.76502   132.37     17.6917  272.728     62.7991   62.7991"
     ]
    }
   ],
   "source": [
    "show(dfBodiesCopy, allcols=true)\n",
    "dfBodiesCopy = dfBodiesCopy[!, [:PLANET, :Ω, :i, :ω, :e, :a, :M, :E, :ν, :Dist_Sun, :X_COORD, :Y_COORD, :Z_COORD, :ℓ, :ℓ_corr, :b]]\n",
    "rename!(dfBodiesCopy, :Dist_Sun => :R)\n",
    "rename!(dfBodiesCopy, :X_COORD => :X)\n",
    "rename!(dfBodiesCopy, :Y_COORD => :Y)\n",
    "rename!(dfBodiesCopy, :Z_COORD => :Z)\n",
    ";\n"
   ]
  },
  {
   "cell_type": "code",
   "execution_count": 57,
   "metadata": {},
   "outputs": [
    {
     "name": "stdout",
     "output_type": "stream",
     "text": [
      "\n",
      "\n",
      "\n"
     ]
    }
   ],
   "source": [
    "dfBodiesWOEcc = DataFrame(dfBodiesCopy[!, Not(:E)])\n",
    "dfSPICEcopySorted = dfSPICEcopy[:, [:PLANET, :Ω, :i, :ω, :e, :a, :M, :ν, :R, :X, :Y, :Z, :ℓ, :ℓ_corr, :b]]\n",
    "println(\"\\n\\n\")\n",
    "#show(dfSPICEcopySorted, allcols=true)\n",
    "#show(dfBodiesWOEcc, allcols=true)\n",
    "\n",
    "# Just making things clear. No time to refactor, sry.\n",
    "completeCalculated = copy(dfBodiesWOEcc)\n",
    "completeSPICE = copy(dfSPICEcopySorted)\n",
    ";"
   ]
  },
  {
   "cell_type": "code",
   "execution_count": 58,
   "metadata": {},
   "outputs": [],
   "source": [
    "completeSPICE[!, \"PLANET\"] .*= \"_SPICE\" # Concatenation in Julia is made by the * operator.\n",
    "completeCalculated[!, \"PLANET\"] .*= \"_CALC\"\n",
    ";"
   ]
  },
  {
   "cell_type": "code",
   "execution_count": 59,
   "metadata": {},
   "outputs": [
    {
     "name": "stdout",
     "output_type": "stream",
     "text": [
      "\u001b[1m16×15 DataFrame\u001b[0m\n",
      "\u001b[1m Row \u001b[0m│\u001b[1m PLANET        \u001b[0m\u001b[1m Ω        \u001b[0m\u001b[1m i          \u001b[0m\u001b[1m ω        \u001b[0m\u001b[1m e          \u001b[0m\u001b[1m a          \u001b[0m\u001b[1m M         \u001b[0m\u001b[1m ν        \u001b[0m\u001b[1m R          \u001b[0m\u001b[1m X           \u001b[0m\u001b[1m Y           \u001b[0m\u001b[1m Z           \u001b[0m\u001b[1m ℓ         \u001b[0m\u001b[1m ℓ_corr   \u001b[0m\u001b[1m b           \u001b[0m\n",
      "\u001b[1m     \u001b[0m│\u001b[90m String        \u001b[0m\u001b[90m Float64  \u001b[0m\u001b[90m Float64    \u001b[0m\u001b[90m Float64  \u001b[0m\u001b[90m Float64    \u001b[0m\u001b[90m Float64    \u001b[0m\u001b[90m Float64   \u001b[0m\u001b[90m Float64  \u001b[0m\u001b[90m Float64    \u001b[0m\u001b[90m Float64     \u001b[0m\u001b[90m Float64     \u001b[0m\u001b[90m Float64     \u001b[0m\u001b[90m Float64   \u001b[0m\u001b[90m Float64  \u001b[0m\u001b[90m Float64     \u001b[0m\n",
      "─────┼─────────────────────────────────────────────────────────────────────────────────────────────────────────────────────────────────────────────────────────────────────────────────\n",
      "   1 │ Earth_CALC       0.0     0.0         283.861   0.0166865   1.49598e11  174.7      174.873   1.52084e11  -2.30926e10   1.5032e11    0.0           98.7336   98.7336   0.0\n",
      "   2 │ Earth_SPICE    180.378   0.00672579  282.446   0.0175129   1.52083e11  175.949    176.088   1.51715e11   2.35611e10  -1.50246e11   1.76549e7    -81.0645  278.936    0.00665092\n",
      "   3 │ Jupiter_CALC   100.995   1.29996     274.199   0.0485853   7.78292e11  203.384    201.291   8.13271e11  -6.53688e11  -4.83554e11   1.66543e10  -143.508   216.492    1.1734\n",
      "   4 │ Jupiter_SPICE  100.582   1.30344     274.904   0.0473884   8.13294e11  202.308    199.96    8.12846e11  -6.59099e11  -4.76188e11   1.67312e10  -144.153   215.847    1.17878\n",
      "   5 │ Mars_CALC       49.9699  1.84935     287.074   0.0934542   2.2794e11   177.981    178.319   2.49231e11  -2.26446e11   1.03818e11   7.75461e9    155.37    155.37     1.78299\n",
      "   6 │ Mars_SPICE      49.3984  1.84549     286.919   0.0935111   2.49239e11  178.473    178.728   2.49183e11  -2.25897e11   1.05028e11   7.7287e9     155.064   155.064    1.77698\n",
      "   7 │ Mercury_CALC    48.9655  7.00568      29.3223  0.205646    5.7909e10   212.971    202.489   6.84698e10   1.24997e10  -6.69984e10  -6.56379e9    -79.432   280.568   -5.50105\n",
      "   8 │ Mercury_SPICE   48.2639  7.00184      29.2752  0.20565     6.8126e10   216.969    205.3     6.77821e10   1.49111e10  -6.6119e10   -6.77243e9    -77.2913  282.709   -5.70597\n",
      "   9 │ Neptune_CALC   132.37    1.76502     272.728   0.00864801  4.49675e12   17.3924    17.6917  4.45967e12   2.03772e12   3.96482e12  -1.28728e11    62.7991   62.7991  -1.65407\n",
      "  10 │ Neptune_SPICE  132.052   1.76744     269.268   0.00585937  4.46094e12   20.4847    20.0814  4.46142e12   2.08998e12   3.93894e12  -1.29299e11    62.0498   62.0498  -1.66093\n",
      "  11 │ Saturn_CALC    114.13    2.48649     339.976   0.0553604   1.42937e12  250.468    244.635   1.45961e12   1.3594e12   -5.29636e11  -4.44706e10   -21.2865  338.714   -1.74593\n",
      "  12 │ Saturn_SPICE   113.472   2.48725     338.791   0.0532792   1.45347e12  251.786    245.833   1.45356e12   1.35031e12  -5.35972e11  -4.45284e10   -21.6494  338.351   -1.75558\n",
      "  13 │ Uranus_CALC     74.2736  0.773671     97.2584  0.0474636   2.8695e12    11.713     12.885   2.73642e12  -2.72807e12  -2.10813e11   3.4689e10   -175.581   184.419    0.726346\n",
      "  14 │ Uranus_SPICE    73.9534  0.771876     98.9681  0.0508291   2.73803e12    9.66655   10.7188  2.73775e12  -2.73231e12  -1.73487e11   3.47309e10  -176.367   183.633    0.726795\n",
      "  15 │ Venus_CALC      77.1617  3.39514      55.1614  0.00674756  1.08209e11   33.6687    34.1004  1.07602e11  -1.04412e11   2.5217e10    6.37187e9    166.422   166.422    3.39486\n",
      "  16 │ Venus_SPICE     76.5314  3.39428      55.2392  0.00676238  1.07611e11   35.0415    35.5002  1.07455e11  -1.04795e11   2.36151e10   6.37074e9    167.301   167.301    3.39397"
     ]
    }
   ],
   "source": [
    "mergedData = DataFrame()\n",
    "\n",
    "append!(mergedData, completeSPICE)\n",
    "append!(mergedData, completeCalculated)\n",
    "\n",
    "sort!(mergedData, [order(:PLANET)])\n",
    "\n",
    "show(mergedData, allcols=true)\n",
    "\n",
    "mergedDataWork = copy(mergedData)\n",
    ";"
   ]
  },
  {
   "cell_type": "code",
   "execution_count": 60,
   "metadata": {},
   "outputs": [
    {
     "name": "stdout",
     "output_type": "stream",
     "text": [
      "\u001b[1m16×15 DataFrame\u001b[0m\n",
      "\u001b[1m Row \u001b[0m│\u001b[1m PLANET        \u001b[0m\u001b[1m Ω        \u001b[0m\u001b[1m i          \u001b[0m\u001b[1m ω        \u001b[0m\u001b[1m e          \u001b[0m\u001b[1m a          \u001b[0m\u001b[1m M         \u001b[0m\u001b[1m ν        \u001b[0m\u001b[1m R          \u001b[0m\u001b[1m X           \u001b[0m\u001b[1m Y           \u001b[0m\u001b[1m Z           \u001b[0m\u001b[1m ℓ         \u001b[0m\u001b[1m ℓ_corr   \u001b[0m\u001b[1m b           \u001b[0m\n",
      "\u001b[1m     \u001b[0m│\u001b[90m String        \u001b[0m\u001b[90m Float64  \u001b[0m\u001b[90m Float64    \u001b[0m\u001b[90m Float64  \u001b[0m\u001b[90m Float64    \u001b[0m\u001b[90m Float64    \u001b[0m\u001b[90m Float64   \u001b[0m\u001b[90m Float64  \u001b[0m\u001b[90m Float64    \u001b[0m\u001b[90m Float64     \u001b[0m\u001b[90m Float64     \u001b[0m\u001b[90m Float64     \u001b[0m\u001b[90m Float64   \u001b[0m\u001b[90m Float64  \u001b[0m\u001b[90m Float64     \u001b[0m\n",
      "─────┼─────────────────────────────────────────────────────────────────────────────────────────────────────────────────────────────────────────────────────────────────────────────────\n",
      "   1 │ Earth_CALC       0.0     0.0         283.861   0.0166865   1.49598e11  174.7      174.873   1.52084e11  -2.30926e10   1.5032e11    0.0           98.7336   98.7336   0.0\n",
      "   2 │ Earth_SPICE    180.378   0.00672579  282.446   0.0175129   1.52083e11  175.949    176.088   1.51715e11   2.35611e10  -1.50246e11   1.76549e7    -81.0645  278.936    0.00665092\n",
      "   3 │ Jupiter_CALC   100.995   1.29996     274.199   0.0485853   7.78292e11  203.384    201.291   8.13271e11  -6.53688e11  -4.83554e11   1.66543e10  -143.508   216.492    1.1734\n",
      "   4 │ Jupiter_SPICE  100.582   1.30344     274.904   0.0473884   8.13294e11  202.308    199.96    8.12846e11  -6.59099e11  -4.76188e11   1.67312e10  -144.153   215.847    1.17878\n",
      "   5 │ Mars_CALC       49.9699  1.84935     287.074   0.0934542   2.2794e11   177.981    178.319   2.49231e11  -2.26446e11   1.03818e11   7.75461e9    155.37    155.37     1.78299\n",
      "   6 │ Mars_SPICE      49.3984  1.84549     286.919   0.0935111   2.49239e11  178.473    178.728   2.49183e11  -2.25897e11   1.05028e11   7.7287e9     155.064   155.064    1.77698\n",
      "   7 │ Mercury_CALC    48.9655  7.00568      29.3223  0.205646    5.7909e10   212.971    202.489   6.84698e10   1.24997e10  -6.69984e10  -6.56379e9    -79.432   280.568   -5.50105\n",
      "   8 │ Mercury_SPICE   48.2639  7.00184      29.2752  0.20565     6.8126e10   216.969    205.3     6.77821e10   1.49111e10  -6.6119e10   -6.77243e9    -77.2913  282.709   -5.70597\n",
      "   9 │ Neptune_CALC   132.37    1.76502     272.728   0.00864801  4.49675e12   17.3924    17.6917  4.45967e12   2.03772e12   3.96482e12  -1.28728e11    62.7991   62.7991  -1.65407\n",
      "  10 │ Neptune_SPICE  132.052   1.76744     269.268   0.00585937  4.46094e12   20.4847    20.0814  4.46142e12   2.08998e12   3.93894e12  -1.29299e11    62.0498   62.0498  -1.66093\n",
      "  11 │ Saturn_CALC    114.13    2.48649     339.976   0.0553604   1.42937e12  250.468    244.635   1.45961e12   1.3594e12   -5.29636e11  -4.44706e10   -21.2865  338.714   -1.74593\n",
      "  12 │ Saturn_SPICE   113.472   2.48725     338.791   0.0532792   1.45347e12  251.786    245.833   1.45356e12   1.35031e12  -5.35972e11  -4.45284e10   -21.6494  338.351   -1.75558\n",
      "  13 │ Uranus_CALC     74.2736  0.773671     97.2584  0.0474636   2.8695e12    11.713     12.885   2.73642e12  -2.72807e12  -2.10813e11   3.4689e10   -175.581   184.419    0.726346\n",
      "  14 │ Uranus_SPICE    73.9534  0.771876     98.9681  0.0508291   2.73803e12    9.66655   10.7188  2.73775e12  -2.73231e12  -1.73487e11   3.47309e10  -176.367   183.633    0.726795\n",
      "  15 │ Venus_CALC      77.1617  3.39514      55.1614  0.00674756  1.08209e11   33.6687    34.1004  1.07602e11  -1.04412e11   2.5217e10    6.37187e9    166.422   166.422    3.39486\n",
      "  16 │ Venus_SPICE     76.5314  3.39428      55.2392  0.00676238  1.07611e11   35.0415    35.5002  1.07455e11  -1.04795e11   2.36151e10   6.37074e9    167.301   167.301    3.39397"
     ]
    }
   ],
   "source": [
    "show(mergedDataWork, allcols=true)"
   ]
  },
  {
   "cell_type": "markdown",
   "metadata": {},
   "source": [
    "    Mercury is consistent. Remove from DataFrame."
   ]
  },
  {
   "cell_type": "code",
   "execution_count": 61,
   "metadata": {},
   "outputs": [
    {
     "name": "stdout",
     "output_type": "stream",
     "text": [
      "\u001b[1m14×15 DataFrame\u001b[0m\n",
      "\u001b[1m Row \u001b[0m│\u001b[1m PLANET        \u001b[0m\u001b[1m Ω        \u001b[0m\u001b[1m i          \u001b[0m\u001b[1m ω        \u001b[0m\u001b[1m e          \u001b[0m\u001b[1m a          \u001b[0m\u001b[1m M         \u001b[0m\u001b[1m ν        \u001b[0m\u001b[1m R          \u001b[0m\u001b[1m X           \u001b[0m\u001b[1m Y           \u001b[0m\u001b[1m Z           \u001b[0m\u001b[1m ℓ         \u001b[0m\u001b[1m ℓ_corr   \u001b[0m\u001b[1m b           \u001b[0m\n",
      "\u001b[1m     \u001b[0m│\u001b[90m String        \u001b[0m\u001b[90m Float64  \u001b[0m\u001b[90m Float64    \u001b[0m\u001b[90m Float64  \u001b[0m\u001b[90m Float64    \u001b[0m\u001b[90m Float64    \u001b[0m\u001b[90m Float64   \u001b[0m\u001b[90m Float64  \u001b[0m\u001b[90m Float64    \u001b[0m\u001b[90m Float64     \u001b[0m\u001b[90m Float64     \u001b[0m\u001b[90m Float64     \u001b[0m\u001b[90m Float64   \u001b[0m\u001b[90m Float64  \u001b[0m\u001b[90m Float64     \u001b[0m\n",
      "─────┼─────────────────────────────────────────────────────────────────────────────────────────────────────────────────────────────────────────────────────────────────────────────────\n",
      "   1 │ Earth_CALC       0.0     0.0         283.861   0.0166865   1.49598e11  174.7      174.873   1.52084e11  -2.30926e10   1.5032e11    0.0           98.7336   98.7336   0.0\n",
      "   2 │ Earth_SPICE    180.378   0.00672579  282.446   0.0175129   1.52083e11  175.949    176.088   1.51715e11   2.35611e10  -1.50246e11   1.76549e7    -81.0645  278.936    0.00665092\n",
      "   3 │ Jupiter_CALC   100.995   1.29996     274.199   0.0485853   7.78292e11  203.384    201.291   8.13271e11  -6.53688e11  -4.83554e11   1.66543e10  -143.508   216.492    1.1734\n",
      "   4 │ Jupiter_SPICE  100.582   1.30344     274.904   0.0473884   8.13294e11  202.308    199.96    8.12846e11  -6.59099e11  -4.76188e11   1.67312e10  -144.153   215.847    1.17878\n",
      "   5 │ Mars_CALC       49.9699  1.84935     287.074   0.0934542   2.2794e11   177.981    178.319   2.49231e11  -2.26446e11   1.03818e11   7.75461e9    155.37    155.37     1.78299\n",
      "   6 │ Mars_SPICE      49.3984  1.84549     286.919   0.0935111   2.49239e11  178.473    178.728   2.49183e11  -2.25897e11   1.05028e11   7.7287e9     155.064   155.064    1.77698\n",
      "   7 │ Neptune_CALC   132.37    1.76502     272.728   0.00864801  4.49675e12   17.3924    17.6917  4.45967e12   2.03772e12   3.96482e12  -1.28728e11    62.7991   62.7991  -1.65407\n",
      "   8 │ Neptune_SPICE  132.052   1.76744     269.268   0.00585937  4.46094e12   20.4847    20.0814  4.46142e12   2.08998e12   3.93894e12  -1.29299e11    62.0498   62.0498  -1.66093\n",
      "   9 │ Saturn_CALC    114.13    2.48649     339.976   0.0553604   1.42937e12  250.468    244.635   1.45961e12   1.3594e12   -5.29636e11  -4.44706e10   -21.2865  338.714   -1.74593\n",
      "  10 │ Saturn_SPICE   113.472   2.48725     338.791   0.0532792   1.45347e12  251.786    245.833   1.45356e12   1.35031e12  -5.35972e11  -4.45284e10   -21.6494  338.351   -1.75558\n",
      "  11 │ Uranus_CALC     74.2736  0.773671     97.2584  0.0474636   2.8695e12    11.713     12.885   2.73642e12  -2.72807e12  -2.10813e11   3.4689e10   -175.581   184.419    0.726346\n",
      "  12 │ Uranus_SPICE    73.9534  0.771876     98.9681  0.0508291   2.73803e12    9.66655   10.7188  2.73775e12  -2.73231e12  -1.73487e11   3.47309e10  -176.367   183.633    0.726795\n",
      "  13 │ Venus_CALC      77.1617  3.39514      55.1614  0.00674756  1.08209e11   33.6687    34.1004  1.07602e11  -1.04412e11   2.5217e10    6.37187e9    166.422   166.422    3.39486\n",
      "  14 │ Venus_SPICE     76.5314  3.39428      55.2392  0.00676238  1.07611e11   35.0415    35.5002  1.07455e11  -1.04795e11   2.36151e10   6.37074e9    167.301   167.301    3.39397"
     ]
    }
   ],
   "source": [
    "delete!(mergedDataWork, 7:8)\n",
    "show(mergedDataWork, allcols=true)"
   ]
  },
  {
   "cell_type": "markdown",
   "metadata": {},
   "source": [
    "Earth is consistent, deleting it. "
   ]
  },
  {
   "cell_type": "code",
   "execution_count": 62,
   "metadata": {},
   "outputs": [
    {
     "name": "stdout",
     "output_type": "stream",
     "text": [
      "\u001b[1m12×15 DataFrame\u001b[0m\n",
      "\u001b[1m Row \u001b[0m│\u001b[1m PLANET        \u001b[0m\u001b[1m Ω        \u001b[0m\u001b[1m i        \u001b[0m\u001b[1m ω        \u001b[0m\u001b[1m e          \u001b[0m\u001b[1m a          \u001b[0m\u001b[1m M         \u001b[0m\u001b[1m ν        \u001b[0m\u001b[1m R          \u001b[0m\u001b[1m X           \u001b[0m\u001b[1m Y           \u001b[0m\u001b[1m Z           \u001b[0m\u001b[1m ℓ         \u001b[0m\u001b[1m ℓ_corr   \u001b[0m\u001b[1m b         \u001b[0m\n",
      "\u001b[1m     \u001b[0m│\u001b[90m String        \u001b[0m\u001b[90m Float64  \u001b[0m\u001b[90m Float64  \u001b[0m\u001b[90m Float64  \u001b[0m\u001b[90m Float64    \u001b[0m\u001b[90m Float64    \u001b[0m\u001b[90m Float64   \u001b[0m\u001b[90m Float64  \u001b[0m\u001b[90m Float64    \u001b[0m\u001b[90m Float64     \u001b[0m\u001b[90m Float64     \u001b[0m\u001b[90m Float64     \u001b[0m\u001b[90m Float64   \u001b[0m\u001b[90m Float64  \u001b[0m\u001b[90m Float64   \u001b[0m\n",
      "─────┼─────────────────────────────────────────────────────────────────────────────────────────────────────────────────────────────────────────────────────────────────────────────\n",
      "   1 │ Jupiter_CALC   100.995   1.29996   274.199   0.0485853   7.78292e11  203.384    201.291   8.13271e11  -6.53688e11  -4.83554e11   1.66543e10  -143.508   216.492    1.1734\n",
      "   2 │ Jupiter_SPICE  100.582   1.30344   274.904   0.0473884   8.13294e11  202.308    199.96    8.12846e11  -6.59099e11  -4.76188e11   1.67312e10  -144.153   215.847    1.17878\n",
      "   3 │ Mars_CALC       49.9699  1.84935   287.074   0.0934542   2.2794e11   177.981    178.319   2.49231e11  -2.26446e11   1.03818e11   7.75461e9    155.37    155.37     1.78299\n",
      "   4 │ Mars_SPICE      49.3984  1.84549   286.919   0.0935111   2.49239e11  178.473    178.728   2.49183e11  -2.25897e11   1.05028e11   7.7287e9     155.064   155.064    1.77698\n",
      "   5 │ Neptune_CALC   132.37    1.76502   272.728   0.00864801  4.49675e12   17.3924    17.6917  4.45967e12   2.03772e12   3.96482e12  -1.28728e11    62.7991   62.7991  -1.65407\n",
      "   6 │ Neptune_SPICE  132.052   1.76744   269.268   0.00585937  4.46094e12   20.4847    20.0814  4.46142e12   2.08998e12   3.93894e12  -1.29299e11    62.0498   62.0498  -1.66093\n",
      "   7 │ Saturn_CALC    114.13    2.48649   339.976   0.0553604   1.42937e12  250.468    244.635   1.45961e12   1.3594e12   -5.29636e11  -4.44706e10   -21.2865  338.714   -1.74593\n",
      "   8 │ Saturn_SPICE   113.472   2.48725   338.791   0.0532792   1.45347e12  251.786    245.833   1.45356e12   1.35031e12  -5.35972e11  -4.45284e10   -21.6494  338.351   -1.75558\n",
      "   9 │ Uranus_CALC     74.2736  0.773671   97.2584  0.0474636   2.8695e12    11.713     12.885   2.73642e12  -2.72807e12  -2.10813e11   3.4689e10   -175.581   184.419    0.726346\n",
      "  10 │ Uranus_SPICE    73.9534  0.771876   98.9681  0.0508291   2.73803e12    9.66655   10.7188  2.73775e12  -2.73231e12  -1.73487e11   3.47309e10  -176.367   183.633    0.726795\n",
      "  11 │ Venus_CALC      77.1617  3.39514    55.1614  0.00674756  1.08209e11   33.6687    34.1004  1.07602e11  -1.04412e11   2.5217e10    6.37187e9    166.422   166.422    3.39486\n",
      "  12 │ Venus_SPICE     76.5314  3.39428    55.2392  0.00676238  1.07611e11   35.0415    35.5002  1.07455e11  -1.04795e11   2.36151e10   6.37074e9    167.301   167.301    3.39397"
     ]
    }
   ],
   "source": [
    "delete!(mergedDataWork, 1:2)\n",
    "show(mergedDataWork, allcols=true)"
   ]
  },
  {
   "cell_type": "markdown",
   "metadata": {},
   "source": [
    "Neptune is consistent. Deleting it."
   ]
  },
  {
   "cell_type": "code",
   "execution_count": 63,
   "metadata": {},
   "outputs": [
    {
     "name": "stdout",
     "output_type": "stream",
     "text": [
      "\u001b[1m10×15 DataFrame\u001b[0m\n",
      "\u001b[1m Row \u001b[0m│\u001b[1m PLANET        \u001b[0m\u001b[1m Ω        \u001b[0m\u001b[1m i        \u001b[0m\u001b[1m ω        \u001b[0m\u001b[1m e          \u001b[0m\u001b[1m a          \u001b[0m\u001b[1m M         \u001b[0m\u001b[1m ν        \u001b[0m\u001b[1m R          \u001b[0m\u001b[1m X           \u001b[0m\u001b[1m Y           \u001b[0m\u001b[1m Z           \u001b[0m\u001b[1m ℓ         \u001b[0m\u001b[1m ℓ_corr  \u001b[0m\u001b[1m b         \u001b[0m\n",
      "\u001b[1m     \u001b[0m│\u001b[90m String        \u001b[0m\u001b[90m Float64  \u001b[0m\u001b[90m Float64  \u001b[0m\u001b[90m Float64  \u001b[0m\u001b[90m Float64    \u001b[0m\u001b[90m Float64    \u001b[0m\u001b[90m Float64   \u001b[0m\u001b[90m Float64  \u001b[0m\u001b[90m Float64    \u001b[0m\u001b[90m Float64     \u001b[0m\u001b[90m Float64     \u001b[0m\u001b[90m Float64     \u001b[0m\u001b[90m Float64   \u001b[0m\u001b[90m Float64 \u001b[0m\u001b[90m Float64   \u001b[0m\n",
      "─────┼────────────────────────────────────────────────────────────────────────────────────────────────────────────────────────────────────────────────────────────────────────────\n",
      "   1 │ Jupiter_CALC   100.995   1.29996   274.199   0.0485853   7.78292e11  203.384    201.291   8.13271e11  -6.53688e11  -4.83554e11   1.66543e10  -143.508   216.492   1.1734\n",
      "   2 │ Jupiter_SPICE  100.582   1.30344   274.904   0.0473884   8.13294e11  202.308    199.96    8.12846e11  -6.59099e11  -4.76188e11   1.67312e10  -144.153   215.847   1.17878\n",
      "   3 │ Mars_CALC       49.9699  1.84935   287.074   0.0934542   2.2794e11   177.981    178.319   2.49231e11  -2.26446e11   1.03818e11   7.75461e9    155.37    155.37    1.78299\n",
      "   4 │ Mars_SPICE      49.3984  1.84549   286.919   0.0935111   2.49239e11  178.473    178.728   2.49183e11  -2.25897e11   1.05028e11   7.7287e9     155.064   155.064   1.77698\n",
      "   5 │ Saturn_CALC    114.13    2.48649   339.976   0.0553604   1.42937e12  250.468    244.635   1.45961e12   1.3594e12   -5.29636e11  -4.44706e10   -21.2865  338.714  -1.74593\n",
      "   6 │ Saturn_SPICE   113.472   2.48725   338.791   0.0532792   1.45347e12  251.786    245.833   1.45356e12   1.35031e12  -5.35972e11  -4.45284e10   -21.6494  338.351  -1.75558\n",
      "   7 │ Uranus_CALC     74.2736  0.773671   97.2584  0.0474636   2.8695e12    11.713     12.885   2.73642e12  -2.72807e12  -2.10813e11   3.4689e10   -175.581   184.419   0.726346\n",
      "   8 │ Uranus_SPICE    73.9534  0.771876   98.9681  0.0508291   2.73803e12    9.66655   10.7188  2.73775e12  -2.73231e12  -1.73487e11   3.47309e10  -176.367   183.633   0.726795\n",
      "   9 │ Venus_CALC      77.1617  3.39514    55.1614  0.00674756  1.08209e11   33.6687    34.1004  1.07602e11  -1.04412e11   2.5217e10    6.37187e9    166.422   166.422   3.39486\n",
      "  10 │ Venus_SPICE     76.5314  3.39428    55.2392  0.00676238  1.07611e11   35.0415    35.5002  1.07455e11  -1.04795e11   2.36151e10   6.37074e9    167.301   167.301   3.39397"
     ]
    }
   ],
   "source": [
    "delete!(mergedDataWork, 5:6)\n",
    "show(mergedDataWork, allcols=true)"
   ]
  },
  {
   "cell_type": "markdown",
   "metadata": {},
   "source": [
    "Saturn is consistent. Deleting it."
   ]
  },
  {
   "cell_type": "code",
   "execution_count": 64,
   "metadata": {},
   "outputs": [
    {
     "name": "stdout",
     "output_type": "stream",
     "text": [
      "\u001b[1m8×15 DataFrame\u001b[0m\n",
      "\u001b[1m Row \u001b[0m│\u001b[1m PLANET        \u001b[0m\u001b[1m Ω        \u001b[0m\u001b[1m i        \u001b[0m\u001b[1m ω        \u001b[0m\u001b[1m e          \u001b[0m\u001b[1m a          \u001b[0m\u001b[1m M         \u001b[0m\u001b[1m ν        \u001b[0m\u001b[1m R          \u001b[0m\u001b[1m X           \u001b[0m\u001b[1m Y           \u001b[0m\u001b[1m Z          \u001b[0m\u001b[1m ℓ        \u001b[0m\u001b[1m ℓ_corr  \u001b[0m\u001b[1m b        \u001b[0m\n",
      "\u001b[1m     \u001b[0m│\u001b[90m String        \u001b[0m\u001b[90m Float64  \u001b[0m\u001b[90m Float64  \u001b[0m\u001b[90m Float64  \u001b[0m\u001b[90m Float64    \u001b[0m\u001b[90m Float64    \u001b[0m\u001b[90m Float64   \u001b[0m\u001b[90m Float64  \u001b[0m\u001b[90m Float64    \u001b[0m\u001b[90m Float64     \u001b[0m\u001b[90m Float64     \u001b[0m\u001b[90m Float64    \u001b[0m\u001b[90m Float64  \u001b[0m\u001b[90m Float64 \u001b[0m\u001b[90m Float64  \u001b[0m\n",
      "─────┼─────────────────────────────────────────────────────────────────────────────────────────────────────────────────────────────────────────────────────────────────────────\n",
      "   1 │ Jupiter_CALC   100.995   1.29996   274.199   0.0485853   7.78292e11  203.384    201.291   8.13271e11  -6.53688e11  -4.83554e11  1.66543e10  -143.508  216.492  1.1734\n",
      "   2 │ Jupiter_SPICE  100.582   1.30344   274.904   0.0473884   8.13294e11  202.308    199.96    8.12846e11  -6.59099e11  -4.76188e11  1.67312e10  -144.153  215.847  1.17878\n",
      "   3 │ Mars_CALC       49.9699  1.84935   287.074   0.0934542   2.2794e11   177.981    178.319   2.49231e11  -2.26446e11   1.03818e11  7.75461e9    155.37   155.37   1.78299\n",
      "   4 │ Mars_SPICE      49.3984  1.84549   286.919   0.0935111   2.49239e11  178.473    178.728   2.49183e11  -2.25897e11   1.05028e11  7.7287e9     155.064  155.064  1.77698\n",
      "   5 │ Uranus_CALC     74.2736  0.773671   97.2584  0.0474636   2.8695e12    11.713     12.885   2.73642e12  -2.72807e12  -2.10813e11  3.4689e10   -175.581  184.419  0.726346\n",
      "   6 │ Uranus_SPICE    73.9534  0.771876   98.9681  0.0508291   2.73803e12    9.66655   10.7188  2.73775e12  -2.73231e12  -1.73487e11  3.47309e10  -176.367  183.633  0.726795\n",
      "   7 │ Venus_CALC      77.1617  3.39514    55.1614  0.00674756  1.08209e11   33.6687    34.1004  1.07602e11  -1.04412e11   2.5217e10   6.37187e9    166.422  166.422  3.39486\n",
      "   8 │ Venus_SPICE     76.5314  3.39428    55.2392  0.00676238  1.07611e11   35.0415    35.5002  1.07455e11  -1.04795e11   2.36151e10  6.37074e9    167.301  167.301  3.39397"
     ]
    }
   ],
   "source": [
    "delete!(mergedDataWork, 5:6)\n",
    "show(mergedDataWork, allcols=true)"
   ]
  },
  {
   "cell_type": "code",
   "execution_count": 65,
   "metadata": {},
   "outputs": [
    {
     "name": "stdout",
     "output_type": "stream",
     "text": [
      "\u001b[1m8×6 DataFrame\u001b[0m\n",
      "\u001b[1m Row \u001b[0m│\u001b[1m PLANET  \u001b[0m\u001b[1m ℓ         \u001b[0m\u001b[1m X           \u001b[0m\u001b[1m Y           \u001b[0m\u001b[1m SOURCE \u001b[0m\u001b[1m RADIUS \u001b[0m\n",
      "\u001b[1m     \u001b[0m│\u001b[90m String  \u001b[0m\u001b[90m Float64   \u001b[0m\u001b[90m Float64     \u001b[0m\u001b[90m Float64     \u001b[0m\u001b[90m Int64  \u001b[0m\u001b[90m Int64  \u001b[0m\n",
      "─────┼──────────────────────────────────────────────────────────────\n",
      "   1 │ Mercury   -77.2913   1.49111e10  -6.6119e10        2       1\n",
      "   2 │ Venus     167.301   -1.04795e11   2.36151e10       2       2\n",
      "   3 │ Earth     -81.0645   2.35611e10  -1.50246e11       2       3\n",
      "   4 │ Mars      155.064   -2.25897e11   1.05028e11       2       4\n",
      "   5 │ Jupiter  -144.153   -6.59099e11  -4.76188e11       2       5\n",
      "   6 │ Saturn    -21.6494   1.35031e12  -5.35972e11       2       6\n",
      "   7 │ Uranus   -176.367   -2.73231e12  -1.73487e11       2       7\n",
      "   8 │ Neptune    62.0498   2.08998e12   3.93894e12       2       8\n",
      "\n",
      "\n",
      "\u001b[1m8×6 DataFrame\u001b[0m\n",
      "\u001b[1m Row \u001b[0m│\u001b[1m PLANET  \u001b[0m\u001b[1m ℓ         \u001b[0m\u001b[1m X           \u001b[0m\u001b[1m Y           \u001b[0m\u001b[1m SOURCE \u001b[0m\u001b[1m RADIUS \u001b[0m\n",
      "\u001b[1m     \u001b[0m│\u001b[90m String  \u001b[0m\u001b[90m Float64   \u001b[0m\u001b[90m Float64     \u001b[0m\u001b[90m Float64     \u001b[0m\u001b[90m Int64  \u001b[0m\u001b[90m Int64  \u001b[0m\n",
      "─────┼──────────────────────────────────────────────────────────────\n",
      "   1 │ Mercury   -79.432    1.24997e10  -6.69984e10       1       1\n",
      "   2 │ Venus     166.422   -1.04412e11   2.5217e10        1       2\n",
      "   3 │ Earth      98.7336  -2.30926e10   1.5032e11        1       3\n",
      "   4 │ Mars      155.37    -2.26446e11   1.03818e11       1       4\n",
      "   5 │ Jupiter  -143.508   -6.53688e11  -4.83554e11       1       5\n",
      "   6 │ Saturn    -21.2865   1.3594e12   -5.29636e11       1       6\n",
      "   7 │ Uranus   -175.581   -2.72807e12  -2.10813e11       1       7\n",
      "   8 │ Neptune    62.7991   2.03772e12   3.96482e12       1       8"
     ]
    },
    {
     "data": {
      "text/html": [
       "<div class=\"data-frame\"><p>16 rows × 6 columns</p><table class=\"data-frame\"><thead><tr><th></th><th>PLANET</th><th>ℓ</th><th>X</th><th>Y</th><th>SOURCE</th><th>RADIUS</th></tr><tr><th></th><th title=\"String\">String</th><th title=\"Float64\">Float64</th><th title=\"Float64\">Float64</th><th title=\"Float64\">Float64</th><th title=\"Int64\">Int64</th><th title=\"Int64\">Int64</th></tr></thead><tbody><tr><th>1</th><td>Mercury</td><td>-79.432</td><td>1.24997e10</td><td>-6.69984e10</td><td>1</td><td>1</td></tr><tr><th>2</th><td>Venus</td><td>166.422</td><td>-1.04412e11</td><td>2.5217e10</td><td>1</td><td>2</td></tr><tr><th>3</th><td>Earth</td><td>98.7336</td><td>-2.30926e10</td><td>1.5032e11</td><td>1</td><td>3</td></tr><tr><th>4</th><td>Mars</td><td>155.37</td><td>-2.26446e11</td><td>1.03818e11</td><td>1</td><td>4</td></tr><tr><th>5</th><td>Jupiter</td><td>-143.508</td><td>-6.53688e11</td><td>-4.83554e11</td><td>1</td><td>5</td></tr><tr><th>6</th><td>Saturn</td><td>-21.2865</td><td>1.3594e12</td><td>-5.29636e11</td><td>1</td><td>6</td></tr><tr><th>7</th><td>Uranus</td><td>-175.581</td><td>-2.72807e12</td><td>-2.10813e11</td><td>1</td><td>7</td></tr><tr><th>8</th><td>Neptune</td><td>62.7991</td><td>2.03772e12</td><td>3.96482e12</td><td>1</td><td>8</td></tr><tr><th>9</th><td>Mercury</td><td>-77.2913</td><td>1.49111e10</td><td>-6.6119e10</td><td>2</td><td>1</td></tr><tr><th>10</th><td>Venus</td><td>167.301</td><td>-1.04795e11</td><td>2.36151e10</td><td>2</td><td>2</td></tr><tr><th>11</th><td>Earth</td><td>-81.0645</td><td>2.35611e10</td><td>-1.50246e11</td><td>2</td><td>3</td></tr><tr><th>12</th><td>Mars</td><td>155.064</td><td>-2.25897e11</td><td>1.05028e11</td><td>2</td><td>4</td></tr><tr><th>13</th><td>Jupiter</td><td>-144.153</td><td>-6.59099e11</td><td>-4.76188e11</td><td>2</td><td>5</td></tr><tr><th>14</th><td>Saturn</td><td>-21.6494</td><td>1.35031e12</td><td>-5.35972e11</td><td>2</td><td>6</td></tr><tr><th>15</th><td>Uranus</td><td>-176.367</td><td>-2.73231e12</td><td>-1.73487e11</td><td>2</td><td>7</td></tr><tr><th>16</th><td>Neptune</td><td>62.0498</td><td>2.08998e12</td><td>3.93894e12</td><td>2</td><td>8</td></tr></tbody></table></div>"
      ],
      "text/latex": [
       "\\begin{tabular}{r|cccccc}\n",
       "\t& PLANET & ℓ & X & Y & SOURCE & RADIUS\\\\\n",
       "\t\\hline\n",
       "\t& String & Float64 & Float64 & Float64 & Int64 & Int64\\\\\n",
       "\t\\hline\n",
       "\t1 & Mercury & -79.432 & 1.24997e10 & -6.69984e10 & 1 & 1 \\\\\n",
       "\t2 & Venus & 166.422 & -1.04412e11 & 2.5217e10 & 1 & 2 \\\\\n",
       "\t3 & Earth & 98.7336 & -2.30926e10 & 1.5032e11 & 1 & 3 \\\\\n",
       "\t4 & Mars & 155.37 & -2.26446e11 & 1.03818e11 & 1 & 4 \\\\\n",
       "\t5 & Jupiter & -143.508 & -6.53688e11 & -4.83554e11 & 1 & 5 \\\\\n",
       "\t6 & Saturn & -21.2865 & 1.3594e12 & -5.29636e11 & 1 & 6 \\\\\n",
       "\t7 & Uranus & -175.581 & -2.72807e12 & -2.10813e11 & 1 & 7 \\\\\n",
       "\t8 & Neptune & 62.7991 & 2.03772e12 & 3.96482e12 & 1 & 8 \\\\\n",
       "\t9 & Mercury & -77.2913 & 1.49111e10 & -6.6119e10 & 2 & 1 \\\\\n",
       "\t10 & Venus & 167.301 & -1.04795e11 & 2.36151e10 & 2 & 2 \\\\\n",
       "\t11 & Earth & -81.0645 & 2.35611e10 & -1.50246e11 & 2 & 3 \\\\\n",
       "\t12 & Mars & 155.064 & -2.25897e11 & 1.05028e11 & 2 & 4 \\\\\n",
       "\t13 & Jupiter & -144.153 & -6.59099e11 & -4.76188e11 & 2 & 5 \\\\\n",
       "\t14 & Saturn & -21.6494 & 1.35031e12 & -5.35972e11 & 2 & 6 \\\\\n",
       "\t15 & Uranus & -176.367 & -2.73231e12 & -1.73487e11 & 2 & 7 \\\\\n",
       "\t16 & Neptune & 62.0498 & 2.08998e12 & 3.93894e12 & 2 & 8 \\\\\n",
       "\\end{tabular}\n"
      ],
      "text/plain": [
       "\u001b[1m16×6 DataFrame\u001b[0m\n",
       "\u001b[1m Row \u001b[0m│\u001b[1m PLANET  \u001b[0m\u001b[1m ℓ         \u001b[0m\u001b[1m X           \u001b[0m\u001b[1m Y           \u001b[0m\u001b[1m SOURCE \u001b[0m\u001b[1m RADIUS \u001b[0m\n",
       "\u001b[1m     \u001b[0m│\u001b[90m String  \u001b[0m\u001b[90m Float64   \u001b[0m\u001b[90m Float64     \u001b[0m\u001b[90m Float64     \u001b[0m\u001b[90m Int64  \u001b[0m\u001b[90m Int64  \u001b[0m\n",
       "─────┼──────────────────────────────────────────────────────────────\n",
       "   1 │ Mercury   -79.432    1.24997e10  -6.69984e10       1       1\n",
       "   2 │ Venus     166.422   -1.04412e11   2.5217e10        1       2\n",
       "   3 │ Earth      98.7336  -2.30926e10   1.5032e11        1       3\n",
       "   4 │ Mars      155.37    -2.26446e11   1.03818e11       1       4\n",
       "   5 │ Jupiter  -143.508   -6.53688e11  -4.83554e11       1       5\n",
       "   6 │ Saturn    -21.2865   1.3594e12   -5.29636e11       1       6\n",
       "   7 │ Uranus   -175.581   -2.72807e12  -2.10813e11       1       7\n",
       "   8 │ Neptune    62.7991   2.03772e12   3.96482e12       1       8\n",
       "   9 │ Mercury   -77.2913   1.49111e10  -6.6119e10        2       1\n",
       "  10 │ Venus     167.301   -1.04795e11   2.36151e10       2       2\n",
       "  11 │ Earth     -81.0645   2.35611e10  -1.50246e11       2       3\n",
       "  12 │ Mars      155.064   -2.25897e11   1.05028e11       2       4\n",
       "  13 │ Jupiter  -144.153   -6.59099e11  -4.76188e11       2       5\n",
       "  14 │ Saturn    -21.6494   1.35031e12  -5.35972e11       2       6\n",
       "  15 │ Uranus   -176.367   -2.73231e12  -1.73487e11       2       7\n",
       "  16 │ Neptune    62.0498   2.08998e12   3.93894e12       2       8"
      ]
     },
     "execution_count": 65,
     "metadata": {},
     "output_type": "execute_result"
    }
   ],
   "source": [
    "dfBodiesToPlot = DataFrame()\n",
    "dfBodiesToPlot = copy(dfBodiesCopy[!, [:PLANET,:ℓ, :X, :Y]])\n",
    "dfBodiesToPlot[!, \"SOURCE\"] .= 1\n",
    "dfBodiesToPlot[!,\"RADIUS\"] = [i for i in 1:8]\n",
    "dfSPICEPlot = copy(dfSPICEcopy[:, [:PLANET, :ℓ, :X, :Y]])\n",
    "dfSPICEPlot[!, \"SOURCE\"] .= 2\n",
    "dfSPICEPlot[!,\"RADIUS\"] = [i for i in 1:8]\n",
    "\n",
    "show(dfSPICEPlot, allcols=true)\n",
    "println(\"\\n\\n\")\n",
    "show(dfBodiesToPlot, allcols=true)\n",
    "\n",
    "plotFrame = DataFrame()\n",
    "append!(plotFrame, dfBodiesToPlot)\n",
    "append!(plotFrame, dfSPICEPlot)\n"
   ]
  },
  {
   "cell_type": "code",
   "execution_count": 72,
   "metadata": {},
   "outputs": [
    {
     "data": {
      "application/vnd.plotly.v1+json": {
       "config": {
        "editable": false,
        "responsive": true,
        "scrollZoom": true,
        "showLink": false,
        "staticPlot": false
       },
       "data": [
        {
         "marker": {
          "color": "green"
         },
         "mode": "markers",
         "name": "SPICE",
         "r": [
          1,
          2,
          3,
          4,
          5,
          6,
          7,
          8
         ],
         "text": [
          "Mercury",
          "Venus",
          "Earth",
          "Mars",
          "Jupiter",
          "Saturn",
          "Uranus",
          "Neptune"
         ],
         "theta": [
          -77.29130718,
          167.30073594,
          -81.06449477,
          155.06447561,
          -144.15250724,
          -21.64937666,
          -176.36689403,
          62.04983143
         ],
         "type": "scatterpolar"
        },
        {
         "marker": {
          "color": "red"
         },
         "mode": "markers",
         "name": "CALCULATIONS",
         "r": [
          1,
          2,
          3,
          4,
          5,
          6,
          7,
          8
         ],
         "text": [
          "Mercury",
          "Venus",
          "Earth",
          "Mars",
          "Jupiter",
          "Saturn",
          "Uranus",
          "Neptune"
         ],
         "theta": [
          -79.4319603945948,
          166.422235504171,
          98.73364265040233,
          155.37009103566425,
          -143.5084726269638,
          -21.286452443570226,
          -175.58121192068373,
          62.7991296225739
         ],
         "type": "scatterpolar"
        }
       ],
       "frames": [],
       "layout": {
        "margin": {
         "b": 50,
         "l": 50,
         "r": 50,
         "t": 60
        },
        "template": {
         "data": {
          "bar": [
           {
            "error_x": {
             "color": "#2a3f5f"
            },
            "error_y": {
             "color": "#2a3f5f"
            },
            "marker": {
             "line": {
              "color": "#E5ECF6",
              "width": 0.5
             }
            },
            "type": "bar"
           }
          ],
          "barpolar": [
           {
            "marker": {
             "line": {
              "color": "#E5ECF6",
              "width": 0.5
             }
            },
            "type": "barpolar"
           }
          ],
          "carpet": [
           {
            "aaxis": {
             "endlinecolor": "#2a3f5f",
             "gridcolor": "white",
             "linecolor": "white",
             "minorgridcolor": "white",
             "startlinecolor": "#2a3f5f"
            },
            "baxis": {
             "endlinecolor": "#2a3f5f",
             "gridcolor": "white",
             "linecolor": "white",
             "minorgridcolor": "white",
             "startlinecolor": "#2a3f5f"
            },
            "type": "carpet"
           }
          ],
          "choropleth": [
           {
            "colorbar": {
             "outlinewidth": 0,
             "ticks": ""
            },
            "type": "choropleth"
           }
          ],
          "contour": [
           {
            "colorbar": {
             "outlinewidth": 0,
             "ticks": ""
            },
            "colorscale": [
             [
              0,
              "#0d0887"
             ],
             [
              0.1111111111111111,
              "#46039f"
             ],
             [
              0.2222222222222222,
              "#7201a8"
             ],
             [
              0.3333333333333333,
              "#9c179e"
             ],
             [
              0.4444444444444444,
              "#bd3786"
             ],
             [
              0.5555555555555556,
              "#d8576b"
             ],
             [
              0.6666666666666666,
              "#ed7953"
             ],
             [
              0.7777777777777778,
              "#fb9f3a"
             ],
             [
              0.8888888888888888,
              "#fdca26"
             ],
             [
              1,
              "#f0f921"
             ]
            ],
            "type": "contour"
           }
          ],
          "contourcarpet": [
           {
            "colorbar": {
             "outlinewidth": 0,
             "ticks": ""
            },
            "type": "contourcarpet"
           }
          ],
          "heatmap": [
           {
            "colorbar": {
             "outlinewidth": 0,
             "ticks": ""
            },
            "colorscale": [
             [
              0,
              "#0d0887"
             ],
             [
              0.1111111111111111,
              "#46039f"
             ],
             [
              0.2222222222222222,
              "#7201a8"
             ],
             [
              0.3333333333333333,
              "#9c179e"
             ],
             [
              0.4444444444444444,
              "#bd3786"
             ],
             [
              0.5555555555555556,
              "#d8576b"
             ],
             [
              0.6666666666666666,
              "#ed7953"
             ],
             [
              0.7777777777777778,
              "#fb9f3a"
             ],
             [
              0.8888888888888888,
              "#fdca26"
             ],
             [
              1,
              "#f0f921"
             ]
            ],
            "type": "heatmap"
           }
          ],
          "heatmapgl": [
           {
            "colorbar": {
             "outlinewidth": 0,
             "ticks": ""
            },
            "colorscale": [
             [
              0,
              "#0d0887"
             ],
             [
              0.1111111111111111,
              "#46039f"
             ],
             [
              0.2222222222222222,
              "#7201a8"
             ],
             [
              0.3333333333333333,
              "#9c179e"
             ],
             [
              0.4444444444444444,
              "#bd3786"
             ],
             [
              0.5555555555555556,
              "#d8576b"
             ],
             [
              0.6666666666666666,
              "#ed7953"
             ],
             [
              0.7777777777777778,
              "#fb9f3a"
             ],
             [
              0.8888888888888888,
              "#fdca26"
             ],
             [
              1,
              "#f0f921"
             ]
            ],
            "type": "heatmapgl"
           }
          ],
          "histogram": [
           {
            "marker": {
             "colorbar": {
              "outlinewidth": 0,
              "ticks": ""
             }
            },
            "type": "histogram"
           }
          ],
          "histogram2d": [
           {
            "colorbar": {
             "outlinewidth": 0,
             "ticks": ""
            },
            "colorscale": [
             [
              0,
              "#0d0887"
             ],
             [
              0.1111111111111111,
              "#46039f"
             ],
             [
              0.2222222222222222,
              "#7201a8"
             ],
             [
              0.3333333333333333,
              "#9c179e"
             ],
             [
              0.4444444444444444,
              "#bd3786"
             ],
             [
              0.5555555555555556,
              "#d8576b"
             ],
             [
              0.6666666666666666,
              "#ed7953"
             ],
             [
              0.7777777777777778,
              "#fb9f3a"
             ],
             [
              0.8888888888888888,
              "#fdca26"
             ],
             [
              1,
              "#f0f921"
             ]
            ],
            "type": "histogram2d"
           }
          ],
          "histogram2dcontour": [
           {
            "colorbar": {
             "outlinewidth": 0,
             "ticks": ""
            },
            "colorscale": [
             [
              0,
              "#0d0887"
             ],
             [
              0.1111111111111111,
              "#46039f"
             ],
             [
              0.2222222222222222,
              "#7201a8"
             ],
             [
              0.3333333333333333,
              "#9c179e"
             ],
             [
              0.4444444444444444,
              "#bd3786"
             ],
             [
              0.5555555555555556,
              "#d8576b"
             ],
             [
              0.6666666666666666,
              "#ed7953"
             ],
             [
              0.7777777777777778,
              "#fb9f3a"
             ],
             [
              0.8888888888888888,
              "#fdca26"
             ],
             [
              1,
              "#f0f921"
             ]
            ],
            "type": "histogram2dcontour"
           }
          ],
          "mesh3d": [
           {
            "colorbar": {
             "outlinewidth": 0,
             "ticks": ""
            },
            "type": "mesh3d"
           }
          ],
          "parcoords": [
           {
            "line": {
             "colorbar": {
              "outlinewidth": 0,
              "ticks": ""
             }
            },
            "type": "parcoords"
           }
          ],
          "pie": [
           {
            "automargin": true,
            "type": "pie"
           }
          ],
          "scatter": [
           {
            "marker": {
             "colorbar": {
              "outlinewidth": 0,
              "ticks": ""
             }
            },
            "type": "scatter"
           }
          ],
          "scatter3d": [
           {
            "line": {
             "colorbar": {
              "outlinewidth": 0,
              "ticks": ""
             }
            },
            "marker": {
             "colorbar": {
              "outlinewidth": 0,
              "ticks": ""
             }
            },
            "type": "scatter3d"
           }
          ],
          "scattercarpet": [
           {
            "marker": {
             "colorbar": {
              "outlinewidth": 0,
              "ticks": ""
             }
            },
            "type": "scattercarpet"
           }
          ],
          "scattergeo": [
           {
            "marker": {
             "colorbar": {
              "outlinewidth": 0,
              "ticks": ""
             }
            },
            "type": "scattergeo"
           }
          ],
          "scattergl": [
           {
            "marker": {
             "colorbar": {
              "outlinewidth": 0,
              "ticks": ""
             }
            },
            "type": "scattergl"
           }
          ],
          "scattermapbox": [
           {
            "marker": {
             "colorbar": {
              "outlinewidth": 0,
              "ticks": ""
             }
            },
            "type": "scattermapbox"
           }
          ],
          "scatterpolar": [
           {
            "marker": {
             "colorbar": {
              "outlinewidth": 0,
              "ticks": ""
             }
            },
            "type": "scatterpolar"
           }
          ],
          "scatterpolargl": [
           {
            "marker": {
             "colorbar": {
              "outlinewidth": 0,
              "ticks": ""
             }
            },
            "type": "scatterpolargl"
           }
          ],
          "scatterternary": [
           {
            "marker": {
             "colorbar": {
              "outlinewidth": 0,
              "ticks": ""
             }
            },
            "type": "scatterternary"
           }
          ],
          "surface": [
           {
            "colorbar": {
             "outlinewidth": 0,
             "ticks": ""
            },
            "colorscale": [
             [
              0,
              "#0d0887"
             ],
             [
              0.1111111111111111,
              "#46039f"
             ],
             [
              0.2222222222222222,
              "#7201a8"
             ],
             [
              0.3333333333333333,
              "#9c179e"
             ],
             [
              0.4444444444444444,
              "#bd3786"
             ],
             [
              0.5555555555555556,
              "#d8576b"
             ],
             [
              0.6666666666666666,
              "#ed7953"
             ],
             [
              0.7777777777777778,
              "#fb9f3a"
             ],
             [
              0.8888888888888888,
              "#fdca26"
             ],
             [
              1,
              "#f0f921"
             ]
            ],
            "type": "surface"
           }
          ],
          "table": [
           {
            "cells": {
             "fill": {
              "color": "#EBF0F8"
             },
             "line": {
              "color": "white"
             }
            },
            "header": {
             "fill": {
              "color": "#C8D4E3"
             },
             "line": {
              "color": "white"
             }
            },
            "type": "table"
           }
          ]
         },
         "layout": {
          "annotationdefaults": {
           "arrowcolor": "#2a3f5f",
           "arrowhead": 0,
           "arrowwidth": 1
          },
          "autotypenumbers": "strict",
          "coloraxis": {
           "colorbar": {
            "outlinewidth": 0,
            "ticks": ""
           }
          },
          "colorscale": {
           "diverging": [
            [
             0,
             "#8e0152"
            ],
            [
             0.1,
             "#c51b7d"
            ],
            [
             0.2,
             "#de77ae"
            ],
            [
             0.3,
             "#f1b6da"
            ],
            [
             0.4,
             "#fde0ef"
            ],
            [
             0.5,
             "#f7f7f7"
            ],
            [
             0.6,
             "#e6f5d0"
            ],
            [
             0.7,
             "#b8e186"
            ],
            [
             0.8,
             "#7fbc41"
            ],
            [
             0.9,
             "#4d9221"
            ],
            [
             1,
             "#276419"
            ]
           ],
           "sequential": [
            [
             0,
             "#0d0887"
            ],
            [
             0.1111111111111111,
             "#46039f"
            ],
            [
             0.2222222222222222,
             "#7201a8"
            ],
            [
             0.3333333333333333,
             "#9c179e"
            ],
            [
             0.4444444444444444,
             "#bd3786"
            ],
            [
             0.5555555555555556,
             "#d8576b"
            ],
            [
             0.6666666666666666,
             "#ed7953"
            ],
            [
             0.7777777777777778,
             "#fb9f3a"
            ],
            [
             0.8888888888888888,
             "#fdca26"
            ],
            [
             1,
             "#f0f921"
            ]
           ],
           "sequentialminus": [
            [
             0,
             "#0d0887"
            ],
            [
             0.1111111111111111,
             "#46039f"
            ],
            [
             0.2222222222222222,
             "#7201a8"
            ],
            [
             0.3333333333333333,
             "#9c179e"
            ],
            [
             0.4444444444444444,
             "#bd3786"
            ],
            [
             0.5555555555555556,
             "#d8576b"
            ],
            [
             0.6666666666666666,
             "#ed7953"
            ],
            [
             0.7777777777777778,
             "#fb9f3a"
            ],
            [
             0.8888888888888888,
             "#fdca26"
            ],
            [
             1,
             "#f0f921"
            ]
           ]
          },
          "colorway": [
           "#636efa",
           "#EF553B",
           "#00cc96",
           "#ab63fa",
           "#FFA15A",
           "#19d3f3",
           "#FF6692",
           "#B6E880",
           "#FF97FF",
           "#FECB52"
          ],
          "font": {
           "color": "#2a3f5f"
          },
          "geo": {
           "bgcolor": "white",
           "lakecolor": "white",
           "landcolor": "#E5ECF6",
           "showlakes": true,
           "showland": true,
           "subunitcolor": "white"
          },
          "hoverlabel": {
           "align": "left"
          },
          "hovermode": "closest",
          "mapbox": {
           "style": "light"
          },
          "paper_bgcolor": "white",
          "plot_bgcolor": "#E5ECF6",
          "polar": {
           "angularaxis": {
            "gridcolor": "white",
            "linecolor": "white",
            "ticks": ""
           },
           "bgcolor": "#E5ECF6",
           "radialaxis": {
            "gridcolor": "white",
            "linecolor": "white",
            "ticks": ""
           }
          },
          "scene": {
           "xaxis": {
            "backgroundcolor": "#E5ECF6",
            "gridcolor": "white",
            "gridwidth": 2,
            "linecolor": "white",
            "showbackground": true,
            "ticks": "",
            "zerolinecolor": "white"
           },
           "yaxis": {
            "backgroundcolor": "#E5ECF6",
            "gridcolor": "white",
            "gridwidth": 2,
            "linecolor": "white",
            "showbackground": true,
            "ticks": "",
            "zerolinecolor": "white"
           },
           "zaxis": {
            "backgroundcolor": "#E5ECF6",
            "gridcolor": "white",
            "gridwidth": 2,
            "linecolor": "white",
            "showbackground": true,
            "ticks": "",
            "zerolinecolor": "white"
           }
          },
          "shapedefaults": {
           "line": {
            "color": "#2a3f5f"
           }
          },
          "ternary": {
           "aaxis": {
            "gridcolor": "white",
            "linecolor": "white",
            "ticks": ""
           },
           "baxis": {
            "gridcolor": "white",
            "linecolor": "white",
            "ticks": ""
           },
           "bgcolor": "#E5ECF6",
           "caxis": {
            "gridcolor": "white",
            "linecolor": "white",
            "ticks": ""
           }
          },
          "title": {
           "x": 0.05
          },
          "xaxis": {
           "automargin": true,
           "gridcolor": "white",
           "linecolor": "white",
           "ticks": "",
           "title": {
            "standoff": 15
           },
           "zerolinecolor": "white",
           "zerolinewidth": 2
          },
          "yaxis": {
           "automargin": true,
           "gridcolor": "white",
           "linecolor": "white",
           "ticks": "",
           "title": {
            "standoff": 15
           },
           "zerolinecolor": "white",
           "zerolinewidth": 2
          }
         }
        },
        "title": "SPICE Generated and Manually Calculated Data [Polar]"
       }
      },
      "text/html": [
       "<div\n",
       "    class=\"webio-mountpoint\"\n",
       "    data-webio-mountpoint=\"16877656542452700958\"\n",
       ">\n",
       "    <script>\n",
       "    (function(){\n",
       "    // Some integrations (namely, IJulia/Jupyter) use an alternate render pathway than\n",
       "    // just putting the html on the page. If WebIO isn't defined, then it's pretty likely\n",
       "    // that we're in one of those situations and the integration just isn't installed\n",
       "    // correctly.\n",
       "    if (typeof window.WebIO === \"undefined\") {\n",
       "        document\n",
       "            .querySelector('[data-webio-mountpoint=\"16877656542452700958\"]')\n",
       "            .innerHTML = (\n",
       "                '<div style=\"padding: 1em; background-color: #f8d6da; border: 1px solid #f5c6cb; font-weight: bold;\">' +\n",
       "                '<p><strong>WebIO not detected.</strong></p>' +\n",
       "                '<p>Please read ' +\n",
       "                '<a href=\"https://juliagizmos.github.io/WebIO.jl/latest/troubleshooting/not-detected/\" target=\"_blank\">the troubleshooting guide</a> ' +\n",
       "                'for more information on how to resolve this issue.</p>' +\n",
       "                '<p><a href=\"https://juliagizmos.github.io/WebIO.jl/latest/troubleshooting/not-detected/\" target=\"_blank\">https://juliagizmos.github.io/WebIO.jl/latest/troubleshooting/not-detected/</a></p>' +\n",
       "                '</div>'\n",
       "            );\n",
       "        return;\n",
       "    }\n",
       "    WebIO.mount(\n",
       "        document.querySelector('[data-webio-mountpoint=\"16877656542452700958\"]'),\n",
       "        {\"props\":{},\"nodeType\":\"Scope\",\"type\":\"node\",\"instanceArgs\":{\"imports\":{\"data\":[{\"name\":\"Plotly\",\"type\":\"js\",\"url\":\"\\/assetserver\\/f3d9a6d0f5c080ffb47e8c9e300eab67a4d73b47-plotly.min.js\"},{\"name\":null,\"type\":\"js\",\"url\":\"\\/assetserver\\/d998e844b98f7bce67f9032fc7613a9df077d1c2-plotly_webio.bundle.js\"}],\"type\":\"async_block\"},\"id\":\"4113219694097134008\",\"handlers\":{\"_toImage\":[\"(function (options){return this.Plotly.toImage(this.plotElem,options).then((function (data){return WebIO.setval({\\\"name\\\":\\\"image\\\",\\\"scope\\\":\\\"4113219694097134008\\\",\\\"id\\\":\\\"2085937059793690016\\\",\\\"type\\\":\\\"observable\\\"},data)}))})\"],\"__get_gd_contents\":[\"(function (prop){prop==\\\"data\\\" ? (WebIO.setval({\\\"name\\\":\\\"__gd_contents\\\",\\\"scope\\\":\\\"4113219694097134008\\\",\\\"id\\\":\\\"10103558336245656971\\\",\\\"type\\\":\\\"observable\\\"},this.plotElem.data)) : undefined; return prop==\\\"layout\\\" ? (WebIO.setval({\\\"name\\\":\\\"__gd_contents\\\",\\\"scope\\\":\\\"4113219694097134008\\\",\\\"id\\\":\\\"10103558336245656971\\\",\\\"type\\\":\\\"observable\\\"},this.plotElem.layout)) : undefined})\"],\"_downloadImage\":[\"(function (options){return this.Plotly.downloadImage(this.plotElem,options)})\"],\"_commands\":[\"(function (args){var fn=args.shift(); var elem=this.plotElem; var Plotly=this.Plotly; args.unshift(elem); return Plotly[fn].apply(this,args)})\"]},\"systemjs_options\":null,\"mount_callbacks\":[\"function () {\\n    var handler = ((function (Plotly,PlotlyWebIO){PlotlyWebIO.init(WebIO); var gd=this.dom.querySelector(\\\"#plot-44dd3945-e834-4ede-9891-c9b3ead92eda\\\"); this.plotElem=gd; this.Plotly=Plotly; (window.Blink!==undefined) ? (gd.style.width=\\\"100%\\\", gd.style.height=\\\"100vh\\\", gd.style.marginLeft=\\\"0%\\\", gd.style.marginTop=\\\"0vh\\\") : undefined; window.onresize=(function (){return Plotly.Plots.resize(gd)}); Plotly.newPlot(gd,[{\\\"mode\\\":\\\"markers\\\",\\\"type\\\":\\\"scatterpolar\\\",\\\"name\\\":\\\"SPICE\\\",\\\"text\\\":[\\\"Mercury\\\",\\\"Venus\\\",\\\"Earth\\\",\\\"Mars\\\",\\\"Jupiter\\\",\\\"Saturn\\\",\\\"Uranus\\\",\\\"Neptune\\\"],\\\"theta\\\":[-77.29130718,167.30073594,-81.06449477,155.06447561,-144.15250724,-21.64937666,-176.36689403,62.04983143],\\\"r\\\":[1,2,3,4,5,6,7,8],\\\"marker\\\":{\\\"color\\\":\\\"green\\\"}},{\\\"mode\\\":\\\"markers\\\",\\\"type\\\":\\\"scatterpolar\\\",\\\"name\\\":\\\"CALCULATIONS\\\",\\\"text\\\":[\\\"Mercury\\\",\\\"Venus\\\",\\\"Earth\\\",\\\"Mars\\\",\\\"Jupiter\\\",\\\"Saturn\\\",\\\"Uranus\\\",\\\"Neptune\\\"],\\\"theta\\\":[-79.4319603945948,166.422235504171,98.73364265040233,155.37009103566425,-143.5084726269638,-21.286452443570226,-175.58121192068373,62.7991296225739],\\\"r\\\":[1,2,3,4,5,6,7,8],\\\"marker\\\":{\\\"color\\\":\\\"red\\\"}}],{\\\"template\\\":{\\\"layout\\\":{\\\"coloraxis\\\":{\\\"colorbar\\\":{\\\"ticks\\\":\\\"\\\",\\\"outlinewidth\\\":0}},\\\"xaxis\\\":{\\\"gridcolor\\\":\\\"white\\\",\\\"zerolinewidth\\\":2,\\\"title\\\":{\\\"standoff\\\":15},\\\"ticks\\\":\\\"\\\",\\\"zerolinecolor\\\":\\\"white\\\",\\\"automargin\\\":true,\\\"linecolor\\\":\\\"white\\\"},\\\"hovermode\\\":\\\"closest\\\",\\\"paper_bgcolor\\\":\\\"white\\\",\\\"geo\\\":{\\\"showlakes\\\":true,\\\"showland\\\":true,\\\"landcolor\\\":\\\"#E5ECF6\\\",\\\"bgcolor\\\":\\\"white\\\",\\\"subunitcolor\\\":\\\"white\\\",\\\"lakecolor\\\":\\\"white\\\"},\\\"colorscale\\\":{\\\"sequential\\\":[[0.0,\\\"#0d0887\\\"],[0.1111111111111111,\\\"#46039f\\\"],[0.2222222222222222,\\\"#7201a8\\\"],[0.3333333333333333,\\\"#9c179e\\\"],[0.4444444444444444,\\\"#bd3786\\\"],[0.5555555555555556,\\\"#d8576b\\\"],[0.6666666666666666,\\\"#ed7953\\\"],[0.7777777777777778,\\\"#fb9f3a\\\"],[0.8888888888888888,\\\"#fdca26\\\"],[1.0,\\\"#f0f921\\\"]],\\\"diverging\\\":[[0,\\\"#8e0152\\\"],[0.1,\\\"#c51b7d\\\"],[0.2,\\\"#de77ae\\\"],[0.3,\\\"#f1b6da\\\"],[0.4,\\\"#fde0ef\\\"],[0.5,\\\"#f7f7f7\\\"],[0.6,\\\"#e6f5d0\\\"],[0.7,\\\"#b8e186\\\"],[0.8,\\\"#7fbc41\\\"],[0.9,\\\"#4d9221\\\"],[1,\\\"#276419\\\"]],\\\"sequentialminus\\\":[[0.0,\\\"#0d0887\\\"],[0.1111111111111111,\\\"#46039f\\\"],[0.2222222222222222,\\\"#7201a8\\\"],[0.3333333333333333,\\\"#9c179e\\\"],[0.4444444444444444,\\\"#bd3786\\\"],[0.5555555555555556,\\\"#d8576b\\\"],[0.6666666666666666,\\\"#ed7953\\\"],[0.7777777777777778,\\\"#fb9f3a\\\"],[0.8888888888888888,\\\"#fdca26\\\"],[1.0,\\\"#f0f921\\\"]]},\\\"yaxis\\\":{\\\"gridcolor\\\":\\\"white\\\",\\\"zerolinewidth\\\":2,\\\"title\\\":{\\\"standoff\\\":15},\\\"ticks\\\":\\\"\\\",\\\"zerolinecolor\\\":\\\"white\\\",\\\"automargin\\\":true,\\\"linecolor\\\":\\\"white\\\"},\\\"shapedefaults\\\":{\\\"line\\\":{\\\"color\\\":\\\"#2a3f5f\\\"}},\\\"hoverlabel\\\":{\\\"align\\\":\\\"left\\\"},\\\"mapbox\\\":{\\\"style\\\":\\\"light\\\"},\\\"polar\\\":{\\\"angularaxis\\\":{\\\"gridcolor\\\":\\\"white\\\",\\\"ticks\\\":\\\"\\\",\\\"linecolor\\\":\\\"white\\\"},\\\"bgcolor\\\":\\\"#E5ECF6\\\",\\\"radialaxis\\\":{\\\"gridcolor\\\":\\\"white\\\",\\\"ticks\\\":\\\"\\\",\\\"linecolor\\\":\\\"white\\\"}},\\\"autotypenumbers\\\":\\\"strict\\\",\\\"font\\\":{\\\"color\\\":\\\"#2a3f5f\\\"},\\\"ternary\\\":{\\\"baxis\\\":{\\\"gridcolor\\\":\\\"white\\\",\\\"ticks\\\":\\\"\\\",\\\"linecolor\\\":\\\"white\\\"},\\\"bgcolor\\\":\\\"#E5ECF6\\\",\\\"caxis\\\":{\\\"gridcolor\\\":\\\"white\\\",\\\"ticks\\\":\\\"\\\",\\\"linecolor\\\":\\\"white\\\"},\\\"aaxis\\\":{\\\"gridcolor\\\":\\\"white\\\",\\\"ticks\\\":\\\"\\\",\\\"linecolor\\\":\\\"white\\\"}},\\\"annotationdefaults\\\":{\\\"arrowhead\\\":0,\\\"arrowwidth\\\":1,\\\"arrowcolor\\\":\\\"#2a3f5f\\\"},\\\"plot_bgcolor\\\":\\\"#E5ECF6\\\",\\\"title\\\":{\\\"x\\\":0.05},\\\"scene\\\":{\\\"xaxis\\\":{\\\"gridcolor\\\":\\\"white\\\",\\\"gridwidth\\\":2,\\\"backgroundcolor\\\":\\\"#E5ECF6\\\",\\\"ticks\\\":\\\"\\\",\\\"showbackground\\\":true,\\\"zerolinecolor\\\":\\\"white\\\",\\\"linecolor\\\":\\\"white\\\"},\\\"zaxis\\\":{\\\"gridcolor\\\":\\\"white\\\",\\\"gridwidth\\\":2,\\\"backgroundcolor\\\":\\\"#E5ECF6\\\",\\\"ticks\\\":\\\"\\\",\\\"showbackground\\\":true,\\\"zerolinecolor\\\":\\\"white\\\",\\\"linecolor\\\":\\\"white\\\"},\\\"yaxis\\\":{\\\"gridcolor\\\":\\\"white\\\",\\\"gridwidth\\\":2,\\\"backgroundcolor\\\":\\\"#E5ECF6\\\",\\\"ticks\\\":\\\"\\\",\\\"showbackground\\\":true,\\\"zerolinecolor\\\":\\\"white\\\",\\\"linecolor\\\":\\\"white\\\"}},\\\"colorway\\\":[\\\"#636efa\\\",\\\"#EF553B\\\",\\\"#00cc96\\\",\\\"#ab63fa\\\",\\\"#FFA15A\\\",\\\"#19d3f3\\\",\\\"#FF6692\\\",\\\"#B6E880\\\",\\\"#FF97FF\\\",\\\"#FECB52\\\"]},\\\"data\\\":{\\\"barpolar\\\":[{\\\"type\\\":\\\"barpolar\\\",\\\"marker\\\":{\\\"line\\\":{\\\"color\\\":\\\"#E5ECF6\\\",\\\"width\\\":0.5}}}],\\\"carpet\\\":[{\\\"aaxis\\\":{\\\"gridcolor\\\":\\\"white\\\",\\\"endlinecolor\\\":\\\"#2a3f5f\\\",\\\"minorgridcolor\\\":\\\"white\\\",\\\"startlinecolor\\\":\\\"#2a3f5f\\\",\\\"linecolor\\\":\\\"white\\\"},\\\"type\\\":\\\"carpet\\\",\\\"baxis\\\":{\\\"gridcolor\\\":\\\"white\\\",\\\"endlinecolor\\\":\\\"#2a3f5f\\\",\\\"minorgridcolor\\\":\\\"white\\\",\\\"startlinecolor\\\":\\\"#2a3f5f\\\",\\\"linecolor\\\":\\\"white\\\"}}],\\\"scatterpolar\\\":[{\\\"type\\\":\\\"scatterpolar\\\",\\\"marker\\\":{\\\"colorbar\\\":{\\\"ticks\\\":\\\"\\\",\\\"outlinewidth\\\":0}}}],\\\"parcoords\\\":[{\\\"line\\\":{\\\"colorbar\\\":{\\\"ticks\\\":\\\"\\\",\\\"outlinewidth\\\":0}},\\\"type\\\":\\\"parcoords\\\"}],\\\"scatter\\\":[{\\\"type\\\":\\\"scatter\\\",\\\"marker\\\":{\\\"colorbar\\\":{\\\"ticks\\\":\\\"\\\",\\\"outlinewidth\\\":0}}}],\\\"histogram2dcontour\\\":[{\\\"colorbar\\\":{\\\"ticks\\\":\\\"\\\",\\\"outlinewidth\\\":0},\\\"type\\\":\\\"histogram2dcontour\\\",\\\"colorscale\\\":[[0.0,\\\"#0d0887\\\"],[0.1111111111111111,\\\"#46039f\\\"],[0.2222222222222222,\\\"#7201a8\\\"],[0.3333333333333333,\\\"#9c179e\\\"],[0.4444444444444444,\\\"#bd3786\\\"],[0.5555555555555556,\\\"#d8576b\\\"],[0.6666666666666666,\\\"#ed7953\\\"],[0.7777777777777778,\\\"#fb9f3a\\\"],[0.8888888888888888,\\\"#fdca26\\\"],[1.0,\\\"#f0f921\\\"]]}],\\\"contour\\\":[{\\\"colorbar\\\":{\\\"ticks\\\":\\\"\\\",\\\"outlinewidth\\\":0},\\\"type\\\":\\\"contour\\\",\\\"colorscale\\\":[[0.0,\\\"#0d0887\\\"],[0.1111111111111111,\\\"#46039f\\\"],[0.2222222222222222,\\\"#7201a8\\\"],[0.3333333333333333,\\\"#9c179e\\\"],[0.4444444444444444,\\\"#bd3786\\\"],[0.5555555555555556,\\\"#d8576b\\\"],[0.6666666666666666,\\\"#ed7953\\\"],[0.7777777777777778,\\\"#fb9f3a\\\"],[0.8888888888888888,\\\"#fdca26\\\"],[1.0,\\\"#f0f921\\\"]]}],\\\"scattercarpet\\\":[{\\\"type\\\":\\\"scattercarpet\\\",\\\"marker\\\":{\\\"colorbar\\\":{\\\"ticks\\\":\\\"\\\",\\\"outlinewidth\\\":0}}}],\\\"mesh3d\\\":[{\\\"colorbar\\\":{\\\"ticks\\\":\\\"\\\",\\\"outlinewidth\\\":0},\\\"type\\\":\\\"mesh3d\\\"}],\\\"surface\\\":[{\\\"colorbar\\\":{\\\"ticks\\\":\\\"\\\",\\\"outlinewidth\\\":0},\\\"type\\\":\\\"surface\\\",\\\"colorscale\\\":[[0.0,\\\"#0d0887\\\"],[0.1111111111111111,\\\"#46039f\\\"],[0.2222222222222222,\\\"#7201a8\\\"],[0.3333333333333333,\\\"#9c179e\\\"],[0.4444444444444444,\\\"#bd3786\\\"],[0.5555555555555556,\\\"#d8576b\\\"],[0.6666666666666666,\\\"#ed7953\\\"],[0.7777777777777778,\\\"#fb9f3a\\\"],[0.8888888888888888,\\\"#fdca26\\\"],[1.0,\\\"#f0f921\\\"]]}],\\\"scattermapbox\\\":[{\\\"type\\\":\\\"scattermapbox\\\",\\\"marker\\\":{\\\"colorbar\\\":{\\\"ticks\\\":\\\"\\\",\\\"outlinewidth\\\":0}}}],\\\"scattergeo\\\":[{\\\"type\\\":\\\"scattergeo\\\",\\\"marker\\\":{\\\"colorbar\\\":{\\\"ticks\\\":\\\"\\\",\\\"outlinewidth\\\":0}}}],\\\"histogram\\\":[{\\\"type\\\":\\\"histogram\\\",\\\"marker\\\":{\\\"colorbar\\\":{\\\"ticks\\\":\\\"\\\",\\\"outlinewidth\\\":0}}}],\\\"pie\\\":[{\\\"type\\\":\\\"pie\\\",\\\"automargin\\\":true}],\\\"choropleth\\\":[{\\\"colorbar\\\":{\\\"ticks\\\":\\\"\\\",\\\"outlinewidth\\\":0},\\\"type\\\":\\\"choropleth\\\"}],\\\"heatmapgl\\\":[{\\\"colorbar\\\":{\\\"ticks\\\":\\\"\\\",\\\"outlinewidth\\\":0},\\\"type\\\":\\\"heatmapgl\\\",\\\"colorscale\\\":[[0.0,\\\"#0d0887\\\"],[0.1111111111111111,\\\"#46039f\\\"],[0.2222222222222222,\\\"#7201a8\\\"],[0.3333333333333333,\\\"#9c179e\\\"],[0.4444444444444444,\\\"#bd3786\\\"],[0.5555555555555556,\\\"#d8576b\\\"],[0.6666666666666666,\\\"#ed7953\\\"],[0.7777777777777778,\\\"#fb9f3a\\\"],[0.8888888888888888,\\\"#fdca26\\\"],[1.0,\\\"#f0f921\\\"]]}],\\\"bar\\\":[{\\\"type\\\":\\\"bar\\\",\\\"error_y\\\":{\\\"color\\\":\\\"#2a3f5f\\\"},\\\"error_x\\\":{\\\"color\\\":\\\"#2a3f5f\\\"},\\\"marker\\\":{\\\"line\\\":{\\\"color\\\":\\\"#E5ECF6\\\",\\\"width\\\":0.5}}}],\\\"heatmap\\\":[{\\\"colorbar\\\":{\\\"ticks\\\":\\\"\\\",\\\"outlinewidth\\\":0},\\\"type\\\":\\\"heatmap\\\",\\\"colorscale\\\":[[0.0,\\\"#0d0887\\\"],[0.1111111111111111,\\\"#46039f\\\"],[0.2222222222222222,\\\"#7201a8\\\"],[0.3333333333333333,\\\"#9c179e\\\"],[0.4444444444444444,\\\"#bd3786\\\"],[0.5555555555555556,\\\"#d8576b\\\"],[0.6666666666666666,\\\"#ed7953\\\"],[0.7777777777777778,\\\"#fb9f3a\\\"],[0.8888888888888888,\\\"#fdca26\\\"],[1.0,\\\"#f0f921\\\"]]}],\\\"contourcarpet\\\":[{\\\"colorbar\\\":{\\\"ticks\\\":\\\"\\\",\\\"outlinewidth\\\":0},\\\"type\\\":\\\"contourcarpet\\\"}],\\\"table\\\":[{\\\"type\\\":\\\"table\\\",\\\"header\\\":{\\\"line\\\":{\\\"color\\\":\\\"white\\\"},\\\"fill\\\":{\\\"color\\\":\\\"#C8D4E3\\\"}},\\\"cells\\\":{\\\"line\\\":{\\\"color\\\":\\\"white\\\"},\\\"fill\\\":{\\\"color\\\":\\\"#EBF0F8\\\"}}}],\\\"scatter3d\\\":[{\\\"line\\\":{\\\"colorbar\\\":{\\\"ticks\\\":\\\"\\\",\\\"outlinewidth\\\":0}},\\\"type\\\":\\\"scatter3d\\\",\\\"marker\\\":{\\\"colorbar\\\":{\\\"ticks\\\":\\\"\\\",\\\"outlinewidth\\\":0}}}],\\\"scattergl\\\":[{\\\"type\\\":\\\"scattergl\\\",\\\"marker\\\":{\\\"colorbar\\\":{\\\"ticks\\\":\\\"\\\",\\\"outlinewidth\\\":0}}}],\\\"histogram2d\\\":[{\\\"colorbar\\\":{\\\"ticks\\\":\\\"\\\",\\\"outlinewidth\\\":0},\\\"type\\\":\\\"histogram2d\\\",\\\"colorscale\\\":[[0.0,\\\"#0d0887\\\"],[0.1111111111111111,\\\"#46039f\\\"],[0.2222222222222222,\\\"#7201a8\\\"],[0.3333333333333333,\\\"#9c179e\\\"],[0.4444444444444444,\\\"#bd3786\\\"],[0.5555555555555556,\\\"#d8576b\\\"],[0.6666666666666666,\\\"#ed7953\\\"],[0.7777777777777778,\\\"#fb9f3a\\\"],[0.8888888888888888,\\\"#fdca26\\\"],[1.0,\\\"#f0f921\\\"]]}],\\\"scatterternary\\\":[{\\\"type\\\":\\\"scatterternary\\\",\\\"marker\\\":{\\\"colorbar\\\":{\\\"ticks\\\":\\\"\\\",\\\"outlinewidth\\\":0}}}],\\\"scatterpolargl\\\":[{\\\"type\\\":\\\"scatterpolargl\\\",\\\"marker\\\":{\\\"colorbar\\\":{\\\"ticks\\\":\\\"\\\",\\\"outlinewidth\\\":0}}}]}},\\\"margin\\\":{\\\"l\\\":50,\\\"b\\\":50,\\\"r\\\":50,\\\"t\\\":60},\\\"title\\\":\\\"SPICE Generated and Manually Calculated Data [Polar]\\\"},{\\\"showLink\\\":false,\\\"editable\\\":false,\\\"responsive\\\":true,\\\"staticPlot\\\":false,\\\"scrollZoom\\\":true}); gd.on(\\\"plotly_hover\\\",(function (data){var filtered_data=WebIO.PlotlyCommands.filterEventData(gd,data,\\\"hover\\\"); return !(filtered_data.isnil) ? (WebIO.setval({\\\"name\\\":\\\"hover\\\",\\\"scope\\\":\\\"4113219694097134008\\\",\\\"id\\\":\\\"14576621815523901880\\\",\\\"type\\\":\\\"observable\\\"},filtered_data.out)) : undefined})); gd.on(\\\"plotly_unhover\\\",(function (){return WebIO.setval({\\\"name\\\":\\\"hover\\\",\\\"scope\\\":\\\"4113219694097134008\\\",\\\"id\\\":\\\"14576621815523901880\\\",\\\"type\\\":\\\"observable\\\"},{})})); gd.on(\\\"plotly_selected\\\",(function (data){var filtered_data=WebIO.PlotlyCommands.filterEventData(gd,data,\\\"selected\\\"); return !(filtered_data.isnil) ? (WebIO.setval({\\\"name\\\":\\\"selected\\\",\\\"scope\\\":\\\"4113219694097134008\\\",\\\"id\\\":\\\"15849841562228474006\\\",\\\"type\\\":\\\"observable\\\"},filtered_data.out)) : undefined})); gd.on(\\\"plotly_deselect\\\",(function (){return WebIO.setval({\\\"name\\\":\\\"selected\\\",\\\"scope\\\":\\\"4113219694097134008\\\",\\\"id\\\":\\\"15849841562228474006\\\",\\\"type\\\":\\\"observable\\\"},{})})); gd.on(\\\"plotly_relayout\\\",(function (data){var filtered_data=WebIO.PlotlyCommands.filterEventData(gd,data,\\\"relayout\\\"); return !(filtered_data.isnil) ? (WebIO.setval({\\\"name\\\":\\\"relayout\\\",\\\"scope\\\":\\\"4113219694097134008\\\",\\\"id\\\":\\\"11515524278502854549\\\",\\\"type\\\":\\\"observable\\\"},filtered_data.out)) : undefined})); return gd.on(\\\"plotly_click\\\",(function (data){var filtered_data=WebIO.PlotlyCommands.filterEventData(gd,data,\\\"click\\\"); return !(filtered_data.isnil) ? (WebIO.setval({\\\"name\\\":\\\"click\\\",\\\"scope\\\":\\\"4113219694097134008\\\",\\\"id\\\":\\\"705407389792343621\\\",\\\"type\\\":\\\"observable\\\"},filtered_data.out)) : undefined}))}));\\n    (WebIO.importBlock({\\\"data\\\":[{\\\"name\\\":\\\"Plotly\\\",\\\"type\\\":\\\"js\\\",\\\"url\\\":\\\"\\/assetserver\\/f3d9a6d0f5c080ffb47e8c9e300eab67a4d73b47-plotly.min.js\\\"},{\\\"name\\\":null,\\\"type\\\":\\\"js\\\",\\\"url\\\":\\\"\\/assetserver\\/d998e844b98f7bce67f9032fc7613a9df077d1c2-plotly_webio.bundle.js\\\"}],\\\"type\\\":\\\"async_block\\\"})).then((imports) => handler.apply(this, imports));\\n}\\n\"],\"observables\":{\"_toImage\":{\"sync\":true,\"id\":\"12992387552446317334\",\"value\":{}},\"hover\":{\"sync\":false,\"id\":\"14576621815523901880\",\"value\":{}},\"selected\":{\"sync\":false,\"id\":\"15849841562228474006\",\"value\":{}},\"__gd_contents\":{\"sync\":false,\"id\":\"10103558336245656971\",\"value\":{}},\"click\":{\"sync\":false,\"id\":\"705407389792343621\",\"value\":{}},\"image\":{\"sync\":true,\"id\":\"2085937059793690016\",\"value\":\"\"},\"__get_gd_contents\":{\"sync\":true,\"id\":\"8086818411685725878\",\"value\":\"\"},\"_downloadImage\":{\"sync\":true,\"id\":\"8349405312056728052\",\"value\":{}},\"relayout\":{\"sync\":false,\"id\":\"11515524278502854549\",\"value\":{}},\"_commands\":{\"sync\":true,\"id\":\"15689039951542729477\",\"value\":[]}}},\"children\":[{\"props\":{\"id\":\"plot-44dd3945-e834-4ede-9891-c9b3ead92eda\"},\"nodeType\":\"DOM\",\"type\":\"node\",\"instanceArgs\":{\"namespace\":\"html\",\"tag\":\"div\"},\"children\":[]}]},\n",
       "        window,\n",
       "    );\n",
       "    })()\n",
       "    </script>\n",
       "</div>\n"
      ],
      "text/plain": [
       "data: [\n",
       "  \"scatterpolar with fields marker, mode, name, r, text, theta, and type\",\n",
       "  \"scatterpolar with fields marker, mode, name, r, text, theta, and type\"\n",
       "]\n",
       "\n",
       "layout: \"layout with fields margin, template, and title\"\n",
       "\n"
      ]
     },
     "execution_count": 72,
     "metadata": {},
     "output_type": "execute_result"
    }
   ],
   "source": [
    "plot([scatterpolar(dfSPICEPlot, r=:RADIUS, theta=:ℓ, marker=attr(color=:green), mode=\"markers\", name=\"SPICE\", text=[\"Mercury\", \"Venus\", \"Earth\", \"Mars\", \"Jupiter\", \"Saturn\", \"Uranus\", \"Neptune\"]), \n",
    "      scatterpolar(dfBodiesToPlot, r=:RADIUS, theta=:ℓ, marker=attr(color=:red), mode=\"markers\",  name=\"CALCULATIONS\", text=[\"Mercury\", \"Venus\", \"Earth\", \"Mars\", \"Jupiter\", \"Saturn\", \"Uranus\", \"Neptune\"])\n",
    "    ], Layout(title=\"SPICE Generated and Manually Calculated Data [Polar]\"))\n",
    "\n",
    "\n",
    "\n",
    "    #TODO: Check on variation (SPICE's Lat goes from -90 to +90. SPICE's Lon goes from -180 to +180 (mine is 0;360°))"
   ]
  },
  {
   "cell_type": "code",
   "execution_count": 73,
   "metadata": {},
   "outputs": [
    {
     "data": {
      "application/vnd.plotly.v1+json": {
       "config": {
        "editable": false,
        "responsive": true,
        "scrollZoom": true,
        "showLink": false,
        "staticPlot": false
       },
       "data": [
        {
         "marker": {
          "color": "green"
         },
         "mode": "markers",
         "name": "SPICE",
         "text": [
          "Mercury",
          "Venus",
          "Earth",
          "Mars",
          "Jupiter",
          "Saturn",
          "Uranus",
          "Neptune"
         ],
         "type": "scatter",
         "x": [
          14911091805.97833,
          -104794789277.83182,
          23561118315.66819,
          -225897389222.8334,
          -659099013859.6561,
          1350310213832.938,
          -2732305452180.727,
          2089979961217.0737
         ],
         "y": [
          -66118957106.48166,
          23615111322.84366,
          -150246452295.59686,
          105028364727.66489,
          -476188208773.588,
          -535972188347.4714,
          -173487143735.5803,
          3938941296742.7104
         ]
        },
        {
         "marker": {
          "color": "red"
         },
         "mode": "markers",
         "name": "CALCULATION",
         "text": [
          "Mercury",
          "Venus",
          "Earth",
          "Mars",
          "Jupiter",
          "Saturn",
          "Uranus",
          "Neptune"
         ],
         "type": "scatter",
         "x": [
          12499734217.532415,
          -104411683673.36723,
          -23092590417.153496,
          -226446313201.95752,
          -653687721830.9825,
          1359395345653.734,
          -2728070178804.196,
          2037716275163.7979
         ],
         "y": [
          -66998410689.03266,
          25216956779.22033,
          150320384426.5847,
          103818235978.93343,
          -483553893756.1281,
          -529635843660.00525,
          -210813451223.49985,
          3964818901119.296
         ]
        }
       ],
       "frames": [],
       "layout": {
        "margin": {
         "b": 50,
         "l": 50,
         "r": 50,
         "t": 60
        },
        "template": {
         "data": {
          "bar": [
           {
            "error_x": {
             "color": "#2a3f5f"
            },
            "error_y": {
             "color": "#2a3f5f"
            },
            "marker": {
             "line": {
              "color": "#E5ECF6",
              "width": 0.5
             }
            },
            "type": "bar"
           }
          ],
          "barpolar": [
           {
            "marker": {
             "line": {
              "color": "#E5ECF6",
              "width": 0.5
             }
            },
            "type": "barpolar"
           }
          ],
          "carpet": [
           {
            "aaxis": {
             "endlinecolor": "#2a3f5f",
             "gridcolor": "white",
             "linecolor": "white",
             "minorgridcolor": "white",
             "startlinecolor": "#2a3f5f"
            },
            "baxis": {
             "endlinecolor": "#2a3f5f",
             "gridcolor": "white",
             "linecolor": "white",
             "minorgridcolor": "white",
             "startlinecolor": "#2a3f5f"
            },
            "type": "carpet"
           }
          ],
          "choropleth": [
           {
            "colorbar": {
             "outlinewidth": 0,
             "ticks": ""
            },
            "type": "choropleth"
           }
          ],
          "contour": [
           {
            "colorbar": {
             "outlinewidth": 0,
             "ticks": ""
            },
            "colorscale": [
             [
              0,
              "#0d0887"
             ],
             [
              0.1111111111111111,
              "#46039f"
             ],
             [
              0.2222222222222222,
              "#7201a8"
             ],
             [
              0.3333333333333333,
              "#9c179e"
             ],
             [
              0.4444444444444444,
              "#bd3786"
             ],
             [
              0.5555555555555556,
              "#d8576b"
             ],
             [
              0.6666666666666666,
              "#ed7953"
             ],
             [
              0.7777777777777778,
              "#fb9f3a"
             ],
             [
              0.8888888888888888,
              "#fdca26"
             ],
             [
              1,
              "#f0f921"
             ]
            ],
            "type": "contour"
           }
          ],
          "contourcarpet": [
           {
            "colorbar": {
             "outlinewidth": 0,
             "ticks": ""
            },
            "type": "contourcarpet"
           }
          ],
          "heatmap": [
           {
            "colorbar": {
             "outlinewidth": 0,
             "ticks": ""
            },
            "colorscale": [
             [
              0,
              "#0d0887"
             ],
             [
              0.1111111111111111,
              "#46039f"
             ],
             [
              0.2222222222222222,
              "#7201a8"
             ],
             [
              0.3333333333333333,
              "#9c179e"
             ],
             [
              0.4444444444444444,
              "#bd3786"
             ],
             [
              0.5555555555555556,
              "#d8576b"
             ],
             [
              0.6666666666666666,
              "#ed7953"
             ],
             [
              0.7777777777777778,
              "#fb9f3a"
             ],
             [
              0.8888888888888888,
              "#fdca26"
             ],
             [
              1,
              "#f0f921"
             ]
            ],
            "type": "heatmap"
           }
          ],
          "heatmapgl": [
           {
            "colorbar": {
             "outlinewidth": 0,
             "ticks": ""
            },
            "colorscale": [
             [
              0,
              "#0d0887"
             ],
             [
              0.1111111111111111,
              "#46039f"
             ],
             [
              0.2222222222222222,
              "#7201a8"
             ],
             [
              0.3333333333333333,
              "#9c179e"
             ],
             [
              0.4444444444444444,
              "#bd3786"
             ],
             [
              0.5555555555555556,
              "#d8576b"
             ],
             [
              0.6666666666666666,
              "#ed7953"
             ],
             [
              0.7777777777777778,
              "#fb9f3a"
             ],
             [
              0.8888888888888888,
              "#fdca26"
             ],
             [
              1,
              "#f0f921"
             ]
            ],
            "type": "heatmapgl"
           }
          ],
          "histogram": [
           {
            "marker": {
             "colorbar": {
              "outlinewidth": 0,
              "ticks": ""
             }
            },
            "type": "histogram"
           }
          ],
          "histogram2d": [
           {
            "colorbar": {
             "outlinewidth": 0,
             "ticks": ""
            },
            "colorscale": [
             [
              0,
              "#0d0887"
             ],
             [
              0.1111111111111111,
              "#46039f"
             ],
             [
              0.2222222222222222,
              "#7201a8"
             ],
             [
              0.3333333333333333,
              "#9c179e"
             ],
             [
              0.4444444444444444,
              "#bd3786"
             ],
             [
              0.5555555555555556,
              "#d8576b"
             ],
             [
              0.6666666666666666,
              "#ed7953"
             ],
             [
              0.7777777777777778,
              "#fb9f3a"
             ],
             [
              0.8888888888888888,
              "#fdca26"
             ],
             [
              1,
              "#f0f921"
             ]
            ],
            "type": "histogram2d"
           }
          ],
          "histogram2dcontour": [
           {
            "colorbar": {
             "outlinewidth": 0,
             "ticks": ""
            },
            "colorscale": [
             [
              0,
              "#0d0887"
             ],
             [
              0.1111111111111111,
              "#46039f"
             ],
             [
              0.2222222222222222,
              "#7201a8"
             ],
             [
              0.3333333333333333,
              "#9c179e"
             ],
             [
              0.4444444444444444,
              "#bd3786"
             ],
             [
              0.5555555555555556,
              "#d8576b"
             ],
             [
              0.6666666666666666,
              "#ed7953"
             ],
             [
              0.7777777777777778,
              "#fb9f3a"
             ],
             [
              0.8888888888888888,
              "#fdca26"
             ],
             [
              1,
              "#f0f921"
             ]
            ],
            "type": "histogram2dcontour"
           }
          ],
          "mesh3d": [
           {
            "colorbar": {
             "outlinewidth": 0,
             "ticks": ""
            },
            "type": "mesh3d"
           }
          ],
          "parcoords": [
           {
            "line": {
             "colorbar": {
              "outlinewidth": 0,
              "ticks": ""
             }
            },
            "type": "parcoords"
           }
          ],
          "pie": [
           {
            "automargin": true,
            "type": "pie"
           }
          ],
          "scatter": [
           {
            "marker": {
             "colorbar": {
              "outlinewidth": 0,
              "ticks": ""
             }
            },
            "type": "scatter"
           }
          ],
          "scatter3d": [
           {
            "line": {
             "colorbar": {
              "outlinewidth": 0,
              "ticks": ""
             }
            },
            "marker": {
             "colorbar": {
              "outlinewidth": 0,
              "ticks": ""
             }
            },
            "type": "scatter3d"
           }
          ],
          "scattercarpet": [
           {
            "marker": {
             "colorbar": {
              "outlinewidth": 0,
              "ticks": ""
             }
            },
            "type": "scattercarpet"
           }
          ],
          "scattergeo": [
           {
            "marker": {
             "colorbar": {
              "outlinewidth": 0,
              "ticks": ""
             }
            },
            "type": "scattergeo"
           }
          ],
          "scattergl": [
           {
            "marker": {
             "colorbar": {
              "outlinewidth": 0,
              "ticks": ""
             }
            },
            "type": "scattergl"
           }
          ],
          "scattermapbox": [
           {
            "marker": {
             "colorbar": {
              "outlinewidth": 0,
              "ticks": ""
             }
            },
            "type": "scattermapbox"
           }
          ],
          "scatterpolar": [
           {
            "marker": {
             "colorbar": {
              "outlinewidth": 0,
              "ticks": ""
             }
            },
            "type": "scatterpolar"
           }
          ],
          "scatterpolargl": [
           {
            "marker": {
             "colorbar": {
              "outlinewidth": 0,
              "ticks": ""
             }
            },
            "type": "scatterpolargl"
           }
          ],
          "scatterternary": [
           {
            "marker": {
             "colorbar": {
              "outlinewidth": 0,
              "ticks": ""
             }
            },
            "type": "scatterternary"
           }
          ],
          "surface": [
           {
            "colorbar": {
             "outlinewidth": 0,
             "ticks": ""
            },
            "colorscale": [
             [
              0,
              "#0d0887"
             ],
             [
              0.1111111111111111,
              "#46039f"
             ],
             [
              0.2222222222222222,
              "#7201a8"
             ],
             [
              0.3333333333333333,
              "#9c179e"
             ],
             [
              0.4444444444444444,
              "#bd3786"
             ],
             [
              0.5555555555555556,
              "#d8576b"
             ],
             [
              0.6666666666666666,
              "#ed7953"
             ],
             [
              0.7777777777777778,
              "#fb9f3a"
             ],
             [
              0.8888888888888888,
              "#fdca26"
             ],
             [
              1,
              "#f0f921"
             ]
            ],
            "type": "surface"
           }
          ],
          "table": [
           {
            "cells": {
             "fill": {
              "color": "#EBF0F8"
             },
             "line": {
              "color": "white"
             }
            },
            "header": {
             "fill": {
              "color": "#C8D4E3"
             },
             "line": {
              "color": "white"
             }
            },
            "type": "table"
           }
          ]
         },
         "layout": {
          "annotationdefaults": {
           "arrowcolor": "#2a3f5f",
           "arrowhead": 0,
           "arrowwidth": 1
          },
          "autotypenumbers": "strict",
          "coloraxis": {
           "colorbar": {
            "outlinewidth": 0,
            "ticks": ""
           }
          },
          "colorscale": {
           "diverging": [
            [
             0,
             "#8e0152"
            ],
            [
             0.1,
             "#c51b7d"
            ],
            [
             0.2,
             "#de77ae"
            ],
            [
             0.3,
             "#f1b6da"
            ],
            [
             0.4,
             "#fde0ef"
            ],
            [
             0.5,
             "#f7f7f7"
            ],
            [
             0.6,
             "#e6f5d0"
            ],
            [
             0.7,
             "#b8e186"
            ],
            [
             0.8,
             "#7fbc41"
            ],
            [
             0.9,
             "#4d9221"
            ],
            [
             1,
             "#276419"
            ]
           ],
           "sequential": [
            [
             0,
             "#0d0887"
            ],
            [
             0.1111111111111111,
             "#46039f"
            ],
            [
             0.2222222222222222,
             "#7201a8"
            ],
            [
             0.3333333333333333,
             "#9c179e"
            ],
            [
             0.4444444444444444,
             "#bd3786"
            ],
            [
             0.5555555555555556,
             "#d8576b"
            ],
            [
             0.6666666666666666,
             "#ed7953"
            ],
            [
             0.7777777777777778,
             "#fb9f3a"
            ],
            [
             0.8888888888888888,
             "#fdca26"
            ],
            [
             1,
             "#f0f921"
            ]
           ],
           "sequentialminus": [
            [
             0,
             "#0d0887"
            ],
            [
             0.1111111111111111,
             "#46039f"
            ],
            [
             0.2222222222222222,
             "#7201a8"
            ],
            [
             0.3333333333333333,
             "#9c179e"
            ],
            [
             0.4444444444444444,
             "#bd3786"
            ],
            [
             0.5555555555555556,
             "#d8576b"
            ],
            [
             0.6666666666666666,
             "#ed7953"
            ],
            [
             0.7777777777777778,
             "#fb9f3a"
            ],
            [
             0.8888888888888888,
             "#fdca26"
            ],
            [
             1,
             "#f0f921"
            ]
           ]
          },
          "colorway": [
           "#636efa",
           "#EF553B",
           "#00cc96",
           "#ab63fa",
           "#FFA15A",
           "#19d3f3",
           "#FF6692",
           "#B6E880",
           "#FF97FF",
           "#FECB52"
          ],
          "font": {
           "color": "#2a3f5f"
          },
          "geo": {
           "bgcolor": "white",
           "lakecolor": "white",
           "landcolor": "#E5ECF6",
           "showlakes": true,
           "showland": true,
           "subunitcolor": "white"
          },
          "hoverlabel": {
           "align": "left"
          },
          "hovermode": "closest",
          "mapbox": {
           "style": "light"
          },
          "paper_bgcolor": "white",
          "plot_bgcolor": "#E5ECF6",
          "polar": {
           "angularaxis": {
            "gridcolor": "white",
            "linecolor": "white",
            "ticks": ""
           },
           "bgcolor": "#E5ECF6",
           "radialaxis": {
            "gridcolor": "white",
            "linecolor": "white",
            "ticks": ""
           }
          },
          "scene": {
           "xaxis": {
            "backgroundcolor": "#E5ECF6",
            "gridcolor": "white",
            "gridwidth": 2,
            "linecolor": "white",
            "showbackground": true,
            "ticks": "",
            "zerolinecolor": "white"
           },
           "yaxis": {
            "backgroundcolor": "#E5ECF6",
            "gridcolor": "white",
            "gridwidth": 2,
            "linecolor": "white",
            "showbackground": true,
            "ticks": "",
            "zerolinecolor": "white"
           },
           "zaxis": {
            "backgroundcolor": "#E5ECF6",
            "gridcolor": "white",
            "gridwidth": 2,
            "linecolor": "white",
            "showbackground": true,
            "ticks": "",
            "zerolinecolor": "white"
           }
          },
          "shapedefaults": {
           "line": {
            "color": "#2a3f5f"
           }
          },
          "ternary": {
           "aaxis": {
            "gridcolor": "white",
            "linecolor": "white",
            "ticks": ""
           },
           "baxis": {
            "gridcolor": "white",
            "linecolor": "white",
            "ticks": ""
           },
           "bgcolor": "#E5ECF6",
           "caxis": {
            "gridcolor": "white",
            "linecolor": "white",
            "ticks": ""
           }
          },
          "title": {
           "x": 0.05
          },
          "xaxis": {
           "automargin": true,
           "gridcolor": "white",
           "linecolor": "white",
           "ticks": "",
           "title": {
            "standoff": 15
           },
           "zerolinecolor": "white",
           "zerolinewidth": 2
          },
          "yaxis": {
           "automargin": true,
           "gridcolor": "white",
           "linecolor": "white",
           "ticks": "",
           "title": {
            "standoff": 15
           },
           "zerolinecolor": "white",
           "zerolinewidth": 2
          }
         }
        },
        "title": "SPICE Generated and Manually Calculated Data [RECT]"
       }
      },
      "text/html": [
       "<div\n",
       "    class=\"webio-mountpoint\"\n",
       "    data-webio-mountpoint=\"3373644437770640715\"\n",
       ">\n",
       "    <script>\n",
       "    (function(){\n",
       "    // Some integrations (namely, IJulia/Jupyter) use an alternate render pathway than\n",
       "    // just putting the html on the page. If WebIO isn't defined, then it's pretty likely\n",
       "    // that we're in one of those situations and the integration just isn't installed\n",
       "    // correctly.\n",
       "    if (typeof window.WebIO === \"undefined\") {\n",
       "        document\n",
       "            .querySelector('[data-webio-mountpoint=\"3373644437770640715\"]')\n",
       "            .innerHTML = (\n",
       "                '<div style=\"padding: 1em; background-color: #f8d6da; border: 1px solid #f5c6cb; font-weight: bold;\">' +\n",
       "                '<p><strong>WebIO not detected.</strong></p>' +\n",
       "                '<p>Please read ' +\n",
       "                '<a href=\"https://juliagizmos.github.io/WebIO.jl/latest/troubleshooting/not-detected/\" target=\"_blank\">the troubleshooting guide</a> ' +\n",
       "                'for more information on how to resolve this issue.</p>' +\n",
       "                '<p><a href=\"https://juliagizmos.github.io/WebIO.jl/latest/troubleshooting/not-detected/\" target=\"_blank\">https://juliagizmos.github.io/WebIO.jl/latest/troubleshooting/not-detected/</a></p>' +\n",
       "                '</div>'\n",
       "            );\n",
       "        return;\n",
       "    }\n",
       "    WebIO.mount(\n",
       "        document.querySelector('[data-webio-mountpoint=\"3373644437770640715\"]'),\n",
       "        {\"props\":{},\"nodeType\":\"Scope\",\"type\":\"node\",\"instanceArgs\":{\"imports\":{\"data\":[{\"name\":\"Plotly\",\"type\":\"js\",\"url\":\"\\/assetserver\\/f3d9a6d0f5c080ffb47e8c9e300eab67a4d73b47-plotly.min.js\"},{\"name\":null,\"type\":\"js\",\"url\":\"\\/assetserver\\/d998e844b98f7bce67f9032fc7613a9df077d1c2-plotly_webio.bundle.js\"}],\"type\":\"async_block\"},\"id\":\"14584138583364850103\",\"handlers\":{\"_toImage\":[\"(function (options){return this.Plotly.toImage(this.plotElem,options).then((function (data){return WebIO.setval({\\\"name\\\":\\\"image\\\",\\\"scope\\\":\\\"14584138583364850103\\\",\\\"id\\\":\\\"16898194759118820497\\\",\\\"type\\\":\\\"observable\\\"},data)}))})\"],\"__get_gd_contents\":[\"(function (prop){prop==\\\"data\\\" ? (WebIO.setval({\\\"name\\\":\\\"__gd_contents\\\",\\\"scope\\\":\\\"14584138583364850103\\\",\\\"id\\\":\\\"8210175567585140178\\\",\\\"type\\\":\\\"observable\\\"},this.plotElem.data)) : undefined; return prop==\\\"layout\\\" ? (WebIO.setval({\\\"name\\\":\\\"__gd_contents\\\",\\\"scope\\\":\\\"14584138583364850103\\\",\\\"id\\\":\\\"8210175567585140178\\\",\\\"type\\\":\\\"observable\\\"},this.plotElem.layout)) : undefined})\"],\"_downloadImage\":[\"(function (options){return this.Plotly.downloadImage(this.plotElem,options)})\"],\"_commands\":[\"(function (args){var fn=args.shift(); var elem=this.plotElem; var Plotly=this.Plotly; args.unshift(elem); return Plotly[fn].apply(this,args)})\"]},\"systemjs_options\":null,\"mount_callbacks\":[\"function () {\\n    var handler = ((function (Plotly,PlotlyWebIO){PlotlyWebIO.init(WebIO); var gd=this.dom.querySelector(\\\"#plot-a2f7e3ae-d053-4009-8019-b28d9a3bd5d4\\\"); this.plotElem=gd; this.Plotly=Plotly; (window.Blink!==undefined) ? (gd.style.width=\\\"100%\\\", gd.style.height=\\\"100vh\\\", gd.style.marginLeft=\\\"0%\\\", gd.style.marginTop=\\\"0vh\\\") : undefined; window.onresize=(function (){return Plotly.Plots.resize(gd)}); Plotly.newPlot(gd,[{\\\"marker\\\":{\\\"color\\\":\\\"green\\\"},\\\"mode\\\":\\\"markers\\\",\\\"y\\\":[-6.611895710648166e10,2.361511132284366e10,-1.5024645229559686e11,1.0502836472766489e11,-4.76188208773588e11,-5.359721883474714e11,-1.734871437355803e11,3.9389412967427104e12],\\\"type\\\":\\\"scatter\\\",\\\"name\\\":\\\"SPICE\\\",\\\"text\\\":[\\\"Mercury\\\",\\\"Venus\\\",\\\"Earth\\\",\\\"Mars\\\",\\\"Jupiter\\\",\\\"Saturn\\\",\\\"Uranus\\\",\\\"Neptune\\\"],\\\"x\\\":[1.491109180597833e10,-1.0479478927783182e11,2.356111831566819e10,-2.258973892228334e11,-6.590990138596561e11,1.350310213832938e12,-2.732305452180727e12,2.0899799612170737e12]},{\\\"marker\\\":{\\\"color\\\":\\\"red\\\"},\\\"mode\\\":\\\"markers\\\",\\\"y\\\":[-6.699841068903266e10,2.521695677922033e10,1.503203844265847e11,1.0381823597893343e11,-4.835538937561281e11,-5.2963584366000525e11,-2.1081345122349985e11,3.964818901119296e12],\\\"type\\\":\\\"scatter\\\",\\\"name\\\":\\\"CALCULATION\\\",\\\"text\\\":[\\\"Mercury\\\",\\\"Venus\\\",\\\"Earth\\\",\\\"Mars\\\",\\\"Jupiter\\\",\\\"Saturn\\\",\\\"Uranus\\\",\\\"Neptune\\\"],\\\"x\\\":[1.2499734217532415e10,-1.0441168367336723e11,-2.3092590417153496e10,-2.2644631320195752e11,-6.536877218309825e11,1.359395345653734e12,-2.728070178804196e12,2.0377162751637979e12]}],{\\\"template\\\":{\\\"layout\\\":{\\\"coloraxis\\\":{\\\"colorbar\\\":{\\\"ticks\\\":\\\"\\\",\\\"outlinewidth\\\":0}},\\\"xaxis\\\":{\\\"gridcolor\\\":\\\"white\\\",\\\"zerolinewidth\\\":2,\\\"title\\\":{\\\"standoff\\\":15},\\\"ticks\\\":\\\"\\\",\\\"zerolinecolor\\\":\\\"white\\\",\\\"automargin\\\":true,\\\"linecolor\\\":\\\"white\\\"},\\\"hovermode\\\":\\\"closest\\\",\\\"paper_bgcolor\\\":\\\"white\\\",\\\"geo\\\":{\\\"showlakes\\\":true,\\\"showland\\\":true,\\\"landcolor\\\":\\\"#E5ECF6\\\",\\\"bgcolor\\\":\\\"white\\\",\\\"subunitcolor\\\":\\\"white\\\",\\\"lakecolor\\\":\\\"white\\\"},\\\"colorscale\\\":{\\\"sequential\\\":[[0.0,\\\"#0d0887\\\"],[0.1111111111111111,\\\"#46039f\\\"],[0.2222222222222222,\\\"#7201a8\\\"],[0.3333333333333333,\\\"#9c179e\\\"],[0.4444444444444444,\\\"#bd3786\\\"],[0.5555555555555556,\\\"#d8576b\\\"],[0.6666666666666666,\\\"#ed7953\\\"],[0.7777777777777778,\\\"#fb9f3a\\\"],[0.8888888888888888,\\\"#fdca26\\\"],[1.0,\\\"#f0f921\\\"]],\\\"diverging\\\":[[0,\\\"#8e0152\\\"],[0.1,\\\"#c51b7d\\\"],[0.2,\\\"#de77ae\\\"],[0.3,\\\"#f1b6da\\\"],[0.4,\\\"#fde0ef\\\"],[0.5,\\\"#f7f7f7\\\"],[0.6,\\\"#e6f5d0\\\"],[0.7,\\\"#b8e186\\\"],[0.8,\\\"#7fbc41\\\"],[0.9,\\\"#4d9221\\\"],[1,\\\"#276419\\\"]],\\\"sequentialminus\\\":[[0.0,\\\"#0d0887\\\"],[0.1111111111111111,\\\"#46039f\\\"],[0.2222222222222222,\\\"#7201a8\\\"],[0.3333333333333333,\\\"#9c179e\\\"],[0.4444444444444444,\\\"#bd3786\\\"],[0.5555555555555556,\\\"#d8576b\\\"],[0.6666666666666666,\\\"#ed7953\\\"],[0.7777777777777778,\\\"#fb9f3a\\\"],[0.8888888888888888,\\\"#fdca26\\\"],[1.0,\\\"#f0f921\\\"]]},\\\"yaxis\\\":{\\\"gridcolor\\\":\\\"white\\\",\\\"zerolinewidth\\\":2,\\\"title\\\":{\\\"standoff\\\":15},\\\"ticks\\\":\\\"\\\",\\\"zerolinecolor\\\":\\\"white\\\",\\\"automargin\\\":true,\\\"linecolor\\\":\\\"white\\\"},\\\"shapedefaults\\\":{\\\"line\\\":{\\\"color\\\":\\\"#2a3f5f\\\"}},\\\"hoverlabel\\\":{\\\"align\\\":\\\"left\\\"},\\\"mapbox\\\":{\\\"style\\\":\\\"light\\\"},\\\"polar\\\":{\\\"angularaxis\\\":{\\\"gridcolor\\\":\\\"white\\\",\\\"ticks\\\":\\\"\\\",\\\"linecolor\\\":\\\"white\\\"},\\\"bgcolor\\\":\\\"#E5ECF6\\\",\\\"radialaxis\\\":{\\\"gridcolor\\\":\\\"white\\\",\\\"ticks\\\":\\\"\\\",\\\"linecolor\\\":\\\"white\\\"}},\\\"autotypenumbers\\\":\\\"strict\\\",\\\"font\\\":{\\\"color\\\":\\\"#2a3f5f\\\"},\\\"ternary\\\":{\\\"baxis\\\":{\\\"gridcolor\\\":\\\"white\\\",\\\"ticks\\\":\\\"\\\",\\\"linecolor\\\":\\\"white\\\"},\\\"bgcolor\\\":\\\"#E5ECF6\\\",\\\"caxis\\\":{\\\"gridcolor\\\":\\\"white\\\",\\\"ticks\\\":\\\"\\\",\\\"linecolor\\\":\\\"white\\\"},\\\"aaxis\\\":{\\\"gridcolor\\\":\\\"white\\\",\\\"ticks\\\":\\\"\\\",\\\"linecolor\\\":\\\"white\\\"}},\\\"annotationdefaults\\\":{\\\"arrowhead\\\":0,\\\"arrowwidth\\\":1,\\\"arrowcolor\\\":\\\"#2a3f5f\\\"},\\\"plot_bgcolor\\\":\\\"#E5ECF6\\\",\\\"title\\\":{\\\"x\\\":0.05},\\\"scene\\\":{\\\"xaxis\\\":{\\\"gridcolor\\\":\\\"white\\\",\\\"gridwidth\\\":2,\\\"backgroundcolor\\\":\\\"#E5ECF6\\\",\\\"ticks\\\":\\\"\\\",\\\"showbackground\\\":true,\\\"zerolinecolor\\\":\\\"white\\\",\\\"linecolor\\\":\\\"white\\\"},\\\"zaxis\\\":{\\\"gridcolor\\\":\\\"white\\\",\\\"gridwidth\\\":2,\\\"backgroundcolor\\\":\\\"#E5ECF6\\\",\\\"ticks\\\":\\\"\\\",\\\"showbackground\\\":true,\\\"zerolinecolor\\\":\\\"white\\\",\\\"linecolor\\\":\\\"white\\\"},\\\"yaxis\\\":{\\\"gridcolor\\\":\\\"white\\\",\\\"gridwidth\\\":2,\\\"backgroundcolor\\\":\\\"#E5ECF6\\\",\\\"ticks\\\":\\\"\\\",\\\"showbackground\\\":true,\\\"zerolinecolor\\\":\\\"white\\\",\\\"linecolor\\\":\\\"white\\\"}},\\\"colorway\\\":[\\\"#636efa\\\",\\\"#EF553B\\\",\\\"#00cc96\\\",\\\"#ab63fa\\\",\\\"#FFA15A\\\",\\\"#19d3f3\\\",\\\"#FF6692\\\",\\\"#B6E880\\\",\\\"#FF97FF\\\",\\\"#FECB52\\\"]},\\\"data\\\":{\\\"barpolar\\\":[{\\\"type\\\":\\\"barpolar\\\",\\\"marker\\\":{\\\"line\\\":{\\\"color\\\":\\\"#E5ECF6\\\",\\\"width\\\":0.5}}}],\\\"carpet\\\":[{\\\"aaxis\\\":{\\\"gridcolor\\\":\\\"white\\\",\\\"endlinecolor\\\":\\\"#2a3f5f\\\",\\\"minorgridcolor\\\":\\\"white\\\",\\\"startlinecolor\\\":\\\"#2a3f5f\\\",\\\"linecolor\\\":\\\"white\\\"},\\\"type\\\":\\\"carpet\\\",\\\"baxis\\\":{\\\"gridcolor\\\":\\\"white\\\",\\\"endlinecolor\\\":\\\"#2a3f5f\\\",\\\"minorgridcolor\\\":\\\"white\\\",\\\"startlinecolor\\\":\\\"#2a3f5f\\\",\\\"linecolor\\\":\\\"white\\\"}}],\\\"scatterpolar\\\":[{\\\"type\\\":\\\"scatterpolar\\\",\\\"marker\\\":{\\\"colorbar\\\":{\\\"ticks\\\":\\\"\\\",\\\"outlinewidth\\\":0}}}],\\\"parcoords\\\":[{\\\"line\\\":{\\\"colorbar\\\":{\\\"ticks\\\":\\\"\\\",\\\"outlinewidth\\\":0}},\\\"type\\\":\\\"parcoords\\\"}],\\\"scatter\\\":[{\\\"type\\\":\\\"scatter\\\",\\\"marker\\\":{\\\"colorbar\\\":{\\\"ticks\\\":\\\"\\\",\\\"outlinewidth\\\":0}}}],\\\"histogram2dcontour\\\":[{\\\"colorbar\\\":{\\\"ticks\\\":\\\"\\\",\\\"outlinewidth\\\":0},\\\"type\\\":\\\"histogram2dcontour\\\",\\\"colorscale\\\":[[0.0,\\\"#0d0887\\\"],[0.1111111111111111,\\\"#46039f\\\"],[0.2222222222222222,\\\"#7201a8\\\"],[0.3333333333333333,\\\"#9c179e\\\"],[0.4444444444444444,\\\"#bd3786\\\"],[0.5555555555555556,\\\"#d8576b\\\"],[0.6666666666666666,\\\"#ed7953\\\"],[0.7777777777777778,\\\"#fb9f3a\\\"],[0.8888888888888888,\\\"#fdca26\\\"],[1.0,\\\"#f0f921\\\"]]}],\\\"contour\\\":[{\\\"colorbar\\\":{\\\"ticks\\\":\\\"\\\",\\\"outlinewidth\\\":0},\\\"type\\\":\\\"contour\\\",\\\"colorscale\\\":[[0.0,\\\"#0d0887\\\"],[0.1111111111111111,\\\"#46039f\\\"],[0.2222222222222222,\\\"#7201a8\\\"],[0.3333333333333333,\\\"#9c179e\\\"],[0.4444444444444444,\\\"#bd3786\\\"],[0.5555555555555556,\\\"#d8576b\\\"],[0.6666666666666666,\\\"#ed7953\\\"],[0.7777777777777778,\\\"#fb9f3a\\\"],[0.8888888888888888,\\\"#fdca26\\\"],[1.0,\\\"#f0f921\\\"]]}],\\\"scattercarpet\\\":[{\\\"type\\\":\\\"scattercarpet\\\",\\\"marker\\\":{\\\"colorbar\\\":{\\\"ticks\\\":\\\"\\\",\\\"outlinewidth\\\":0}}}],\\\"mesh3d\\\":[{\\\"colorbar\\\":{\\\"ticks\\\":\\\"\\\",\\\"outlinewidth\\\":0},\\\"type\\\":\\\"mesh3d\\\"}],\\\"surface\\\":[{\\\"colorbar\\\":{\\\"ticks\\\":\\\"\\\",\\\"outlinewidth\\\":0},\\\"type\\\":\\\"surface\\\",\\\"colorscale\\\":[[0.0,\\\"#0d0887\\\"],[0.1111111111111111,\\\"#46039f\\\"],[0.2222222222222222,\\\"#7201a8\\\"],[0.3333333333333333,\\\"#9c179e\\\"],[0.4444444444444444,\\\"#bd3786\\\"],[0.5555555555555556,\\\"#d8576b\\\"],[0.6666666666666666,\\\"#ed7953\\\"],[0.7777777777777778,\\\"#fb9f3a\\\"],[0.8888888888888888,\\\"#fdca26\\\"],[1.0,\\\"#f0f921\\\"]]}],\\\"scattermapbox\\\":[{\\\"type\\\":\\\"scattermapbox\\\",\\\"marker\\\":{\\\"colorbar\\\":{\\\"ticks\\\":\\\"\\\",\\\"outlinewidth\\\":0}}}],\\\"scattergeo\\\":[{\\\"type\\\":\\\"scattergeo\\\",\\\"marker\\\":{\\\"colorbar\\\":{\\\"ticks\\\":\\\"\\\",\\\"outlinewidth\\\":0}}}],\\\"histogram\\\":[{\\\"type\\\":\\\"histogram\\\",\\\"marker\\\":{\\\"colorbar\\\":{\\\"ticks\\\":\\\"\\\",\\\"outlinewidth\\\":0}}}],\\\"pie\\\":[{\\\"type\\\":\\\"pie\\\",\\\"automargin\\\":true}],\\\"choropleth\\\":[{\\\"colorbar\\\":{\\\"ticks\\\":\\\"\\\",\\\"outlinewidth\\\":0},\\\"type\\\":\\\"choropleth\\\"}],\\\"heatmapgl\\\":[{\\\"colorbar\\\":{\\\"ticks\\\":\\\"\\\",\\\"outlinewidth\\\":0},\\\"type\\\":\\\"heatmapgl\\\",\\\"colorscale\\\":[[0.0,\\\"#0d0887\\\"],[0.1111111111111111,\\\"#46039f\\\"],[0.2222222222222222,\\\"#7201a8\\\"],[0.3333333333333333,\\\"#9c179e\\\"],[0.4444444444444444,\\\"#bd3786\\\"],[0.5555555555555556,\\\"#d8576b\\\"],[0.6666666666666666,\\\"#ed7953\\\"],[0.7777777777777778,\\\"#fb9f3a\\\"],[0.8888888888888888,\\\"#fdca26\\\"],[1.0,\\\"#f0f921\\\"]]}],\\\"bar\\\":[{\\\"type\\\":\\\"bar\\\",\\\"error_y\\\":{\\\"color\\\":\\\"#2a3f5f\\\"},\\\"error_x\\\":{\\\"color\\\":\\\"#2a3f5f\\\"},\\\"marker\\\":{\\\"line\\\":{\\\"color\\\":\\\"#E5ECF6\\\",\\\"width\\\":0.5}}}],\\\"heatmap\\\":[{\\\"colorbar\\\":{\\\"ticks\\\":\\\"\\\",\\\"outlinewidth\\\":0},\\\"type\\\":\\\"heatmap\\\",\\\"colorscale\\\":[[0.0,\\\"#0d0887\\\"],[0.1111111111111111,\\\"#46039f\\\"],[0.2222222222222222,\\\"#7201a8\\\"],[0.3333333333333333,\\\"#9c179e\\\"],[0.4444444444444444,\\\"#bd3786\\\"],[0.5555555555555556,\\\"#d8576b\\\"],[0.6666666666666666,\\\"#ed7953\\\"],[0.7777777777777778,\\\"#fb9f3a\\\"],[0.8888888888888888,\\\"#fdca26\\\"],[1.0,\\\"#f0f921\\\"]]}],\\\"contourcarpet\\\":[{\\\"colorbar\\\":{\\\"ticks\\\":\\\"\\\",\\\"outlinewidth\\\":0},\\\"type\\\":\\\"contourcarpet\\\"}],\\\"table\\\":[{\\\"type\\\":\\\"table\\\",\\\"header\\\":{\\\"line\\\":{\\\"color\\\":\\\"white\\\"},\\\"fill\\\":{\\\"color\\\":\\\"#C8D4E3\\\"}},\\\"cells\\\":{\\\"line\\\":{\\\"color\\\":\\\"white\\\"},\\\"fill\\\":{\\\"color\\\":\\\"#EBF0F8\\\"}}}],\\\"scatter3d\\\":[{\\\"line\\\":{\\\"colorbar\\\":{\\\"ticks\\\":\\\"\\\",\\\"outlinewidth\\\":0}},\\\"type\\\":\\\"scatter3d\\\",\\\"marker\\\":{\\\"colorbar\\\":{\\\"ticks\\\":\\\"\\\",\\\"outlinewidth\\\":0}}}],\\\"scattergl\\\":[{\\\"type\\\":\\\"scattergl\\\",\\\"marker\\\":{\\\"colorbar\\\":{\\\"ticks\\\":\\\"\\\",\\\"outlinewidth\\\":0}}}],\\\"histogram2d\\\":[{\\\"colorbar\\\":{\\\"ticks\\\":\\\"\\\",\\\"outlinewidth\\\":0},\\\"type\\\":\\\"histogram2d\\\",\\\"colorscale\\\":[[0.0,\\\"#0d0887\\\"],[0.1111111111111111,\\\"#46039f\\\"],[0.2222222222222222,\\\"#7201a8\\\"],[0.3333333333333333,\\\"#9c179e\\\"],[0.4444444444444444,\\\"#bd3786\\\"],[0.5555555555555556,\\\"#d8576b\\\"],[0.6666666666666666,\\\"#ed7953\\\"],[0.7777777777777778,\\\"#fb9f3a\\\"],[0.8888888888888888,\\\"#fdca26\\\"],[1.0,\\\"#f0f921\\\"]]}],\\\"scatterternary\\\":[{\\\"type\\\":\\\"scatterternary\\\",\\\"marker\\\":{\\\"colorbar\\\":{\\\"ticks\\\":\\\"\\\",\\\"outlinewidth\\\":0}}}],\\\"scatterpolargl\\\":[{\\\"type\\\":\\\"scatterpolargl\\\",\\\"marker\\\":{\\\"colorbar\\\":{\\\"ticks\\\":\\\"\\\",\\\"outlinewidth\\\":0}}}]}},\\\"margin\\\":{\\\"l\\\":50,\\\"b\\\":50,\\\"r\\\":50,\\\"t\\\":60},\\\"title\\\":\\\"SPICE Generated and Manually Calculated Data [RECT]\\\"},{\\\"showLink\\\":false,\\\"editable\\\":false,\\\"responsive\\\":true,\\\"staticPlot\\\":false,\\\"scrollZoom\\\":true}); gd.on(\\\"plotly_hover\\\",(function (data){var filtered_data=WebIO.PlotlyCommands.filterEventData(gd,data,\\\"hover\\\"); return !(filtered_data.isnil) ? (WebIO.setval({\\\"name\\\":\\\"hover\\\",\\\"scope\\\":\\\"14584138583364850103\\\",\\\"id\\\":\\\"6555929399061301470\\\",\\\"type\\\":\\\"observable\\\"},filtered_data.out)) : undefined})); gd.on(\\\"plotly_unhover\\\",(function (){return WebIO.setval({\\\"name\\\":\\\"hover\\\",\\\"scope\\\":\\\"14584138583364850103\\\",\\\"id\\\":\\\"6555929399061301470\\\",\\\"type\\\":\\\"observable\\\"},{})})); gd.on(\\\"plotly_selected\\\",(function (data){var filtered_data=WebIO.PlotlyCommands.filterEventData(gd,data,\\\"selected\\\"); return !(filtered_data.isnil) ? (WebIO.setval({\\\"name\\\":\\\"selected\\\",\\\"scope\\\":\\\"14584138583364850103\\\",\\\"id\\\":\\\"14870369098757072406\\\",\\\"type\\\":\\\"observable\\\"},filtered_data.out)) : undefined})); gd.on(\\\"plotly_deselect\\\",(function (){return WebIO.setval({\\\"name\\\":\\\"selected\\\",\\\"scope\\\":\\\"14584138583364850103\\\",\\\"id\\\":\\\"14870369098757072406\\\",\\\"type\\\":\\\"observable\\\"},{})})); gd.on(\\\"plotly_relayout\\\",(function (data){var filtered_data=WebIO.PlotlyCommands.filterEventData(gd,data,\\\"relayout\\\"); return !(filtered_data.isnil) ? (WebIO.setval({\\\"name\\\":\\\"relayout\\\",\\\"scope\\\":\\\"14584138583364850103\\\",\\\"id\\\":\\\"3450691864643415803\\\",\\\"type\\\":\\\"observable\\\"},filtered_data.out)) : undefined})); return gd.on(\\\"plotly_click\\\",(function (data){var filtered_data=WebIO.PlotlyCommands.filterEventData(gd,data,\\\"click\\\"); return !(filtered_data.isnil) ? (WebIO.setval({\\\"name\\\":\\\"click\\\",\\\"scope\\\":\\\"14584138583364850103\\\",\\\"id\\\":\\\"8768198663349327923\\\",\\\"type\\\":\\\"observable\\\"},filtered_data.out)) : undefined}))}));\\n    (WebIO.importBlock({\\\"data\\\":[{\\\"name\\\":\\\"Plotly\\\",\\\"type\\\":\\\"js\\\",\\\"url\\\":\\\"\\/assetserver\\/f3d9a6d0f5c080ffb47e8c9e300eab67a4d73b47-plotly.min.js\\\"},{\\\"name\\\":null,\\\"type\\\":\\\"js\\\",\\\"url\\\":\\\"\\/assetserver\\/d998e844b98f7bce67f9032fc7613a9df077d1c2-plotly_webio.bundle.js\\\"}],\\\"type\\\":\\\"async_block\\\"})).then((imports) => handler.apply(this, imports));\\n}\\n\"],\"observables\":{\"_toImage\":{\"sync\":true,\"id\":\"2473839183069305450\",\"value\":{}},\"hover\":{\"sync\":false,\"id\":\"6555929399061301470\",\"value\":{}},\"selected\":{\"sync\":false,\"id\":\"14870369098757072406\",\"value\":{}},\"__gd_contents\":{\"sync\":false,\"id\":\"8210175567585140178\",\"value\":{}},\"click\":{\"sync\":false,\"id\":\"8768198663349327923\",\"value\":{}},\"image\":{\"sync\":true,\"id\":\"16898194759118820497\",\"value\":\"\"},\"__get_gd_contents\":{\"sync\":true,\"id\":\"1584462435461000453\",\"value\":\"\"},\"_downloadImage\":{\"sync\":true,\"id\":\"2739620330076786429\",\"value\":{}},\"relayout\":{\"sync\":false,\"id\":\"3450691864643415803\",\"value\":{}},\"_commands\":{\"sync\":true,\"id\":\"15713485507365376442\",\"value\":[]}}},\"children\":[{\"props\":{\"id\":\"plot-a2f7e3ae-d053-4009-8019-b28d9a3bd5d4\"},\"nodeType\":\"DOM\",\"type\":\"node\",\"instanceArgs\":{\"namespace\":\"html\",\"tag\":\"div\"},\"children\":[]}]},\n",
       "        window,\n",
       "    );\n",
       "    })()\n",
       "    </script>\n",
       "</div>\n"
      ],
      "text/plain": [
       "data: [\n",
       "  \"scatter with fields marker, mode, name, text, type, x, and y\",\n",
       "  \"scatter with fields marker, mode, name, text, type, x, and y\"\n",
       "]\n",
       "\n",
       "layout: \"layout with fields margin, template, and title\"\n",
       "\n"
      ]
     },
     "execution_count": 73,
     "metadata": {},
     "output_type": "execute_result"
    }
   ],
   "source": [
    "plot([scatter(dfSPICEPlot, x=:X, y=:Y, marker=attr(color=:green), mode=\"markers\", name=\"SPICE\", text=[\"Mercury\", \"Venus\", \"Earth\", \"Mars\", \"Jupiter\", \"Saturn\", \"Uranus\", \"Neptune\"]), \n",
    "scatter(dfBodiesToPlot, x=:X, y=:Y, marker=attr(color=:red), mode=\"markers\", name=\"CALCULATION\", \n",
    "text=[\"Mercury\", \"Venus\", \"Earth\", \"Mars\", \"Jupiter\", \"Saturn\", \"Uranus\", \"Neptune\"])], Layout(title=\"SPICE Generated and Manually Calculated Data [RECT]\"))"
   ]
  },
  {
   "cell_type": "code",
   "execution_count": 68,
   "metadata": {},
   "outputs": [],
   "source": [
    "mergedDataEarthSolve = copy(mergedData)\n",
    "delete!(mergedDataEarthSolve, 3:16)\n",
    ";"
   ]
  },
  {
   "cell_type": "code",
   "execution_count": 69,
   "metadata": {},
   "outputs": [
    {
     "name": "stdout",
     "output_type": "stream",
     "text": [
      "\u001b[1m2×15 DataFrame\u001b[0m\n",
      "\u001b[1m Row \u001b[0m│\u001b[1m PLANET      \u001b[0m\u001b[1m Ω       \u001b[0m\u001b[1m i          \u001b[0m\u001b[1m ω       \u001b[0m\u001b[1m e         \u001b[0m\u001b[1m a          \u001b[0m\u001b[1m M       \u001b[0m\u001b[1m ν       \u001b[0m\u001b[1m R          \u001b[0m\u001b[1m X           \u001b[0m\u001b[1m Y           \u001b[0m\u001b[1m Z         \u001b[0m\u001b[1m ℓ        \u001b[0m\u001b[1m ℓ_corr   \u001b[0m\u001b[1m b          \u001b[0m\n",
      "\u001b[1m     \u001b[0m│\u001b[90m String      \u001b[0m\u001b[90m Float64 \u001b[0m\u001b[90m Float64    \u001b[0m\u001b[90m Float64 \u001b[0m\u001b[90m Float64   \u001b[0m\u001b[90m Float64    \u001b[0m\u001b[90m Float64 \u001b[0m\u001b[90m Float64 \u001b[0m\u001b[90m Float64    \u001b[0m\u001b[90m Float64     \u001b[0m\u001b[90m Float64     \u001b[0m\u001b[90m Float64   \u001b[0m\u001b[90m Float64  \u001b[0m\u001b[90m Float64  \u001b[0m\u001b[90m Float64    \u001b[0m\n",
      "─────┼─────────────────────────────────────────────────────────────────────────────────────────────────────────────────────────────────────────────────────────────────────\n",
      "   1 │ Earth_CALC     0.0    0.0         283.861  0.0166865  1.49598e11  174.7    174.873  1.52084e11  -2.30926e10   1.5032e11   0.0         98.7336   98.7336  0.0\n",
      "   2 │ Earth_SPICE  180.378  0.00672579  282.446  0.0175129  1.52083e11  175.949  176.088  1.51715e11   2.35611e10  -1.50246e11  1.76549e7  -81.0645  278.936   0.00665092"
     ]
    }
   ],
   "source": [
    "show(mergedDataEarthSolve, allcols=true)"
   ]
  },
  {
   "cell_type": "code",
   "execution_count": 82,
   "metadata": {},
   "outputs": [
    {
     "name": "stdout",
     "output_type": "stream",
     "text": [
      "\u001b[1m8×16 DataFrame\u001b[0m\n",
      "\u001b[1m Row \u001b[0m│\u001b[1m PLANET  \u001b[0m\u001b[1m Ω        \u001b[0m\u001b[1m i        \u001b[0m\u001b[1m ω        \u001b[0m\u001b[1m e          \u001b[0m\u001b[1m a          \u001b[0m\u001b[1m M        \u001b[0m\u001b[1m E        \u001b[0m\u001b[1m ν        \u001b[0m\u001b[1m R          \u001b[0m\u001b[1m X           \u001b[0m\u001b[1m Y           \u001b[0m\u001b[1m Z           \u001b[0m\u001b[1m ℓ         \u001b[0m\u001b[1m ℓ_corr   \u001b[0m\u001b[1m b         \u001b[0m\n",
      "\u001b[1m     \u001b[0m│\u001b[90m String  \u001b[0m\u001b[90m Float64  \u001b[0m\u001b[90m Float64  \u001b[0m\u001b[90m Float64  \u001b[0m\u001b[90m Float64    \u001b[0m\u001b[90m Float64    \u001b[0m\u001b[90m Float64  \u001b[0m\u001b[90m Float64  \u001b[0m\u001b[90m Float64  \u001b[0m\u001b[90m Float64    \u001b[0m\u001b[90m Float64     \u001b[0m\u001b[90m Float64     \u001b[0m\u001b[90m Float64     \u001b[0m\u001b[90m Float64   \u001b[0m\u001b[90m Float64  \u001b[0m\u001b[90m Float64   \u001b[0m\n",
      "─────┼────────────────────────────────────────────────────────────────────────────────────────────────────────────────────────────────────────────────────────────────────────────────\n",
      "   1 │ Mercury   48.9655  7.00568    29.3223  0.205646    5.7909e10   212.971   207.525   202.489   6.84698e10   1.24997e10  -6.69984e10  -6.56379e9    -79.432   280.568   -5.50105\n",
      "   2 │ Venus     77.1617  3.39514    55.1614  0.00674756  1.08209e11   33.6687   33.8843   34.1004  1.07602e11  -1.04412e11   2.5217e10    6.37187e9    166.422   166.422    3.39486\n",
      "   3 │ Earth      0.0     0.0       283.861   0.0166865   1.49598e11  174.7     174.787   174.873   1.52084e11  -2.30926e10   1.5032e11    0.0           98.7336   98.7336   0.0\n",
      "   4 │ Mars      49.9699  1.84935   287.074   0.0934542   2.2794e11   177.981   178.153   178.319   2.49231e11  -2.26446e11   1.03818e11   7.75461e9    155.37    155.37     1.78299\n",
      "   5 │ Jupiter  100.995   1.29996   274.199   0.0485853   7.78292e11  203.384   202.326   201.291   8.13271e11  -6.53688e11  -4.83554e11   1.66543e10  -143.508   216.492    1.1734\n",
      "   6 │ Saturn   114.13    2.48649   339.976   0.0553604   1.42937e12  250.468   247.537   244.635   1.45961e12   1.3594e12   -5.29636e11  -4.44706e10   -21.2865  338.714   -1.74593\n",
      "   7 │ Uranus    74.2736  0.773671   97.2584  0.0474636   2.8695e12    11.713    12.292    12.885   2.73642e12  -2.72807e12  -2.10813e11   3.4689e10   -175.581   184.419    0.726346\n",
      "   8 │ Neptune  132.37    1.76502   272.728   0.00864801  4.49675e12   17.3924   17.5418   17.6917  4.45967e12   2.03772e12   3.96482e12  -1.28728e11    62.7991   62.7991  -1.65407"
     ]
    }
   ],
   "source": [
    "cleanTable = DataFrame(dfBodiesCopy)\n",
    "\n",
    "show(cleanTable, allcols=true)"
   ]
  },
  {
   "cell_type": "code",
   "execution_count": null,
   "metadata": {},
   "outputs": [],
   "source": []
  }
 ],
 "metadata": {
  "kernelspec": {
   "display_name": "Julia 1.7.3",
   "language": "julia",
   "name": "julia-1.7"
  },
  "language_info": {
   "file_extension": ".jl",
   "mimetype": "application/julia",
   "name": "julia",
   "version": "1.7.3"
  },
  "orig_nbformat": 4
 },
 "nbformat": 4,
 "nbformat_minor": 2
}
