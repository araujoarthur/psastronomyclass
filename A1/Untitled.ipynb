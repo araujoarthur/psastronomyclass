{
 "cells": [
  {
   "cell_type": "markdown",
   "metadata": {},
   "source": [
    "# Assignment #1 - Astronomia de Sistemas Planetários\n",
    "\n",
    "Arthur Araujo Galdino dos Santos\n",
    "\n",
    "Disponível em:"
   ]
  },
  {
   "cell_type": "markdown",
   "metadata": {},
   "source": [
    "#### Packages and Constant Definition"
   ]
  },
  {
   "cell_type": "code",
   "execution_count": 76,
   "metadata": {},
   "outputs": [
    {
     "name": "stderr",
     "output_type": "stream",
     "text": [
      "WARNING: redefinition of constant possibleBodies. This may fail, cause incorrect answers, or produce other errors.\n"
     ]
    },
    {
     "data": {
      "text/plain": [
       "149597870700"
      ]
     },
     "execution_count": 76,
     "metadata": {},
     "output_type": "execute_result"
    }
   ],
   "source": [
    "using DataFrames, PlotlyJS\n",
    "const possibleBodies = [\"Mercury\", \"Venus\", \"Earth\", \"Mars\", \"Jupyter\", \"Saturn\", \"Uranus\", \"Neptune\"]\n",
    "const au = 149597870700\n"
   ]
  },
  {
   "cell_type": "markdown",
   "metadata": {},
   "source": [
    "#### Functions definition\n",
    "\n",
    "Orbital Element Calculation Functions:"
   ]
  },
  {
   "cell_type": "code",
   "execution_count": 53,
   "metadata": {},
   "outputs": [
    {
     "data": {
      "text/plain": [
       "𝙈 (generic function with 1 method)"
      ]
     },
     "execution_count": 53,
     "metadata": {},
     "output_type": "execute_result"
    }
   ],
   "source": [
    "function Ω(body::String, t::Float64) # \\Omega\n",
    "    if !(body ∈ possibleBodies)\n",
    "        return nothing\n",
    "    elseif body == \"Mercury\"\n",
    "        return 48.3333 + 3.24587E-5 * t\n",
    "    elseif body == \"Venus\"\n",
    "        return 76.6799 + 2.46590E-5 * t\n",
    "    elseif body == \"Earth\"\n",
    "        return 0\n",
    "    elseif body == \"Mars\"\n",
    "        return 49.5574 + 2.11081E-5 * t\n",
    "    elseif body == \"Jupyter\"\n",
    "        return 100.4541 + 2.76854E-5 * t\n",
    "    elseif body == \"Saturn\"\n",
    "        return 113.6634 + 2.38980E-5 * t\n",
    "    elseif body == \"Uranus\"\n",
    "        return 74.0005 + 1.3978E-5 * t\n",
    "    elseif body == \"Neptune\"\n",
    "        return 131.7806 + 3.0173E-5 * t\n",
    "    end\n",
    "end\n",
    "\n",
    "function 𝘪(body::String, t::Float64) # \\isansi\n",
    "    if !(body ∈ possibleBodies)\n",
    "        return nothing\n",
    "    elseif body == \"Mercury\"\n",
    "        return 7.0047 + 5E-8 * t\n",
    "    elseif body == \"Venus\"\n",
    "        return 3.3946 + 2.75E-8 * t\n",
    "    elseif body == \"Earth\"\n",
    "        return 0\n",
    "    elseif body == \"Mars\"\n",
    "        return 1.8497 - 1.78E-8 * t\n",
    "    elseif body == \"Jupyter\"\n",
    "        return 1.3030 - 1.557E-7 * t\n",
    "    elseif body == \"Saturn\"\n",
    "        return 2.4886 - 1.081E-7 * t\n",
    "    elseif body == \"Uranus\"\n",
    "        return 0.7733 + 1.9E-8 * t\n",
    "    elseif body == \"Neptune\"\n",
    "        return 1.7700 - 2.55E-7 * t\n",
    "    end\n",
    "end\n",
    "\n",
    "function ω(body::String, t::Float64) # \\omega\n",
    "    if !(body ∈ possibleBodies)\n",
    "        return nothing\n",
    "    elseif body == \"Mercury\"\n",
    "        return 29.1241 + 1.01444E-5 * t\n",
    "    elseif body == \"Venus\"\n",
    "        return 54.8910 + 1.38374E-5 * t\n",
    "    elseif body == \"Earth\"\n",
    "        return 282.9404 + 4.70935E-5 * t\n",
    "    elseif body == \"Mars\"\n",
    "        return 286.5016 + 2.92961E-5 * t\n",
    "    elseif body == \"Jupyter\"\n",
    "        return 273.8777 + 1.64505E-5 * t\n",
    "    elseif body == \"Saturn\"\n",
    "        return 339.3939 + 2.97661E-5 * t\n",
    "    elseif body == \"Uranus\"\n",
    "        return 96.6612 + 3.0565E-5 * t\n",
    "    elseif body == \"Neptune\"\n",
    "        return 272.8461 - 6.027E-6 * t\n",
    "    end\n",
    "end\n",
    "\n",
    "function 𝒶(body::String, t=0::Float64) # \\scra\n",
    "\n",
    "    if !(body ∈ possibleBodies)\n",
    "        return nothing\n",
    "    elseif body == \"Mercury\"\n",
    "        return 0.387098*au\n",
    "    elseif body == \"Venus\"\n",
    "        return 0.723330*au\n",
    "    elseif body == \"Earth\"\n",
    "        return 1*au\n",
    "    elseif body == \"Mars\"\n",
    "        return 1.523688*au\n",
    "    elseif body == \"Jupyter\"\n",
    "        return 5.20256*au\n",
    "    elseif body == \"Saturn\"\n",
    "        return 9.55475*au\n",
    "    elseif (body == \"Uranus\") && (t ≠ 0)\n",
    "        return (19.18171 - 1.55E-8 * t) * au\n",
    "    elseif (body == \"Neptune\") && (t ≠ 0)\n",
    "        return (30.05826 + 3.313E-8 * t) * au\n",
    "    else\n",
    "        return nothing\n",
    "    end\n",
    "end\n",
    "\n",
    "function 𝐞(body::String, t::Float64) # \\bfe \n",
    "    if !(body ∈ possibleBodies)\n",
    "        return nothing\n",
    "    elseif body == \"Mercury\"\n",
    "        return 0.205635 + 5.59E-10 * t\n",
    "    elseif body == \"Venus\"\n",
    "        return 0.006773 - 1.302E-9 * t\n",
    "    elseif body == \"Earth\"\n",
    "        return 0.016709 - 1.151E-9 * t\n",
    "    elseif body == \"Mars\"\n",
    "        return 0.093405 + 2.516E-9 * t\n",
    "    elseif body == \"Jupyter\"\n",
    "        return 0.048498 + 4.469E-9 * t\n",
    "    elseif body == \"Saturn\"\n",
    "        return 0.055546 - 9.499E-9 * t\n",
    "    elseif body == \"Uranus\"\n",
    "        return 0.047318 + 7.45E-9 * t\n",
    "    elseif body == \"Neptune\"\n",
    "        return 0.008606 + 2.15E-9 * t\n",
    "    end\n",
    "end\n",
    "\n",
    "function 𝙈(body::String, t::Float64) # \\bisansM \n",
    "    if !(body ∈ possibleBodies)\n",
    "        return nothing\n",
    "    elseif body == \"Mercury\"\n",
    "        return 168.6562 + 4.0923344368 * t\n",
    "    elseif body == \"Venus\"\n",
    "        return 48.0052 + 1.6021302244 * t\n",
    "    elseif body == \"Earth\"\n",
    "        return 356.0470 + 0.9856002585 * t\n",
    "    elseif body == \"Mars\"\n",
    "        return 18.6021 + 0.5240207766 * t\n",
    "    elseif body == \"Jupyter\"\n",
    "        return 19.8950 + 0.0830853001 * t\n",
    "    elseif body == \"Saturn\"\n",
    "        return 316.9670 + 0.0334442282 * t\n",
    "    elseif body == \"Uranus\"\n",
    "        return 142.5905 + 0.011725806 * t\n",
    "    elseif body == \"Neptune\"\n",
    "        return 260.2471 + 0.005995147 * t\n",
    "    end\n",
    "end"
   ]
  },
  {
   "cell_type": "markdown",
   "metadata": {},
   "source": [
    "Arc Correction for E and M"
   ]
  },
  {
   "cell_type": "code",
   "execution_count": 65,
   "metadata": {},
   "outputs": [
    {
     "data": {
      "text/plain": [
       "arcCorrection (generic function with 1 method)"
      ]
     },
     "execution_count": 65,
     "metadata": {},
     "output_type": "execute_result"
    }
   ],
   "source": [
    "function arcCorrection(ARC::Float64)\n",
    "    println(\"ARC: \", ARC)\n",
    "    if ARC >= 360.0\n",
    "        println(\"CORR: \", mod(ARC,360.0))\n",
    "        return mod(ARC,360.0)\n",
    "    else\n",
    "        println(\"NOT CORR\")\n",
    "        return ARC\n",
    "    end\n",
    "end"
   ]
  },
  {
   "cell_type": "markdown",
   "metadata": {},
   "source": [
    "Time Function:"
   ]
  },
  {
   "cell_type": "code",
   "execution_count": 55,
   "metadata": {},
   "outputs": [
    {
     "data": {
      "text/plain": [
       "𝘵 (generic function with 1 method)"
      ]
     },
     "execution_count": 55,
     "metadata": {},
     "output_type": "execute_result"
    }
   ],
   "source": [
    "function 𝘵(d::Integer, m::Integer, y::Integer, h::Integer, mm::Integer) # \\isanst\n",
    "    return 367 * y - floor(7*(y + ((m+9)/12) )/4) + floor(275*m/9) + d - 730530 + h/24 + mm/1440\n",
    "end"
   ]
  },
  {
   "cell_type": "markdown",
   "metadata": {},
   "source": [
    "Eccencentric Anomaly and True Anomaly"
   ]
  },
  {
   "cell_type": "code",
   "execution_count": 56,
   "metadata": {},
   "outputs": [
    {
     "data": {
      "text/plain": [
       "ν (generic function with 1 method)"
      ]
     },
     "execution_count": 56,
     "metadata": {},
     "output_type": "execute_result"
    }
   ],
   "source": [
    "function 𝙀(M::Float64, ec::Float64, Ẽ=M::Float64) # \\bisansE\n",
    "    ΔE = (M - Ẽ + (ec * sind(Ẽ)))/(1 - (ec * cosd(Ẽ)))\n",
    "    E = Ẽ + ΔE;\n",
    "\n",
    "    if (ΔE > 5E-6)\n",
    "        return 𝙀(M, ec, E)\n",
    "    else\n",
    "        return E\n",
    "    end\n",
    "end\n",
    "\n",
    "function ν(ec::Float64, E::Float64) # \\nu\n",
    "    return atand(sqrt((1 + ec)/(1 - ec)) * tand(E/2))\n",
    "end"
   ]
  },
  {
   "cell_type": "markdown",
   "metadata": {},
   "source": [
    "Distance from planet to Sun"
   ]
  },
  {
   "cell_type": "code",
   "execution_count": 57,
   "metadata": {},
   "outputs": [
    {
     "data": {
      "text/plain": [
       "r (generic function with 1 method)"
      ]
     },
     "execution_count": 57,
     "metadata": {},
     "output_type": "execute_result"
    }
   ],
   "source": [
    "function r(axis::Float64, ec::Float64, nu::Float64)\n",
    "    return (axis * (1 - (ec^2)))/(1 + (ec * cosd(nu)))\n",
    "end"
   ]
  },
  {
   "cell_type": "markdown",
   "metadata": {},
   "source": [
    "Cartesian Coordinates"
   ]
  },
  {
   "cell_type": "code",
   "execution_count": 63,
   "metadata": {},
   "outputs": [
    {
     "data": {
      "text/plain": [
       "cartesian_z (generic function with 1 method)"
      ]
     },
     "execution_count": 63,
     "metadata": {},
     "output_type": "execute_result"
    }
   ],
   "source": [
    "function cartesian_x(_r::Float64, _Ω::Float64, _ω::Float64, _ν::Float64, _𝘪::Float64)\n",
    "    return _r * ( (cosd(_Ω) * cosd(_ω + _ν)) - (sind(_Ω) * sind(_ω + _ν) * cosd(_𝘪)) )\n",
    "end\n",
    "\n",
    "function cartesian_y(_r::Float64, _Ω::Float64, _ω::Float64, _ν::Float64, _𝘪::Float64)\n",
    "    return _r * ( (sind(_Ω) * cosd(_ω + _ν)) + (cosd(_Ω) * sind(_ω + _ν) * cosd(_𝘪)) )\n",
    "end\n",
    "\n",
    "function cartesian_z(_r::Float64, _ω::Float64, _ν::Float64, _𝘪::Float64)\n",
    "    return _r * sind(_ω + _ν) * sind(_𝘪)\n",
    "end"
   ]
  },
  {
   "cell_type": "markdown",
   "metadata": {},
   "source": [
    "Heliocentric Ecliptic Coordinates"
   ]
  },
  {
   "cell_type": "code",
   "execution_count": 59,
   "metadata": {},
   "outputs": [
    {
     "data": {
      "text/plain": [
       "𝓫 (generic function with 1 method)"
      ]
     },
     "execution_count": 59,
     "metadata": {},
     "output_type": "execute_result"
    }
   ],
   "source": [
    "function ℓ(X::Float64, Y::Float64) # \\ell\n",
    "    return atand(X/Y)\n",
    "end\n",
    "\n",
    "function 𝓫(X::Float64, Y::Float64, Z::Float64) # \\bscrb\n",
    "    return Z/(sqrt((X^2) + (Y^2)))\n",
    "end"
   ]
  },
  {
   "cell_type": "markdown",
   "metadata": {},
   "source": [
    "#### Calculation of time for my date (01/07/2053 00:35)"
   ]
  },
  {
   "cell_type": "code",
   "execution_count": 60,
   "metadata": {},
   "outputs": [
    {
     "data": {
      "text/plain": [
       "19540.024305555555"
      ]
     },
     "execution_count": 60,
     "metadata": {},
     "output_type": "execute_result"
    }
   ],
   "source": [
    "givenTime = 𝘵(1,7,2053, 0, 35)"
   ]
  },
  {
   "cell_type": "markdown",
   "metadata": {},
   "source": [
    "#### Orbital Elements of Mercury"
   ]
  },
  {
   "cell_type": "code",
   "execution_count": 70,
   "metadata": {},
   "outputs": [
    {
     "name": "stdout",
     "output_type": "stream",
     "text": [
      "ARC: 80132.97056153399\n",
      "CORR: 212.9705615339917\n",
      "ARC: 31353.668725441174\n",
      "CORR: 33.66872544117359\n",
      "ARC: 19614.700006651838\n",
      "CORR: 174.7000066518376\n",
      "ARC: 10257.980811380097\n",
      "CORR: 177.9808113800973\n",
      "ARC: 1643.3837833883772\n",
      "CORR: 203.3837833883772\n",
      "ARC: 970.4680319085465\n",
      "CORR: 250.46803190854655\n",
      "ARC: 371.7130342422291\n",
      "CORR: 11.713034242229128\n",
      "ARC: 377.39241809537845\n",
      "CORR: 17.392418095378446\n"
     ]
    }
   ],
   "source": [
    "orbitalElements = Dict()\n",
    "for planet ∈ possibleBodies\n",
    "    orbitalElements[planet] = Dict()\n",
    "    orbitalElements[planet][\"Ω\"] = Float64(Ω(planet, givenTime))\n",
    "    orbitalElements[planet][\"𝘪\"] = Float64(𝘪(planet, givenTime))\n",
    "    orbitalElements[planet][\"ω\"] = Float64(ω(planet, givenTime))\n",
    "    orbitalElements[planet][\"𝒶\"] = Float64(𝒶(planet, givenTime))\n",
    "    orbitalElements[planet][\"𝐞\"] = 𝐞(planet, givenTime)\n",
    "    orbitalElements[planet][\"𝙈\"] = arcCorrection(𝙈(planet, givenTime))\n",
    "    orbitalElements[planet][\"𝙀\"] = 𝙀(orbitalElements[planet][\"𝙈\"], orbitalElements[planet][\"𝐞\"])\n",
    "    orbitalElements[planet][\"ν\"] = ν(orbitalElements[planet][\"𝐞\"], orbitalElements[planet][\"𝙀\"])\n",
    "    orbitalElements[planet][\"r\"] = r(orbitalElements[planet][\"𝒶\"], orbitalElements[planet][\"𝐞\"], orbitalElements[planet][\"ν\"])\n",
    "    orbitalElements[planet][\"X\"] = cartesian_x(orbitalElements[planet][\"r\"], orbitalElements[planet][\"Ω\"], orbitalElements[planet][\"ω\"], orbitalElements[planet][\"ν\"], orbitalElements[planet][\"𝘪\"])\n",
    "    orbitalElements[planet][\"Y\"] = cartesian_y(orbitalElements[planet][\"r\"], orbitalElements[planet][\"Ω\"], orbitalElements[planet][\"ω\"], orbitalElements[planet][\"ν\"], orbitalElements[planet][\"𝘪\"])\n",
    "    orbitalElements[planet][\"Z\"] = cartesian_z(orbitalElements[planet][\"r\"], orbitalElements[planet][\"ω\"], orbitalElements[planet][\"ν\"], orbitalElements[planet][\"𝘪\"])\n",
    "    orbitalElements[planet][\"ℓ\"] = ℓ(orbitalElements[planet][\"X\"], orbitalElements[planet][\"Y\"])\n",
    "    orbitalElements[planet][\"𝓫\"] = 𝓫(orbitalElements[planet][\"X\"], orbitalElements[planet][\"Y\"], orbitalElements[planet][\"Z\"])\n",
    "end\n"
   ]
  },
  {
   "cell_type": "code",
   "execution_count": 72,
   "metadata": {},
   "outputs": [
    {
     "name": "stdout",
     "output_type": "stream",
     "text": [
      "\u001b[1m8×15 DataFrame\u001b[0m\n",
      "\u001b[1m Row \u001b[0m│\u001b[1m PLANET  \u001b[0m\u001b[1m Ω (°)    \u001b[0m\u001b[1m 𝘪 (°)    \u001b[0m\u001b[1m ω (°)    \u001b[0m\u001b[1m 𝒶 (m)      \u001b[0m\u001b[1m 𝐞          \u001b[0m\u001b[1m 𝙈 (°)    \u001b[0m\u001b[1m 𝙀 (°)    \u001b[0m\u001b[1m ν (°)     \u001b[0m\u001b[1m r (m)      \u001b[0m\u001b[1m X (m)       \u001b[0m\u001b[1m Y (m)       \u001b[0m\u001b[1m Z (m)       \u001b[0m\u001b[1m ℓ (°)    \u001b[0m\u001b[1m 𝓫 (°)       \u001b[0m\n",
      "\u001b[1m     \u001b[0m│\u001b[90m String  \u001b[0m\u001b[90m Float64  \u001b[0m\u001b[90m Float64  \u001b[0m\u001b[90m Float64  \u001b[0m\u001b[90m Float64    \u001b[0m\u001b[90m Float64    \u001b[0m\u001b[90m Float64  \u001b[0m\u001b[90m Float64  \u001b[0m\u001b[90m Float64   \u001b[0m\u001b[90m Float64    \u001b[0m\u001b[90m Float64     \u001b[0m\u001b[90m Float64     \u001b[0m\u001b[90m Float64     \u001b[0m\u001b[90m Float64  \u001b[0m\u001b[90m Float64     \u001b[0m\n",
      "─────┼────────────────────────────────────────────────────────────────────────────────────────────────────────────────────────────────────────────────────────────────────────\n",
      "   1 │ Mercury   48.9675  7.00568    29.3223  5.7909e10   0.205646    212.971   212.875   -76.5327   5.29253e10   5.26817e10   1.81325e9   -4.73715e9    88.0287  -0.089867\n",
      "   2 │ Venus     77.1617  3.39514    55.1614  1.08209e11  0.00674756   33.6687   33.6725   16.9437   1.0751e11   -9.22356e10   5.4902e10    6.05889e9   -59.2374   0.0564463\n",
      "   3 │ Earth      0.0     0.0       283.861   1.49598e11  0.0166865   174.7     174.702    87.3946   1.49443e11   1.46569e11   2.91681e10   0.0          78.7448   0.0\n",
      "   4 │ Mars      49.9699  1.84935   287.074   2.2794e11   0.0934542   177.981   177.984    89.0822   2.25612e11   9.13358e10   2.06287e11   2.02596e9    23.8819   0.00898021\n",
      "   5 │ Jupyter  100.995   1.29996   274.199   7.78292e11  0.0485853   203.384   203.365   -78.8576   7.69232e11   3.41214e11  -6.89398e11  -4.61712e9   -26.3329  -0.00600235\n",
      "   6 │ Saturn   114.13    2.48649   339.976   1.42937e12  0.0553604   250.468   250.417   -56.2729   1.38249e12   1.09074e12   8.47453e11  -5.82707e10   52.1546  -0.0421865\n",
      "   7 │ Uranus    74.2736  0.773671   97.2584  2.8695e12   0.0474636    11.713    11.7227    6.14432  2.73401e12  -2.73153e12   1.10781e11   3.59111e10  -87.6776   0.0131361\n",
      "   8 │ Neptune  132.37    1.76502   272.728   4.49675e12  0.00864801   17.3924   17.395     8.77188  4.45831e12   2.62715e12   3.59951e12  -1.34561e11   36.1243  -0.0301959"
     ]
    }
   ],
   "source": [
    "DataTable = DataFrame(PLANET=possibleBodies)\n",
    "DataTable[! ,\"Ω (°)\"] = [orbitalElements[planet][\"Ω\"] for planet in possibleBodies]\n",
    "DataTable[!, \"𝘪 (°)\"]= [orbitalElements[planet][\"𝘪\"] for planet in possibleBodies]\n",
    "DataTable[!, \"ω (°)\"] = [orbitalElements[planet][\"ω\"] for planet in possibleBodies]\n",
    "DataTable[!, \"𝒶 (m)\"] = [orbitalElements[planet][\"𝒶\"] for planet in possibleBodies]\n",
    "DataTable.𝐞 = [orbitalElements[planet][\"𝐞\"] for planet in possibleBodies]\n",
    "DataTable[!, \"𝙈 (°)\"] = [orbitalElements[planet][\"𝙈\"] for planet in possibleBodies]\n",
    "DataTable[!, \"𝙀 (°)\"] = [orbitalElements[planet][\"𝙀\"] for planet in possibleBodies]\n",
    "DataTable[!, \"ν (°)\"] = [orbitalElements[planet][\"ν\"] for planet in possibleBodies]\n",
    "DataTable[!, \"r (m)\"] = [orbitalElements[planet][\"r\"] for planet in possibleBodies]\n",
    "DataTable[!, \"X (m)\"] = [orbitalElements[planet][\"X\"] for planet in possibleBodies]\n",
    "DataTable[!, \"Y (m)\"] = [orbitalElements[planet][\"Y\"] for planet in possibleBodies]\n",
    "DataTable[!, \"Z (m)\"] = [orbitalElements[planet][\"Z\"] for planet in possibleBodies]\n",
    "DataTable[!, \"ℓ (°)\"] = [orbitalElements[planet][\"ℓ\"] for planet in possibleBodies]\n",
    "DataTable[!, \"𝓫 (°)\"] = [orbitalElements[planet][\"𝓫\"] for planet in possibleBodies]\n",
    "\n",
    "show(DataTable, allcols=true)"
   ]
  },
  {
   "cell_type": "markdown",
   "metadata": {},
   "source": [
    "### New DataFrame to Graph in Polar Coordinates\n",
    "\n",
    "Generating dataframe"
   ]
  },
  {
   "cell_type": "code",
   "execution_count": 82,
   "metadata": {},
   "outputs": [
    {
     "data": {
      "text/html": [
       "<div class=\"data-frame\"><p>8 rows × 3 columns</p><table class=\"data-frame\"><thead><tr><th></th><th>PLANET</th><th>RADIUS</th><th>POLARCOORD</th></tr><tr><th></th><th title=\"String\">String</th><th title=\"Int64\">Int64</th><th title=\"Float64\">Float64</th></tr></thead><tbody><tr><th>1</th><td>Mercury</td><td>1</td><td>88.0287</td></tr><tr><th>2</th><td>Venus</td><td>2</td><td>-59.2374</td></tr><tr><th>3</th><td>Earth</td><td>3</td><td>78.7448</td></tr><tr><th>4</th><td>Mars</td><td>4</td><td>23.8819</td></tr><tr><th>5</th><td>Jupyter</td><td>5</td><td>-26.3329</td></tr><tr><th>6</th><td>Saturn</td><td>6</td><td>52.1546</td></tr><tr><th>7</th><td>Uranus</td><td>7</td><td>-87.6776</td></tr><tr><th>8</th><td>Neptune</td><td>8</td><td>36.1243</td></tr></tbody></table></div>"
      ],
      "text/latex": [
       "\\begin{tabular}{r|ccc}\n",
       "\t& PLANET & RADIUS & POLARCOORD\\\\\n",
       "\t\\hline\n",
       "\t& String & Int64 & Float64\\\\\n",
       "\t\\hline\n",
       "\t1 & Mercury & 1 & 88.0287 \\\\\n",
       "\t2 & Venus & 2 & -59.2374 \\\\\n",
       "\t3 & Earth & 3 & 78.7448 \\\\\n",
       "\t4 & Mars & 4 & 23.8819 \\\\\n",
       "\t5 & Jupyter & 5 & -26.3329 \\\\\n",
       "\t6 & Saturn & 6 & 52.1546 \\\\\n",
       "\t7 & Uranus & 7 & -87.6776 \\\\\n",
       "\t8 & Neptune & 8 & 36.1243 \\\\\n",
       "\\end{tabular}\n"
      ],
      "text/plain": [
       "\u001b[1m8×3 DataFrame\u001b[0m\n",
       "\u001b[1m Row \u001b[0m│\u001b[1m PLANET  \u001b[0m\u001b[1m RADIUS \u001b[0m\u001b[1m POLARCOORD \u001b[0m\n",
       "\u001b[1m     \u001b[0m│\u001b[90m String  \u001b[0m\u001b[90m Int64  \u001b[0m\u001b[90m Float64    \u001b[0m\n",
       "─────┼─────────────────────────────\n",
       "   1 │ Mercury       1     88.0287\n",
       "   2 │ Venus         2    -59.2374\n",
       "   3 │ Earth         3     78.7448\n",
       "   4 │ Mars          4     23.8819\n",
       "   5 │ Jupyter       5    -26.3329\n",
       "   6 │ Saturn        6     52.1546\n",
       "   7 │ Uranus        7    -87.6776\n",
       "   8 │ Neptune       8     36.1243"
      ]
     },
     "execution_count": 82,
     "metadata": {},
     "output_type": "execute_result"
    }
   ],
   "source": [
    "graphData = DataFrame(PLANET=possibleBodies, RADIUS=[i for i in 1:length(possibleBodies)], POLARCOORD=DataTable[!, \"ℓ (°)\"])"
   ]
  },
  {
   "cell_type": "markdown",
   "metadata": {},
   "source": [
    "Graphing"
   ]
  },
  {
   "cell_type": "code",
   "execution_count": 83,
   "metadata": {},
   "outputs": [
    {
     "data": {
      "application/vnd.plotly.v1+json": {
       "config": {
        "editable": false,
        "responsive": true,
        "scrollZoom": true,
        "showLink": false,
        "staticPlot": false
       },
       "data": [
        {
         "color": [
          "Mercury",
          "Venus",
          "Earth",
          "Mars",
          "Jupyter",
          "Saturn",
          "Uranus",
          "Neptune"
         ],
         "mode": "markers",
         "r": [
          1,
          2,
          3,
          4,
          5,
          6,
          7,
          8
         ],
         "theta": [
          88.02871457401443,
          -59.23738078915568,
          78.74483542669856,
          23.88186346153678,
          -26.33285739829158,
          52.15455332622952,
          -87.67757277517927,
          36.12429746063261
         ],
         "type": "scatterpolar"
        }
       ],
       "frames": [],
       "layout": {
        "margin": {
         "b": 50,
         "l": 50,
         "r": 50,
         "t": 60
        },
        "template": {
         "data": {
          "bar": [
           {
            "error_x": {
             "color": "#2a3f5f"
            },
            "error_y": {
             "color": "#2a3f5f"
            },
            "marker": {
             "line": {
              "color": "#E5ECF6",
              "width": 0.5
             }
            },
            "type": "bar"
           }
          ],
          "barpolar": [
           {
            "marker": {
             "line": {
              "color": "#E5ECF6",
              "width": 0.5
             }
            },
            "type": "barpolar"
           }
          ],
          "carpet": [
           {
            "aaxis": {
             "endlinecolor": "#2a3f5f",
             "gridcolor": "white",
             "linecolor": "white",
             "minorgridcolor": "white",
             "startlinecolor": "#2a3f5f"
            },
            "baxis": {
             "endlinecolor": "#2a3f5f",
             "gridcolor": "white",
             "linecolor": "white",
             "minorgridcolor": "white",
             "startlinecolor": "#2a3f5f"
            },
            "type": "carpet"
           }
          ],
          "choropleth": [
           {
            "colorbar": {
             "outlinewidth": 0,
             "ticks": ""
            },
            "type": "choropleth"
           }
          ],
          "contour": [
           {
            "colorbar": {
             "outlinewidth": 0,
             "ticks": ""
            },
            "colorscale": [
             [
              0,
              "#0d0887"
             ],
             [
              0.1111111111111111,
              "#46039f"
             ],
             [
              0.2222222222222222,
              "#7201a8"
             ],
             [
              0.3333333333333333,
              "#9c179e"
             ],
             [
              0.4444444444444444,
              "#bd3786"
             ],
             [
              0.5555555555555556,
              "#d8576b"
             ],
             [
              0.6666666666666666,
              "#ed7953"
             ],
             [
              0.7777777777777778,
              "#fb9f3a"
             ],
             [
              0.8888888888888888,
              "#fdca26"
             ],
             [
              1,
              "#f0f921"
             ]
            ],
            "type": "contour"
           }
          ],
          "contourcarpet": [
           {
            "colorbar": {
             "outlinewidth": 0,
             "ticks": ""
            },
            "type": "contourcarpet"
           }
          ],
          "heatmap": [
           {
            "colorbar": {
             "outlinewidth": 0,
             "ticks": ""
            },
            "colorscale": [
             [
              0,
              "#0d0887"
             ],
             [
              0.1111111111111111,
              "#46039f"
             ],
             [
              0.2222222222222222,
              "#7201a8"
             ],
             [
              0.3333333333333333,
              "#9c179e"
             ],
             [
              0.4444444444444444,
              "#bd3786"
             ],
             [
              0.5555555555555556,
              "#d8576b"
             ],
             [
              0.6666666666666666,
              "#ed7953"
             ],
             [
              0.7777777777777778,
              "#fb9f3a"
             ],
             [
              0.8888888888888888,
              "#fdca26"
             ],
             [
              1,
              "#f0f921"
             ]
            ],
            "type": "heatmap"
           }
          ],
          "heatmapgl": [
           {
            "colorbar": {
             "outlinewidth": 0,
             "ticks": ""
            },
            "colorscale": [
             [
              0,
              "#0d0887"
             ],
             [
              0.1111111111111111,
              "#46039f"
             ],
             [
              0.2222222222222222,
              "#7201a8"
             ],
             [
              0.3333333333333333,
              "#9c179e"
             ],
             [
              0.4444444444444444,
              "#bd3786"
             ],
             [
              0.5555555555555556,
              "#d8576b"
             ],
             [
              0.6666666666666666,
              "#ed7953"
             ],
             [
              0.7777777777777778,
              "#fb9f3a"
             ],
             [
              0.8888888888888888,
              "#fdca26"
             ],
             [
              1,
              "#f0f921"
             ]
            ],
            "type": "heatmapgl"
           }
          ],
          "histogram": [
           {
            "marker": {
             "colorbar": {
              "outlinewidth": 0,
              "ticks": ""
             }
            },
            "type": "histogram"
           }
          ],
          "histogram2d": [
           {
            "colorbar": {
             "outlinewidth": 0,
             "ticks": ""
            },
            "colorscale": [
             [
              0,
              "#0d0887"
             ],
             [
              0.1111111111111111,
              "#46039f"
             ],
             [
              0.2222222222222222,
              "#7201a8"
             ],
             [
              0.3333333333333333,
              "#9c179e"
             ],
             [
              0.4444444444444444,
              "#bd3786"
             ],
             [
              0.5555555555555556,
              "#d8576b"
             ],
             [
              0.6666666666666666,
              "#ed7953"
             ],
             [
              0.7777777777777778,
              "#fb9f3a"
             ],
             [
              0.8888888888888888,
              "#fdca26"
             ],
             [
              1,
              "#f0f921"
             ]
            ],
            "type": "histogram2d"
           }
          ],
          "histogram2dcontour": [
           {
            "colorbar": {
             "outlinewidth": 0,
             "ticks": ""
            },
            "colorscale": [
             [
              0,
              "#0d0887"
             ],
             [
              0.1111111111111111,
              "#46039f"
             ],
             [
              0.2222222222222222,
              "#7201a8"
             ],
             [
              0.3333333333333333,
              "#9c179e"
             ],
             [
              0.4444444444444444,
              "#bd3786"
             ],
             [
              0.5555555555555556,
              "#d8576b"
             ],
             [
              0.6666666666666666,
              "#ed7953"
             ],
             [
              0.7777777777777778,
              "#fb9f3a"
             ],
             [
              0.8888888888888888,
              "#fdca26"
             ],
             [
              1,
              "#f0f921"
             ]
            ],
            "type": "histogram2dcontour"
           }
          ],
          "mesh3d": [
           {
            "colorbar": {
             "outlinewidth": 0,
             "ticks": ""
            },
            "type": "mesh3d"
           }
          ],
          "parcoords": [
           {
            "line": {
             "colorbar": {
              "outlinewidth": 0,
              "ticks": ""
             }
            },
            "type": "parcoords"
           }
          ],
          "pie": [
           {
            "automargin": true,
            "type": "pie"
           }
          ],
          "scatter": [
           {
            "marker": {
             "colorbar": {
              "outlinewidth": 0,
              "ticks": ""
             }
            },
            "type": "scatter"
           }
          ],
          "scatter3d": [
           {
            "line": {
             "colorbar": {
              "outlinewidth": 0,
              "ticks": ""
             }
            },
            "marker": {
             "colorbar": {
              "outlinewidth": 0,
              "ticks": ""
             }
            },
            "type": "scatter3d"
           }
          ],
          "scattercarpet": [
           {
            "marker": {
             "colorbar": {
              "outlinewidth": 0,
              "ticks": ""
             }
            },
            "type": "scattercarpet"
           }
          ],
          "scattergeo": [
           {
            "marker": {
             "colorbar": {
              "outlinewidth": 0,
              "ticks": ""
             }
            },
            "type": "scattergeo"
           }
          ],
          "scattergl": [
           {
            "marker": {
             "colorbar": {
              "outlinewidth": 0,
              "ticks": ""
             }
            },
            "type": "scattergl"
           }
          ],
          "scattermapbox": [
           {
            "marker": {
             "colorbar": {
              "outlinewidth": 0,
              "ticks": ""
             }
            },
            "type": "scattermapbox"
           }
          ],
          "scatterpolar": [
           {
            "marker": {
             "colorbar": {
              "outlinewidth": 0,
              "ticks": ""
             }
            },
            "type": "scatterpolar"
           }
          ],
          "scatterpolargl": [
           {
            "marker": {
             "colorbar": {
              "outlinewidth": 0,
              "ticks": ""
             }
            },
            "type": "scatterpolargl"
           }
          ],
          "scatterternary": [
           {
            "marker": {
             "colorbar": {
              "outlinewidth": 0,
              "ticks": ""
             }
            },
            "type": "scatterternary"
           }
          ],
          "surface": [
           {
            "colorbar": {
             "outlinewidth": 0,
             "ticks": ""
            },
            "colorscale": [
             [
              0,
              "#0d0887"
             ],
             [
              0.1111111111111111,
              "#46039f"
             ],
             [
              0.2222222222222222,
              "#7201a8"
             ],
             [
              0.3333333333333333,
              "#9c179e"
             ],
             [
              0.4444444444444444,
              "#bd3786"
             ],
             [
              0.5555555555555556,
              "#d8576b"
             ],
             [
              0.6666666666666666,
              "#ed7953"
             ],
             [
              0.7777777777777778,
              "#fb9f3a"
             ],
             [
              0.8888888888888888,
              "#fdca26"
             ],
             [
              1,
              "#f0f921"
             ]
            ],
            "type": "surface"
           }
          ],
          "table": [
           {
            "cells": {
             "fill": {
              "color": "#EBF0F8"
             },
             "line": {
              "color": "white"
             }
            },
            "header": {
             "fill": {
              "color": "#C8D4E3"
             },
             "line": {
              "color": "white"
             }
            },
            "type": "table"
           }
          ]
         },
         "layout": {
          "annotationdefaults": {
           "arrowcolor": "#2a3f5f",
           "arrowhead": 0,
           "arrowwidth": 1
          },
          "autotypenumbers": "strict",
          "coloraxis": {
           "colorbar": {
            "outlinewidth": 0,
            "ticks": ""
           }
          },
          "colorscale": {
           "diverging": [
            [
             0,
             "#8e0152"
            ],
            [
             0.1,
             "#c51b7d"
            ],
            [
             0.2,
             "#de77ae"
            ],
            [
             0.3,
             "#f1b6da"
            ],
            [
             0.4,
             "#fde0ef"
            ],
            [
             0.5,
             "#f7f7f7"
            ],
            [
             0.6,
             "#e6f5d0"
            ],
            [
             0.7,
             "#b8e186"
            ],
            [
             0.8,
             "#7fbc41"
            ],
            [
             0.9,
             "#4d9221"
            ],
            [
             1,
             "#276419"
            ]
           ],
           "sequential": [
            [
             0,
             "#0d0887"
            ],
            [
             0.1111111111111111,
             "#46039f"
            ],
            [
             0.2222222222222222,
             "#7201a8"
            ],
            [
             0.3333333333333333,
             "#9c179e"
            ],
            [
             0.4444444444444444,
             "#bd3786"
            ],
            [
             0.5555555555555556,
             "#d8576b"
            ],
            [
             0.6666666666666666,
             "#ed7953"
            ],
            [
             0.7777777777777778,
             "#fb9f3a"
            ],
            [
             0.8888888888888888,
             "#fdca26"
            ],
            [
             1,
             "#f0f921"
            ]
           ],
           "sequentialminus": [
            [
             0,
             "#0d0887"
            ],
            [
             0.1111111111111111,
             "#46039f"
            ],
            [
             0.2222222222222222,
             "#7201a8"
            ],
            [
             0.3333333333333333,
             "#9c179e"
            ],
            [
             0.4444444444444444,
             "#bd3786"
            ],
            [
             0.5555555555555556,
             "#d8576b"
            ],
            [
             0.6666666666666666,
             "#ed7953"
            ],
            [
             0.7777777777777778,
             "#fb9f3a"
            ],
            [
             0.8888888888888888,
             "#fdca26"
            ],
            [
             1,
             "#f0f921"
            ]
           ]
          },
          "colorway": [
           "#636efa",
           "#EF553B",
           "#00cc96",
           "#ab63fa",
           "#FFA15A",
           "#19d3f3",
           "#FF6692",
           "#B6E880",
           "#FF97FF",
           "#FECB52"
          ],
          "font": {
           "color": "#2a3f5f"
          },
          "geo": {
           "bgcolor": "white",
           "lakecolor": "white",
           "landcolor": "#E5ECF6",
           "showlakes": true,
           "showland": true,
           "subunitcolor": "white"
          },
          "hoverlabel": {
           "align": "left"
          },
          "hovermode": "closest",
          "mapbox": {
           "style": "light"
          },
          "paper_bgcolor": "white",
          "plot_bgcolor": "#E5ECF6",
          "polar": {
           "angularaxis": {
            "gridcolor": "white",
            "linecolor": "white",
            "ticks": ""
           },
           "bgcolor": "#E5ECF6",
           "radialaxis": {
            "gridcolor": "white",
            "linecolor": "white",
            "ticks": ""
           }
          },
          "scene": {
           "xaxis": {
            "backgroundcolor": "#E5ECF6",
            "gridcolor": "white",
            "gridwidth": 2,
            "linecolor": "white",
            "showbackground": true,
            "ticks": "",
            "zerolinecolor": "white"
           },
           "yaxis": {
            "backgroundcolor": "#E5ECF6",
            "gridcolor": "white",
            "gridwidth": 2,
            "linecolor": "white",
            "showbackground": true,
            "ticks": "",
            "zerolinecolor": "white"
           },
           "zaxis": {
            "backgroundcolor": "#E5ECF6",
            "gridcolor": "white",
            "gridwidth": 2,
            "linecolor": "white",
            "showbackground": true,
            "ticks": "",
            "zerolinecolor": "white"
           }
          },
          "shapedefaults": {
           "line": {
            "color": "#2a3f5f"
           }
          },
          "ternary": {
           "aaxis": {
            "gridcolor": "white",
            "linecolor": "white",
            "ticks": ""
           },
           "baxis": {
            "gridcolor": "white",
            "linecolor": "white",
            "ticks": ""
           },
           "bgcolor": "#E5ECF6",
           "caxis": {
            "gridcolor": "white",
            "linecolor": "white",
            "ticks": ""
           }
          },
          "title": {
           "x": 0.05
          },
          "xaxis": {
           "automargin": true,
           "gridcolor": "white",
           "linecolor": "white",
           "ticks": "",
           "title": {
            "standoff": 15
           },
           "zerolinecolor": "white",
           "zerolinewidth": 2
          },
          "yaxis": {
           "automargin": true,
           "gridcolor": "white",
           "linecolor": "white",
           "ticks": "",
           "title": {
            "standoff": 15
           },
           "zerolinecolor": "white",
           "zerolinewidth": 2
          }
         }
        }
       }
      },
      "text/html": [
       "<div\n",
       "    class=\"webio-mountpoint\"\n",
       "    data-webio-mountpoint=\"17878511048890899965\"\n",
       ">\n",
       "    <script>\n",
       "    (function(){\n",
       "    // Some integrations (namely, IJulia/Jupyter) use an alternate render pathway than\n",
       "    // just putting the html on the page. If WebIO isn't defined, then it's pretty likely\n",
       "    // that we're in one of those situations and the integration just isn't installed\n",
       "    // correctly.\n",
       "    if (typeof window.WebIO === \"undefined\") {\n",
       "        document\n",
       "            .querySelector('[data-webio-mountpoint=\"17878511048890899965\"]')\n",
       "            .innerHTML = (\n",
       "                '<div style=\"padding: 1em; background-color: #f8d6da; border: 1px solid #f5c6cb; font-weight: bold;\">' +\n",
       "                '<p><strong>WebIO not detected.</strong></p>' +\n",
       "                '<p>Please read ' +\n",
       "                '<a href=\"https://juliagizmos.github.io/WebIO.jl/latest/troubleshooting/not-detected/\" target=\"_blank\">the troubleshooting guide</a> ' +\n",
       "                'for more information on how to resolve this issue.</p>' +\n",
       "                '<p><a href=\"https://juliagizmos.github.io/WebIO.jl/latest/troubleshooting/not-detected/\" target=\"_blank\">https://juliagizmos.github.io/WebIO.jl/latest/troubleshooting/not-detected/</a></p>' +\n",
       "                '</div>'\n",
       "            );\n",
       "        return;\n",
       "    }\n",
       "    WebIO.mount(\n",
       "        document.querySelector('[data-webio-mountpoint=\"17878511048890899965\"]'),\n",
       "        {\"props\":{},\"nodeType\":\"Scope\",\"type\":\"node\",\"instanceArgs\":{\"imports\":{\"data\":[{\"name\":\"Plotly\",\"type\":\"js\",\"url\":\"\\/assetserver\\/f3d9a6d0f5c080ffb47e8c9e300eab67a4d73b47-plotly.min.js\"},{\"name\":null,\"type\":\"js\",\"url\":\"\\/assetserver\\/d998e844b98f7bce67f9032fc7613a9df077d1c2-plotly_webio.bundle.js\"}],\"type\":\"async_block\"},\"id\":\"3347548157248388781\",\"handlers\":{\"_toImage\":[\"(function (options){return this.Plotly.toImage(this.plotElem,options).then((function (data){return WebIO.setval({\\\"name\\\":\\\"image\\\",\\\"scope\\\":\\\"3347548157248388781\\\",\\\"id\\\":\\\"8912917787050625026\\\",\\\"type\\\":\\\"observable\\\"},data)}))})\"],\"__get_gd_contents\":[\"(function (prop){prop==\\\"data\\\" ? (WebIO.setval({\\\"name\\\":\\\"__gd_contents\\\",\\\"scope\\\":\\\"3347548157248388781\\\",\\\"id\\\":\\\"3014391941882332357\\\",\\\"type\\\":\\\"observable\\\"},this.plotElem.data)) : undefined; return prop==\\\"layout\\\" ? (WebIO.setval({\\\"name\\\":\\\"__gd_contents\\\",\\\"scope\\\":\\\"3347548157248388781\\\",\\\"id\\\":\\\"3014391941882332357\\\",\\\"type\\\":\\\"observable\\\"},this.plotElem.layout)) : undefined})\"],\"_downloadImage\":[\"(function (options){return this.Plotly.downloadImage(this.plotElem,options)})\"],\"_commands\":[\"(function (args){var fn=args.shift(); var elem=this.plotElem; var Plotly=this.Plotly; args.unshift(elem); return Plotly[fn].apply(this,args)})\"]},\"systemjs_options\":null,\"mount_callbacks\":[\"function () {\\n    var handler = ((function (Plotly,PlotlyWebIO){PlotlyWebIO.init(WebIO); var gd=this.dom.querySelector(\\\"#plot-594214b7-9e35-4654-83a8-208dea34b88e\\\"); this.plotElem=gd; this.Plotly=Plotly; (window.Blink!==undefined) ? (gd.style.width=\\\"100%\\\", gd.style.height=\\\"100vh\\\", gd.style.marginLeft=\\\"0%\\\", gd.style.marginTop=\\\"0vh\\\") : undefined; window.onresize=(function (){return Plotly.Plots.resize(gd)}); Plotly.newPlot(gd,[{\\\"color\\\":[\\\"Mercury\\\",\\\"Venus\\\",\\\"Earth\\\",\\\"Mars\\\",\\\"Jupyter\\\",\\\"Saturn\\\",\\\"Uranus\\\",\\\"Neptune\\\"],\\\"mode\\\":\\\"markers\\\",\\\"type\\\":\\\"scatterpolar\\\",\\\"theta\\\":[88.02871457401443,-59.23738078915568,78.74483542669856,23.88186346153678,-26.33285739829158,52.15455332622952,-87.67757277517927,36.12429746063261],\\\"r\\\":[1,2,3,4,5,6,7,8]}],{\\\"template\\\":{\\\"layout\\\":{\\\"coloraxis\\\":{\\\"colorbar\\\":{\\\"ticks\\\":\\\"\\\",\\\"outlinewidth\\\":0}},\\\"xaxis\\\":{\\\"gridcolor\\\":\\\"white\\\",\\\"zerolinewidth\\\":2,\\\"title\\\":{\\\"standoff\\\":15},\\\"ticks\\\":\\\"\\\",\\\"zerolinecolor\\\":\\\"white\\\",\\\"automargin\\\":true,\\\"linecolor\\\":\\\"white\\\"},\\\"hovermode\\\":\\\"closest\\\",\\\"paper_bgcolor\\\":\\\"white\\\",\\\"geo\\\":{\\\"showlakes\\\":true,\\\"showland\\\":true,\\\"landcolor\\\":\\\"#E5ECF6\\\",\\\"bgcolor\\\":\\\"white\\\",\\\"subunitcolor\\\":\\\"white\\\",\\\"lakecolor\\\":\\\"white\\\"},\\\"colorscale\\\":{\\\"sequential\\\":[[0.0,\\\"#0d0887\\\"],[0.1111111111111111,\\\"#46039f\\\"],[0.2222222222222222,\\\"#7201a8\\\"],[0.3333333333333333,\\\"#9c179e\\\"],[0.4444444444444444,\\\"#bd3786\\\"],[0.5555555555555556,\\\"#d8576b\\\"],[0.6666666666666666,\\\"#ed7953\\\"],[0.7777777777777778,\\\"#fb9f3a\\\"],[0.8888888888888888,\\\"#fdca26\\\"],[1.0,\\\"#f0f921\\\"]],\\\"diverging\\\":[[0,\\\"#8e0152\\\"],[0.1,\\\"#c51b7d\\\"],[0.2,\\\"#de77ae\\\"],[0.3,\\\"#f1b6da\\\"],[0.4,\\\"#fde0ef\\\"],[0.5,\\\"#f7f7f7\\\"],[0.6,\\\"#e6f5d0\\\"],[0.7,\\\"#b8e186\\\"],[0.8,\\\"#7fbc41\\\"],[0.9,\\\"#4d9221\\\"],[1,\\\"#276419\\\"]],\\\"sequentialminus\\\":[[0.0,\\\"#0d0887\\\"],[0.1111111111111111,\\\"#46039f\\\"],[0.2222222222222222,\\\"#7201a8\\\"],[0.3333333333333333,\\\"#9c179e\\\"],[0.4444444444444444,\\\"#bd3786\\\"],[0.5555555555555556,\\\"#d8576b\\\"],[0.6666666666666666,\\\"#ed7953\\\"],[0.7777777777777778,\\\"#fb9f3a\\\"],[0.8888888888888888,\\\"#fdca26\\\"],[1.0,\\\"#f0f921\\\"]]},\\\"yaxis\\\":{\\\"gridcolor\\\":\\\"white\\\",\\\"zerolinewidth\\\":2,\\\"title\\\":{\\\"standoff\\\":15},\\\"ticks\\\":\\\"\\\",\\\"zerolinecolor\\\":\\\"white\\\",\\\"automargin\\\":true,\\\"linecolor\\\":\\\"white\\\"},\\\"shapedefaults\\\":{\\\"line\\\":{\\\"color\\\":\\\"#2a3f5f\\\"}},\\\"hoverlabel\\\":{\\\"align\\\":\\\"left\\\"},\\\"mapbox\\\":{\\\"style\\\":\\\"light\\\"},\\\"polar\\\":{\\\"angularaxis\\\":{\\\"gridcolor\\\":\\\"white\\\",\\\"ticks\\\":\\\"\\\",\\\"linecolor\\\":\\\"white\\\"},\\\"bgcolor\\\":\\\"#E5ECF6\\\",\\\"radialaxis\\\":{\\\"gridcolor\\\":\\\"white\\\",\\\"ticks\\\":\\\"\\\",\\\"linecolor\\\":\\\"white\\\"}},\\\"autotypenumbers\\\":\\\"strict\\\",\\\"font\\\":{\\\"color\\\":\\\"#2a3f5f\\\"},\\\"ternary\\\":{\\\"baxis\\\":{\\\"gridcolor\\\":\\\"white\\\",\\\"ticks\\\":\\\"\\\",\\\"linecolor\\\":\\\"white\\\"},\\\"bgcolor\\\":\\\"#E5ECF6\\\",\\\"caxis\\\":{\\\"gridcolor\\\":\\\"white\\\",\\\"ticks\\\":\\\"\\\",\\\"linecolor\\\":\\\"white\\\"},\\\"aaxis\\\":{\\\"gridcolor\\\":\\\"white\\\",\\\"ticks\\\":\\\"\\\",\\\"linecolor\\\":\\\"white\\\"}},\\\"annotationdefaults\\\":{\\\"arrowhead\\\":0,\\\"arrowwidth\\\":1,\\\"arrowcolor\\\":\\\"#2a3f5f\\\"},\\\"plot_bgcolor\\\":\\\"#E5ECF6\\\",\\\"title\\\":{\\\"x\\\":0.05},\\\"scene\\\":{\\\"xaxis\\\":{\\\"gridcolor\\\":\\\"white\\\",\\\"gridwidth\\\":2,\\\"backgroundcolor\\\":\\\"#E5ECF6\\\",\\\"ticks\\\":\\\"\\\",\\\"showbackground\\\":true,\\\"zerolinecolor\\\":\\\"white\\\",\\\"linecolor\\\":\\\"white\\\"},\\\"zaxis\\\":{\\\"gridcolor\\\":\\\"white\\\",\\\"gridwidth\\\":2,\\\"backgroundcolor\\\":\\\"#E5ECF6\\\",\\\"ticks\\\":\\\"\\\",\\\"showbackground\\\":true,\\\"zerolinecolor\\\":\\\"white\\\",\\\"linecolor\\\":\\\"white\\\"},\\\"yaxis\\\":{\\\"gridcolor\\\":\\\"white\\\",\\\"gridwidth\\\":2,\\\"backgroundcolor\\\":\\\"#E5ECF6\\\",\\\"ticks\\\":\\\"\\\",\\\"showbackground\\\":true,\\\"zerolinecolor\\\":\\\"white\\\",\\\"linecolor\\\":\\\"white\\\"}},\\\"colorway\\\":[\\\"#636efa\\\",\\\"#EF553B\\\",\\\"#00cc96\\\",\\\"#ab63fa\\\",\\\"#FFA15A\\\",\\\"#19d3f3\\\",\\\"#FF6692\\\",\\\"#B6E880\\\",\\\"#FF97FF\\\",\\\"#FECB52\\\"]},\\\"data\\\":{\\\"barpolar\\\":[{\\\"type\\\":\\\"barpolar\\\",\\\"marker\\\":{\\\"line\\\":{\\\"color\\\":\\\"#E5ECF6\\\",\\\"width\\\":0.5}}}],\\\"carpet\\\":[{\\\"aaxis\\\":{\\\"gridcolor\\\":\\\"white\\\",\\\"endlinecolor\\\":\\\"#2a3f5f\\\",\\\"minorgridcolor\\\":\\\"white\\\",\\\"startlinecolor\\\":\\\"#2a3f5f\\\",\\\"linecolor\\\":\\\"white\\\"},\\\"type\\\":\\\"carpet\\\",\\\"baxis\\\":{\\\"gridcolor\\\":\\\"white\\\",\\\"endlinecolor\\\":\\\"#2a3f5f\\\",\\\"minorgridcolor\\\":\\\"white\\\",\\\"startlinecolor\\\":\\\"#2a3f5f\\\",\\\"linecolor\\\":\\\"white\\\"}}],\\\"scatterpolar\\\":[{\\\"type\\\":\\\"scatterpolar\\\",\\\"marker\\\":{\\\"colorbar\\\":{\\\"ticks\\\":\\\"\\\",\\\"outlinewidth\\\":0}}}],\\\"parcoords\\\":[{\\\"line\\\":{\\\"colorbar\\\":{\\\"ticks\\\":\\\"\\\",\\\"outlinewidth\\\":0}},\\\"type\\\":\\\"parcoords\\\"}],\\\"scatter\\\":[{\\\"type\\\":\\\"scatter\\\",\\\"marker\\\":{\\\"colorbar\\\":{\\\"ticks\\\":\\\"\\\",\\\"outlinewidth\\\":0}}}],\\\"histogram2dcontour\\\":[{\\\"colorbar\\\":{\\\"ticks\\\":\\\"\\\",\\\"outlinewidth\\\":0},\\\"type\\\":\\\"histogram2dcontour\\\",\\\"colorscale\\\":[[0.0,\\\"#0d0887\\\"],[0.1111111111111111,\\\"#46039f\\\"],[0.2222222222222222,\\\"#7201a8\\\"],[0.3333333333333333,\\\"#9c179e\\\"],[0.4444444444444444,\\\"#bd3786\\\"],[0.5555555555555556,\\\"#d8576b\\\"],[0.6666666666666666,\\\"#ed7953\\\"],[0.7777777777777778,\\\"#fb9f3a\\\"],[0.8888888888888888,\\\"#fdca26\\\"],[1.0,\\\"#f0f921\\\"]]}],\\\"contour\\\":[{\\\"colorbar\\\":{\\\"ticks\\\":\\\"\\\",\\\"outlinewidth\\\":0},\\\"type\\\":\\\"contour\\\",\\\"colorscale\\\":[[0.0,\\\"#0d0887\\\"],[0.1111111111111111,\\\"#46039f\\\"],[0.2222222222222222,\\\"#7201a8\\\"],[0.3333333333333333,\\\"#9c179e\\\"],[0.4444444444444444,\\\"#bd3786\\\"],[0.5555555555555556,\\\"#d8576b\\\"],[0.6666666666666666,\\\"#ed7953\\\"],[0.7777777777777778,\\\"#fb9f3a\\\"],[0.8888888888888888,\\\"#fdca26\\\"],[1.0,\\\"#f0f921\\\"]]}],\\\"scattercarpet\\\":[{\\\"type\\\":\\\"scattercarpet\\\",\\\"marker\\\":{\\\"colorbar\\\":{\\\"ticks\\\":\\\"\\\",\\\"outlinewidth\\\":0}}}],\\\"mesh3d\\\":[{\\\"colorbar\\\":{\\\"ticks\\\":\\\"\\\",\\\"outlinewidth\\\":0},\\\"type\\\":\\\"mesh3d\\\"}],\\\"surface\\\":[{\\\"colorbar\\\":{\\\"ticks\\\":\\\"\\\",\\\"outlinewidth\\\":0},\\\"type\\\":\\\"surface\\\",\\\"colorscale\\\":[[0.0,\\\"#0d0887\\\"],[0.1111111111111111,\\\"#46039f\\\"],[0.2222222222222222,\\\"#7201a8\\\"],[0.3333333333333333,\\\"#9c179e\\\"],[0.4444444444444444,\\\"#bd3786\\\"],[0.5555555555555556,\\\"#d8576b\\\"],[0.6666666666666666,\\\"#ed7953\\\"],[0.7777777777777778,\\\"#fb9f3a\\\"],[0.8888888888888888,\\\"#fdca26\\\"],[1.0,\\\"#f0f921\\\"]]}],\\\"scattermapbox\\\":[{\\\"type\\\":\\\"scattermapbox\\\",\\\"marker\\\":{\\\"colorbar\\\":{\\\"ticks\\\":\\\"\\\",\\\"outlinewidth\\\":0}}}],\\\"scattergeo\\\":[{\\\"type\\\":\\\"scattergeo\\\",\\\"marker\\\":{\\\"colorbar\\\":{\\\"ticks\\\":\\\"\\\",\\\"outlinewidth\\\":0}}}],\\\"histogram\\\":[{\\\"type\\\":\\\"histogram\\\",\\\"marker\\\":{\\\"colorbar\\\":{\\\"ticks\\\":\\\"\\\",\\\"outlinewidth\\\":0}}}],\\\"pie\\\":[{\\\"type\\\":\\\"pie\\\",\\\"automargin\\\":true}],\\\"choropleth\\\":[{\\\"colorbar\\\":{\\\"ticks\\\":\\\"\\\",\\\"outlinewidth\\\":0},\\\"type\\\":\\\"choropleth\\\"}],\\\"heatmapgl\\\":[{\\\"colorbar\\\":{\\\"ticks\\\":\\\"\\\",\\\"outlinewidth\\\":0},\\\"type\\\":\\\"heatmapgl\\\",\\\"colorscale\\\":[[0.0,\\\"#0d0887\\\"],[0.1111111111111111,\\\"#46039f\\\"],[0.2222222222222222,\\\"#7201a8\\\"],[0.3333333333333333,\\\"#9c179e\\\"],[0.4444444444444444,\\\"#bd3786\\\"],[0.5555555555555556,\\\"#d8576b\\\"],[0.6666666666666666,\\\"#ed7953\\\"],[0.7777777777777778,\\\"#fb9f3a\\\"],[0.8888888888888888,\\\"#fdca26\\\"],[1.0,\\\"#f0f921\\\"]]}],\\\"bar\\\":[{\\\"type\\\":\\\"bar\\\",\\\"error_y\\\":{\\\"color\\\":\\\"#2a3f5f\\\"},\\\"error_x\\\":{\\\"color\\\":\\\"#2a3f5f\\\"},\\\"marker\\\":{\\\"line\\\":{\\\"color\\\":\\\"#E5ECF6\\\",\\\"width\\\":0.5}}}],\\\"heatmap\\\":[{\\\"colorbar\\\":{\\\"ticks\\\":\\\"\\\",\\\"outlinewidth\\\":0},\\\"type\\\":\\\"heatmap\\\",\\\"colorscale\\\":[[0.0,\\\"#0d0887\\\"],[0.1111111111111111,\\\"#46039f\\\"],[0.2222222222222222,\\\"#7201a8\\\"],[0.3333333333333333,\\\"#9c179e\\\"],[0.4444444444444444,\\\"#bd3786\\\"],[0.5555555555555556,\\\"#d8576b\\\"],[0.6666666666666666,\\\"#ed7953\\\"],[0.7777777777777778,\\\"#fb9f3a\\\"],[0.8888888888888888,\\\"#fdca26\\\"],[1.0,\\\"#f0f921\\\"]]}],\\\"contourcarpet\\\":[{\\\"colorbar\\\":{\\\"ticks\\\":\\\"\\\",\\\"outlinewidth\\\":0},\\\"type\\\":\\\"contourcarpet\\\"}],\\\"table\\\":[{\\\"type\\\":\\\"table\\\",\\\"header\\\":{\\\"line\\\":{\\\"color\\\":\\\"white\\\"},\\\"fill\\\":{\\\"color\\\":\\\"#C8D4E3\\\"}},\\\"cells\\\":{\\\"line\\\":{\\\"color\\\":\\\"white\\\"},\\\"fill\\\":{\\\"color\\\":\\\"#EBF0F8\\\"}}}],\\\"scatter3d\\\":[{\\\"line\\\":{\\\"colorbar\\\":{\\\"ticks\\\":\\\"\\\",\\\"outlinewidth\\\":0}},\\\"type\\\":\\\"scatter3d\\\",\\\"marker\\\":{\\\"colorbar\\\":{\\\"ticks\\\":\\\"\\\",\\\"outlinewidth\\\":0}}}],\\\"scattergl\\\":[{\\\"type\\\":\\\"scattergl\\\",\\\"marker\\\":{\\\"colorbar\\\":{\\\"ticks\\\":\\\"\\\",\\\"outlinewidth\\\":0}}}],\\\"histogram2d\\\":[{\\\"colorbar\\\":{\\\"ticks\\\":\\\"\\\",\\\"outlinewidth\\\":0},\\\"type\\\":\\\"histogram2d\\\",\\\"colorscale\\\":[[0.0,\\\"#0d0887\\\"],[0.1111111111111111,\\\"#46039f\\\"],[0.2222222222222222,\\\"#7201a8\\\"],[0.3333333333333333,\\\"#9c179e\\\"],[0.4444444444444444,\\\"#bd3786\\\"],[0.5555555555555556,\\\"#d8576b\\\"],[0.6666666666666666,\\\"#ed7953\\\"],[0.7777777777777778,\\\"#fb9f3a\\\"],[0.8888888888888888,\\\"#fdca26\\\"],[1.0,\\\"#f0f921\\\"]]}],\\\"scatterternary\\\":[{\\\"type\\\":\\\"scatterternary\\\",\\\"marker\\\":{\\\"colorbar\\\":{\\\"ticks\\\":\\\"\\\",\\\"outlinewidth\\\":0}}}],\\\"scatterpolargl\\\":[{\\\"type\\\":\\\"scatterpolargl\\\",\\\"marker\\\":{\\\"colorbar\\\":{\\\"ticks\\\":\\\"\\\",\\\"outlinewidth\\\":0}}}]}},\\\"margin\\\":{\\\"l\\\":50,\\\"b\\\":50,\\\"r\\\":50,\\\"t\\\":60}},{\\\"showLink\\\":false,\\\"editable\\\":false,\\\"responsive\\\":true,\\\"staticPlot\\\":false,\\\"scrollZoom\\\":true}); gd.on(\\\"plotly_hover\\\",(function (data){var filtered_data=WebIO.PlotlyCommands.filterEventData(gd,data,\\\"hover\\\"); return !(filtered_data.isnil) ? (WebIO.setval({\\\"name\\\":\\\"hover\\\",\\\"scope\\\":\\\"3347548157248388781\\\",\\\"id\\\":\\\"3899506024641681040\\\",\\\"type\\\":\\\"observable\\\"},filtered_data.out)) : undefined})); gd.on(\\\"plotly_unhover\\\",(function (){return WebIO.setval({\\\"name\\\":\\\"hover\\\",\\\"scope\\\":\\\"3347548157248388781\\\",\\\"id\\\":\\\"3899506024641681040\\\",\\\"type\\\":\\\"observable\\\"},{})})); gd.on(\\\"plotly_selected\\\",(function (data){var filtered_data=WebIO.PlotlyCommands.filterEventData(gd,data,\\\"selected\\\"); return !(filtered_data.isnil) ? (WebIO.setval({\\\"name\\\":\\\"selected\\\",\\\"scope\\\":\\\"3347548157248388781\\\",\\\"id\\\":\\\"12569942990151908593\\\",\\\"type\\\":\\\"observable\\\"},filtered_data.out)) : undefined})); gd.on(\\\"plotly_deselect\\\",(function (){return WebIO.setval({\\\"name\\\":\\\"selected\\\",\\\"scope\\\":\\\"3347548157248388781\\\",\\\"id\\\":\\\"12569942990151908593\\\",\\\"type\\\":\\\"observable\\\"},{})})); gd.on(\\\"plotly_relayout\\\",(function (data){var filtered_data=WebIO.PlotlyCommands.filterEventData(gd,data,\\\"relayout\\\"); return !(filtered_data.isnil) ? (WebIO.setval({\\\"name\\\":\\\"relayout\\\",\\\"scope\\\":\\\"3347548157248388781\\\",\\\"id\\\":\\\"2241839612597170829\\\",\\\"type\\\":\\\"observable\\\"},filtered_data.out)) : undefined})); return gd.on(\\\"plotly_click\\\",(function (data){var filtered_data=WebIO.PlotlyCommands.filterEventData(gd,data,\\\"click\\\"); return !(filtered_data.isnil) ? (WebIO.setval({\\\"name\\\":\\\"click\\\",\\\"scope\\\":\\\"3347548157248388781\\\",\\\"id\\\":\\\"15053534766107818992\\\",\\\"type\\\":\\\"observable\\\"},filtered_data.out)) : undefined}))}));\\n    (WebIO.importBlock({\\\"data\\\":[{\\\"name\\\":\\\"Plotly\\\",\\\"type\\\":\\\"js\\\",\\\"url\\\":\\\"\\/assetserver\\/f3d9a6d0f5c080ffb47e8c9e300eab67a4d73b47-plotly.min.js\\\"},{\\\"name\\\":null,\\\"type\\\":\\\"js\\\",\\\"url\\\":\\\"\\/assetserver\\/d998e844b98f7bce67f9032fc7613a9df077d1c2-plotly_webio.bundle.js\\\"}],\\\"type\\\":\\\"async_block\\\"})).then((imports) => handler.apply(this, imports));\\n}\\n\"],\"observables\":{\"_toImage\":{\"sync\":true,\"id\":\"6161826870725510997\",\"value\":{}},\"hover\":{\"sync\":false,\"id\":\"3899506024641681040\",\"value\":{}},\"selected\":{\"sync\":false,\"id\":\"12569942990151908593\",\"value\":{}},\"__gd_contents\":{\"sync\":false,\"id\":\"3014391941882332357\",\"value\":{}},\"click\":{\"sync\":false,\"id\":\"15053534766107818992\",\"value\":{}},\"image\":{\"sync\":true,\"id\":\"8912917787050625026\",\"value\":\"\"},\"__get_gd_contents\":{\"sync\":true,\"id\":\"4119072468824125157\",\"value\":\"\"},\"_downloadImage\":{\"sync\":true,\"id\":\"889057127852916640\",\"value\":{}},\"relayout\":{\"sync\":false,\"id\":\"2241839612597170829\",\"value\":{}},\"_commands\":{\"sync\":true,\"id\":\"2973993799452346006\",\"value\":[]}}},\"children\":[{\"props\":{\"id\":\"plot-594214b7-9e35-4654-83a8-208dea34b88e\"},\"nodeType\":\"DOM\",\"type\":\"node\",\"instanceArgs\":{\"namespace\":\"html\",\"tag\":\"div\"},\"children\":[]}]},\n",
       "        window,\n",
       "    );\n",
       "    })()\n",
       "    </script>\n",
       "</div>\n"
      ],
      "text/plain": [
       "data: [\n",
       "  \"scatterpolar with fields color, mode, r, theta, and type\"\n",
       "]\n",
       "\n",
       "layout: \"layout with fields margin and template\"\n",
       "\n"
      ]
     },
     "execution_count": 83,
     "metadata": {},
     "output_type": "execute_result"
    }
   ],
   "source": [
    "plot(scatterpolar(graphData, r=:RADIUS, theta=:POLARCOORD, color=:PLANET, mode=\"markers\"))"
   ]
  },
  {
   "cell_type": "code",
   "execution_count": null,
   "metadata": {},
   "outputs": [],
   "source": []
  }
 ],
 "metadata": {
  "kernelspec": {
   "display_name": "Julia 1.7.3",
   "language": "julia",
   "name": "julia-1.7"
  },
  "language_info": {
   "file_extension": ".jl",
   "mimetype": "application/julia",
   "name": "julia",
   "version": "1.7.3"
  },
  "orig_nbformat": 4
 },
 "nbformat": 4,
 "nbformat_minor": 2
}
